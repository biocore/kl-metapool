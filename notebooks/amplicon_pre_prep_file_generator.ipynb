{
 "cells": [
  {
   "cell_type": "code",
   "execution_count": null,
   "metadata": {},
   "outputs": [],
   "source": [
    "%reload_ext watermark\n",
    "%matplotlib inline\n",
    "from scipy.stats import mannwhitneyu, zscore\n",
    "from sklearn.linear_model import LogisticRegression\n",
    "from contextlib import suppress\n",
    "from metapool.plate import PlateReplication\n",
    "import os\n",
    "import glob\n",
    "from os.path import exists\n",
    "\n",
    "from metapool.metapool import *\n",
    "from metapool import (validate_plate_metadata, assign_emp_index, make_sample_sheet, KLSampleSheet, parse_prep, generate_qiita_prep_file, \n",
    "                            requires_dilution, dilute_gDNA, find_threshold, autopool, extract_stats_metadata, add_controls,\n",
    "                            compress_plates)\n",
    "%watermark -i -v -iv -m -h -p metapool,sample_sheet,openpyxl -u"
   ]
  },
  {
   "cell_type": "markdown",
   "metadata": {},
   "source": [
    "# Knight Lab Amplicon Pre-Preparation File Generator\n",
    "\n",
    "<font color='red'><B>A VERY IMPORTANT Note on Plate Compression and Positions:</B></font>\n",
    "\n",
    "This notebook works SPECIFICALLY with the STANDARD EpMotion compression format ONLY.\n",
    "PRIMERS are tied to our standard SPECIFIC PLATE POSITIONS outlined in the code, and CANNOT be changed.\n",
    "\n",
    "If you are not compressing in the standard compression format (position 1, position 2, position 3, position 4) that uses the plate map template below,\n",
    "DO NOT USE THIS NOTEBOOK TO GENERATE THE PRE-PREPARATION FILE.\n",
    "\n",
    "### What is it?\n",
    "\n",
    "This Jupyter Notebook allows you to automatically generate pre-preparation files for amplicon sequencing. It will allow you to merge multiple pre-preparation files from additional PCR preps.\n",
    "\n",
    "\n",
    "### Here's how it should work.\n",
    "\n",
    "You'll start out with a **384-well plate map** (platemap.tsv) in a 384-well compressed list format that indicates sample name, well IDs, project plates, etc.\n",
    "\n",
    "You can use this google sheet template to generate your plate map:\n",
    "\n",
    "https://docs.google.com/spreadsheets/d/1JCfnGO-6RRFuhOB1yVGMSj5qRFjiiUAUzprsw6IhugY/edit#gid=0\n",
    "\n",
    "Next you'll enter processing information (project/plate info, plating, extraction PCR), automatically assign EMP barcodes, and then generate a **pre-preparation file** that can be used in combination with the rest of the sequence processing pipeline. \n",
    "\n",
    "**Please designate what kind of amplicon sequencing you want to perform:**"
   ]
  },
  {
   "cell_type": "code",
   "execution_count": null,
   "metadata": {},
   "outputs": [],
   "source": [
    "seq_type = '16S'\n",
    "#options are ['16S', '18S', 'ITS']"
   ]
  },
  {
   "cell_type": "markdown",
   "metadata": {},
   "source": [
    "## Step 1: read in Sample Accession File\n",
    "**Enter the correct path to the sample accession file**. This will serve as a source for relating all subsequent information.<br>"
   ]
  },
  {
   "cell_type": "code",
   "execution_count": null,
   "metadata": {},
   "outputs": [],
   "source": [
    "sample_accession_fp = './test_data/Plate_Maps/2022_summer_Celeste_Adaptation_16_17_18_21_sa_file.tsv'\n",
    "if not os.path.isfile(sample_accession_fp):\n",
    "    print(\"Problem! %s is not a path to a valid file\" % file)\n",
    "\n",
    "sample_accession_df = pd.read_csv(sample_accession_fp,dtype={'TubeCode':str,\n",
    "                                                            'sample_name':str},\n",
    "                                 sep='\\t')\n",
    "sample_accession_df"
   ]
  },
  {
   "cell_type": "markdown",
   "metadata": {},
   "source": [
    "## Step 2: Read in the sample info from Qiita"
   ]
  },
  {
   "cell_type": "code",
   "execution_count": null,
   "metadata": {},
   "outputs": [],
   "source": [
    "metadata_fp = './test_data/Plate_Maps/12986_20230314-090655.txt'\n",
    "if not os.path.isfile(sample_accession_fp):\n",
    "    print(\"Problem! %s is not a path to a valid file\" % file)\n",
    "\n",
    "metadata = pd.read_csv(metadata_fp, sep='\\t')\n",
    "\n",
    "metadata.head()"
   ]
  },
  {
   "cell_type": "markdown",
   "metadata": {},
   "source": [
    "## Step 3: Assign the Compression Layout, enter and validate the PCR Primers and additional processing information."
   ]
  },
  {
   "cell_type": "markdown",
   "metadata": {
    "jp-MarkdownHeadingCollapsed": true
   },
   "source": [
    "This portion of the notebook will assign a barcode to each sample according to the primer plate number. Additionally, you will add sample plate information and processing information that is obtained during plating, extraction, and PCR.\n",
    "\n",
    "As inputs, it requires:\n",
    "1. A plate map tsv file from the VisionMate barcode reader. \n",
    "2. Most importantly, we need the Primer Plate # so we know what **EMP barcodes** to assign to each plate\n",
    "3. Project and extraction plate information.\n",
    "4. Processing information, or preparation metadata, for each plate\n",
    "\n",
    "The workflow then:\n",
    "1. Compresses the extraction plates into 384-well format. \n",
    "2. Joins the processing information & barcode assignments with the plate metadata\n",
    "3. Assigns indices per sample\n",
    "4. Generates pre-preparation files"
   ]
  },
  {
   "cell_type": "markdown",
   "metadata": {},
   "source": [
    "- It is absolutely critical that the `Primer Plate #` and the `Plate Position` are accurate. `Primer Plate #` determines which EMP barcodes will be used for this plate. `Plate Position` determines the physical location of the plate. Make sure this input is consistent with what is recorded in the processing progress!\n",
    "- If you are plating less than four plates, then remove the metadata for that plate by deleting the text between the curly braces.\n",
    "- For missing fields, write 'not applicable' between the single quotes for example `'not applicable'`.\n",
    "- To enter a plate copy and paste the contents from the plates below.\n",
    "\n",
    "<font color=\"red\"><B>REMINDER: ONLY use this notebook if you compress your 384-well plate using the standard compression format and know what plates are located in each position.</B></font>"
   ]
  },
  {
   "cell_type": "code",
   "execution_count": null,
   "metadata": {},
   "outputs": [],
   "source": [
    "compression_layout = [\n",
    "    {\n",
    "        # top left plate\n",
    "        'Plate Position': '1',\n",
    "        'Primer Plate #': '1',\n",
    "        'Plate map file': './test_data/Plate_Maps/2022_summer_Celeste_Adaptation_16_plate_map.tsv', ## VisionMate output\n",
    "\n",
    "        #'sample_plate': 'Celeste_Adaptation_12986_Plate_16', # PROJECTNAME_QIITA_ID_Plate_#\n",
    "        'Sample Plate': 'Plate_16', # Plate_#\n",
    "        'Project Name': 'Celeste_Adaptation_12986', # PROJECTNAME_QIITAID\n",
    "        'center_project_name': 'Celeste Adapt', # what the wetlab calls the project\n",
    "        'Project Abbreviation': 'ADAPT', # what the wetlab calls the project\n",
    "        'experiment_design_description': '16S sequencing of antibiotic time series', # brief but specific project description\n",
    "        'Plate elution volume': '70',\n",
    "        \n",
    "        'Plating': 'SF', # initials\n",
    "        'Extraction Kit Lot': '166032128',\n",
    "        'Extraction Robot': 'Carmen_HOWE_KF3',\n",
    "        'TM1000 8 Tool': '109379Z',\n",
    "        'Primer Date': '2021-08-17', # yyyy-mm-dd\n",
    "        'MasterMix Lot': '978215',\n",
    "        'Water Lot': 'RNBJ0628',\n",
    "        'TM10 8 Tool': '865HS8',\n",
    "        'Processing Robot': 'Echo550',\n",
    "        'TM300 8 Tool': 'not applicable',\n",
    "        'TM50 8 Tool': 'not applicable',\n",
    "        'instrument_model': 'Illumina MiSeq',\n",
    "        'run_date': '2023-03-02', # date of MiSeq run\n",
    "        'Original Name': '' # leave empty\n",
    "    },\n",
    "    {\n",
    "        # top right plate\n",
    "        'Plate Position': '2',\n",
    "        'Primer Plate #': '2',\n",
    "        'Plate map file': './test_data/Plate_Maps/2022_summer_Celeste_Adaptation_17_plate_map.tsv',\n",
    "        \n",
    "        #'sample_plate': 'Celeste_Adaptation_12986_Plate_17', # PROJECTNAME_QIITA_ID_Plate_#\n",
    "        'Sample Plate': 'Plate_17', # Plate_#\n",
    "        'Project Name': 'Celeste_Adaptation_12986',\n",
    "        'center_project_name': 'Celeste Adapt', # what the wetlab calls the project\n",
    "        'Project Abbreviation': 'ADAPT',\n",
    "        'experiment_design_description': '16S sequencing of antibiotic time series',\n",
    "        'Plate elution volume': '70',\n",
    "\n",
    "        'Plating': 'SF',\n",
    "        'Extraction Kit Lot': '166032128',\n",
    "        'Extraction Robot': 'Carmen_HOWE_KF3',\n",
    "        'TM1000 8 Tool': '109379Z',\n",
    "        'Primer Date': '2021-08-17',\n",
    "        'MasterMix Lot': '978215',\n",
    "        'Water Lot': 'RNBJ0628',\n",
    "        'TM10 8 Tool': '865HS8',\n",
    "        'Processing Robot': 'Echo550',\n",
    "        'TM300 8 Tool': 'not applicable',\n",
    "        'TM50 8 Tool': 'not applicable',\n",
    "        'instrument_model': 'Illumina MiSeq',\n",
    "        'run_date': '2023-03-02',\n",
    "        'Original Name': ''\n",
    "    },\n",
    "    {\n",
    "        # bottom left plate\n",
    "        'Plate Position': '3',\n",
    "        'Primer Plate #': '3',\n",
    "        'Plate map file': './test_data/Plate_Maps/2022_summer_Celeste_Adaptation_18_plate_map.tsv',\n",
    "        'Plate elution volume': '70',\n",
    "\n",
    "        #'sample_plate': 'Celeste_Adaptation_12986_Plate_18', # PROJECTNAME_QIITA_ID_Plate_#\n",
    "        'Sample Plate': 'Plate_18', # Plate_#\n",
    "        'Project Name': 'Celeste_Adaptation_12986',\n",
    "        'center_project_name': 'Celeste Adapt', # what the wetlab calls the project\n",
    "        'Project Abbreviation': 'ADAPT',\n",
    "        'experiment_design_description': '16S sequencing of antibiotic time series',\n",
    "        \n",
    "        'Plating': 'SF',\n",
    "        'Extraction Kit Lot': '166032128',\n",
    "        'Extraction Robot': 'Carmen_HOWE_KF3',\n",
    "        'TM1000 8 Tool': '109379Z',\n",
    "        'Primer Date': '2021-08-17',\n",
    "        'MasterMix Lot': '978215',\n",
    "        'Water Lot': 'RNBJ0628',\n",
    "        'TM10 8 Tool': '865HS8',\n",
    "        'Processing Robot': 'Echo550',\n",
    "        'TM300 8 Tool': 'not applicable',\n",
    "        'TM50 8 Tool': 'not applicable',\n",
    "        'instrument_model': 'Illumina MiSeq',\n",
    "        'run_date': '2023-03-02',\n",
    "        'Original Name': ''\n",
    "    },\n",
    "    {\n",
    "        # bottom right plate\n",
    "        'Plate Position': '4',\n",
    "        'Primer Plate #': '4',\n",
    "        'Plate map file': './test_data/Plate_Maps/2022_summer_Celeste_Adaptation_21_plate_map.tsv',\n",
    "        'Plate elution volume': '70',\n",
    "\n",
    "        #'sample_plate': 'Celeste_Adaptation_12986_Plate_21', # PROJECTNAME_QIITA_ID_Plate_#\n",
    "        'Sample Plate': 'Plate_21', # PROJECTNAME_QIITA_ID_Plate_#\n",
    "        'Project Name': 'Celeste_Adaptation_12986',\n",
    "        'center_project_name': 'Celeste Adapt', # what the wetlab calls the project\n",
    "        'Project Abbreviation': 'ADAPT',\n",
    "        'experiment_design_description': '16S sequencing of antibiotic time series',\n",
    "        \n",
    "        'Plating': 'SF',\n",
    "        'Extraction Kit Lot': '166032128',\n",
    "        'Extraction Robot': 'Carmen_HOWE_KF3',\n",
    "        'TM1000 8 Tool': '109379Z',\n",
    "        'Primer Date': '2021-08-17',\n",
    "        'MasterMix Lot': '978215',\n",
    "        'Water Lot': 'RNBJ0628',\n",
    "        'TM10 8 Tool': '865HS8',\n",
    "        'Processing Robot': 'Echo550',\n",
    "        'TM300 8 Tool': 'not applicable',\n",
    "        'TM50 8 Tool': 'not applicable',\n",
    "        'instrument_model': 'Illumina MiSeq',\n",
    "        'run_date': '2023-03-02',\n",
    "        'Original Name': ''\n",
    "    },\n",
    "]\n",
    "\n",
    "plate_metadata = validate_plate_metadata(compression_layout)\n",
    "plate_metadata"
   ]
  },
  {
   "cell_type": "code",
   "execution_count": null,
   "metadata": {},
   "outputs": [],
   "source": [
    "well_col='Well'\n",
    "plate_df = compress_plates(compression_layout,sample_accession_df,well_col=well_col)"
   ]
  },
  {
   "cell_type": "code",
   "execution_count": null,
   "metadata": {},
   "outputs": [],
   "source": [
    "blanks_dir = './test_data/BLANKS'\n",
    "katharoseq_dir = './test_data/katharoseq'\n",
    "\n",
    "plate_df = add_controls(plate_df,blanks_dir,katharoseq_dir)"
   ]
  },
  {
   "cell_type": "markdown",
   "metadata": {},
   "source": [
    "## Validate plate dataframe"
   ]
  },
  {
   "cell_type": "code",
   "execution_count": null,
   "metadata": {},
   "outputs": [],
   "source": [
    "validate_plate_df(plate_df,metadata,sample_accession_df,blanks_dir,katharoseq_dir)"
   ]
  },
  {
   "cell_type": "markdown",
   "metadata": {},
   "source": [
    "After metadata is validated, compare the Project_Name values in plate_metadata against those in plate_df."
   ]
  },
  {
   "cell_type": "code",
   "execution_count": null,
   "metadata": {},
   "outputs": [],
   "source": [
    "project_names_in_input_plate_map_file = set(plate_df['Project Name'])\n",
    "project_names_in_metadata = set(plate_metadata['Project Name'])\n",
    "\n",
    "if project_names_in_input_plate_map_file == project_names_in_metadata:\n",
    "    print(\"Project-names in input plate-map file and metadata match.\")\n",
    "else:\n",
    "    print(f\"Error: Project-names in input plate-map file ({project_names_in_input_plate_map_file}) \"\n",
    "          f\"and metadata ({project_names_in_metadata}) do not match.\\nPlease correct this.\")"
   ]
  },
  {
   "cell_type": "markdown",
   "metadata": {},
   "source": [
    "The `Plate Position` and `Primer Plate #` allow us to figure out which wells are associated with each of the EMP barcodes."
   ]
  },
  {
   "cell_type": "code",
   "execution_count": null,
   "metadata": {},
   "outputs": [],
   "source": [
    "if plate_metadata is not None:\n",
    "    plate_df = assign_emp_index(plate_df.drop(columns=['Project Name','Project Abbreviation','Plate Position']), plate_metadata, seq_type).reset_index()\n",
    "\n",
    "    plate_df.head()\n",
    "else:\n",
    "    print('Error: Please fix the errors in the previous cell')"
   ]
  },
  {
   "cell_type": "markdown",
   "metadata": {},
   "source": [
    "As you can see in the table above, the resulting table is now associated with the corresponding EMP barcodes (`Golay Barcode`, `Forward Primer Linker`, etc), and the plating metadata (`Primer Plate #`, `Primer Date`, `Water Lot`, etc)."
   ]
  },
  {
   "cell_type": "code",
   "execution_count": null,
   "metadata": {},
   "outputs": [],
   "source": [
    "plate_df.columns"
   ]
  },
  {
   "cell_type": "markdown",
   "metadata": {},
   "source": [
    "## Step 3: Pre-Preparation File Generation for Qiita\n",
    "The Pre-Preparation File is generated before the MiSeq run and sent to the KL team as soon as the MiSeq run starts. Additional run information is added to the pre-preparation file post-sequencing in order to generate the preparation file.\n",
    "\n",
    "\n",
    "Output file needs to be in .txt and have the following format:\n",
    "**YYYYMMDD_SEQPRIMERS_PROJECT_QIITAID_Plate_#s.txt**\n",
    "- SEQ Primers 16S: **IL515fBC_806**\n",
    "- SEQ Primers ITS: **ILITS**\n",
    "- SEQ Primers: 18S: **IL18S**"
   ]
  },
  {
   "cell_type": "markdown",
   "metadata": {},
   "source": [
    "Generate pre-preparation file for current samples"
   ]
  },
  {
   "cell_type": "code",
   "execution_count": null,
   "metadata": {},
   "outputs": [],
   "source": [
    "# output file needs to have .txt extension and contain the correct format (shown above).\n",
    "output_filename = './test_output/amplicon/20230302_IL515fBC_806_Celeste_Adaptation_12986_Plate_16_17_18_21.txt'\n",
    "\n",
    "qiita_df = generate_qiita_prep_file(plate_df, seq_type)\n",
    "\n",
    "qiita_df.info()\n",
    "\n",
    "#qiita_df['well_description']"
   ]
  },
  {
   "cell_type": "code",
   "execution_count": null,
   "metadata": {},
   "outputs": [],
   "source": [
    "qiita_df.set_index('sample_name', verify_integrity=True, inplace=True)\n",
    "\n",
    "qiita_df.to_csv(output_filename, sep='\\t')\n",
    "\n",
    "qiita_df"
   ]
  },
  {
   "cell_type": "markdown",
   "metadata": {},
   "source": [
    "## Step 4: Combine Plates (Optional)\n",
    "\n",
    "If you would like to combine existing plates with these samples, enter the path to their corresponding pre-preparation files below."
   ]
  },
  {
   "cell_type": "code",
   "execution_count": null,
   "metadata": {},
   "outputs": [],
   "source": [
    "# additional prep-prep files to merge w/qiita_df\n",
    "files = ['./20230201_IL515fBC_806r_ABTX_11052_174_178_182_185_MF_notebook_updated.txt']\n",
    "\n",
    "# filename for the merged-output file:\n",
    "merged_output_filename = './20230203_IL515fBC_806_ABTX_11052_Plates_174_178_182_185_ADAPT_12986_Plate_16_17_18_21_merged.txt'"
   ]
  },
  {
   "cell_type": "code",
   "execution_count": null,
   "metadata": {},
   "outputs": [],
   "source": [
    "preps = []\n",
    "\n",
    "for f in files:\n",
    "    preps.append(parse_prep(f))\n",
    "    \n",
    "# if running Step 4, assume preps and files are not empty\n",
    "    \n",
    "'%d file(s) loaded' % len(files)"
   ]
  },
  {
   "cell_type": "code",
   "execution_count": null,
   "metadata": {},
   "outputs": [],
   "source": [
    "prep = pd.concat(preps + [qiita_df])\n",
    "prep"
   ]
  },
  {
   "cell_type": "code",
   "execution_count": null,
   "metadata": {},
   "outputs": [],
   "source": [
    "# lambda function used to extract plate-number from 'sample_plate' column\n",
    "get_plate_num = lambda x: int(x.split('_')[-1])\n",
    "\n",
    "# create a temporary column to record the row's plate-number\n",
    "prep['plate_number'] = prep['sample_plate'].apply(get_plate_num)\n",
    "\n",
    "# list all available sample_plate values for selection\n",
    "sorted(list(prep.sample_plate.unique()))"
   ]
  },
  {
   "cell_type": "code",
   "execution_count": null,
   "metadata": {},
   "outputs": [],
   "source": [
    "# Add the plate-numbers to retain in final merged output, or leave emtpy to write all to file.\n",
    "keep_these = ['ABTX_Plate_174', 'ABTX_Plate_178']\n",
    "\n",
    "if keep_these:\n",
    "    # filter out other plate-numbers\n",
    "    prep = prep.loc[prep['sample_plate'].isin(keep_these)]\n",
    "\n",
    "prep"
   ]
  },
  {
   "cell_type": "code",
   "execution_count": null,
   "metadata": {},
   "outputs": [],
   "source": [
    "# delete temporary column and write the final result to file.\n",
    "prep = prep.drop('plate_number', axis=1)\n",
    "prep.to_csv(merged_output_filename, sep='\\t')"
   ]
  },
  {
   "cell_type": "code",
   "execution_count": null,
   "metadata": {},
   "outputs": [],
   "source": []
  }
 ],
 "metadata": {
  "kernelspec": {
   "display_name": "Python 3 (ipykernel)",
   "language": "python",
   "name": "python3"
  },
  "language_info": {
   "codemirror_mode": {
    "name": "ipython",
    "version": 3
   },
   "file_extension": ".py",
   "mimetype": "text/x-python",
   "name": "python",
   "nbconvert_exporter": "python",
   "pygments_lexer": "ipython3",
   "version": "3.9.19"
  },
  "toc": {
   "base_numbering": 1,
   "nav_menu": {},
   "number_sections": true,
   "sideBar": true,
   "skip_h1_title": false,
   "title_cell": "Table of Contents",
   "title_sidebar": "Contents",
   "toc_cell": false,
   "toc_position": {},
   "toc_section_display": true,
   "toc_window_display": false
  }
 },
 "nbformat": 4,
 "nbformat_minor": 4
}

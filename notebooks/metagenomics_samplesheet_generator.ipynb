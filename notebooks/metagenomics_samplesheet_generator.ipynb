{
 "cells": [
  {
   "cell_type": "code",
   "execution_count": null,
   "metadata": {},
   "outputs": [],
   "source": [
    "%reload_ext watermark\n",
    "%matplotlib inline\n",
    "\n",
    "import os\n",
    "from metapool.metapool import *\n",
    "from metapool import make_sample_sheet, IGMManifest\n",
    "%watermark -i -v -iv -m -h -p metapool,sample_sheet,openpyxl -u"
   ]
  },
  {
   "cell_type": "markdown",
   "metadata": {},
   "source": [
    "# Knight Lab metagenomics sample sheet generator \n",
    "\n",
    "### What is it?\n",
    "\n",
    "This Jupyter Notebook allows you to automatically generate sample sheets for metagenomic sequencing. \n",
    "\n",
    "\n",
    "### Here's how it should work.\n",
    "\n",
    "You'll start out with a **basic plate map** (platemap.tsv) , which just links each sample to it's approprite row and column.\n",
    "\n",
    "You can use this google sheet template to generate your plate map:\n",
    "\n",
    "https://docs.google.com/spreadsheets/d/1xPjB6iR3brGeG4bm2un4ISSsTDxFw5yME09bKqz0XNk/edit?usp=sharing\n",
    "\n",
    "Next you'll automatically assign dual indexes to each sample in order to produce a **sample sheet** (samplesheet.csv) that you can give directly to IGM for sequencing. "
   ]
  },
  {
   "cell_type": "markdown",
   "metadata": {},
   "source": [
    "## Step 1: read in plate map\n",
    "\n",
    "**Enter the correct path to the plate map file**. This will serve as the plate map for relating all subsequent information."
   ]
  },
  {
   "cell_type": "code",
   "execution_count": null,
   "metadata": {},
   "outputs": [],
   "source": [
    "plate_map_fp = './test_data/Plate_Maps/Finrisk 33-36_plate_map.tsv'\n",
    "\n",
    "if not os.path.isfile(plate_map_fp):\n",
    "    print(\"Problem! %s is not a path to a valid file\" % file)"
   ]
  },
  {
   "cell_type": "markdown",
   "metadata": {},
   "source": [
    "**Read in the plate map**. It should look something like this:\n",
    "\n",
    "```\n",
    "Sample\tRow\tCol\tBlank\n",
    "GLY_01_012\tA\t1\tFalse\n",
    "GLY_14_034\tB\t1\tFalse\n",
    "GLY_11_007\tC\t1\tFalse\n",
    "GLY_28_018\tD\t1\tFalse\n",
    "GLY_25_003\tE\t1\tFalse\n",
    "GLY_06_106\tF\t1\tFalse\n",
    "GLY_07_011\tG\t1\tFalse\n",
    "GLY_18_043\tH\t1\tFalse\n",
    "GLY_28_004\tI\t1\tFalse\n",
    "```\n",
    "\n",
    "**Make sure there a no duplicate IDs**. If each sample doesn't have a different name, an **error** will be thrown and you won't be able to generate a sample sheet."
   ]
  },
  {
   "cell_type": "code",
   "execution_count": null,
   "metadata": {},
   "outputs": [],
   "source": [
    "plate_df = read_plate_map_csv(open(plate_map_fp,'r'))\n",
    "\n",
    "plate_df.head()"
   ]
  },
  {
   "cell_type": "markdown",
   "metadata": {},
   "source": [
    "# Assign barcode combination\n",
    "\n",
    "This portion of the notebook will assign a unique combination of dual indeces to each sample. \n",
    "\n",
    "As inputs, it requires:\n",
    "1. A plate map dataframe (from previous step)\n",
    "2. A tab-delimited index combination file, relating index combinations, i5 and i7 index values, and i5 and i7 index locations\n",
    "\n",
    "The workflow then:\n",
    "1. reads in the index combo list\n",
    "2. assigns indices per sample"
   ]
  },
  {
   "cell_type": "markdown",
   "metadata": {},
   "source": [
    "## Step 2: Read in index combo list\n",
    "\n",
    "This is a file that contains every possible i5 and i7 barcode combo on a separate line,\n",
    "along with plate and well location information. It should look something like this:\n",
    "\n",
    "```\n",
    "index combo,index combo seq,i5 name,i5 sequence,i5 well,i5 plate,i7 name,i7 sequence,i7 well,i7 plate\n",
    "0,ACCGACAAACGTTACC,iTru5_01_A,ACCGACAA,A1,iTru5_plate,iTru7_101_01,ACGTTACC,A1,iTru7_plate\n",
    "1,AGTGGCAACTGTGTTG,iTru5_01_B,AGTGGCAA,B1,iTru5_plate,iTru7_101_02,CTGTGTTG,A2,iTru7_plate\n",
    "2,CACAGACTTGAGGTGT,iTru5_01_C,CACAGACT,C1,iTru5_plate,iTru7_101_03,TGAGGTGT,A3,iTru7_plate\n",
    "3,CGACACTTGATCCATG,iTru5_01_D,CGACACTT,D1,iTru5_plate,iTru7_101_04,GATCCATG,A4,iTru7_plate\n",
    "4,GACTTGTGGCCTATCA,iTru5_01_E,GACTTGTG,E1,iTru5_plate,iTru7_101_05,GCCTATCA,A5,iTru7_plate\n",
    "5,GTGAGACTAACAACCG,iTru5_01_F,GTGAGACT,F1,iTru5_plate,iTru7_101_06,AACAACCG,A6,iTru7_plate\n",
    "6,GTTCCATGACTCGTTG,iTru5_01_G,GTTCCATG,G1,iTru5_plate,iTru7_101_07,ACTCGTTG,A7,iTru7_plate\n",
    "7,TAGCTGAGCCTATGGT,iTru5_01_H,TAGCTGAG,H1,iTru5_plate,iTru7_101_08,CCTATGGT,A8,iTru7_plate\n",
    "8,CTTCGCAATGTACACC,iTru5_02_A,CTTCGCAA,I1,iTru5_plate,iTru7_101_09,TGTACACC,A9,iTru7_plate\n",
    "```"
   ]
  },
  {
   "cell_type": "code",
   "execution_count": null,
   "metadata": {},
   "outputs": [],
   "source": [
    "index_combo_fp = './test_output/iTru/temp_iTru_combos.csv'\n",
    "\n",
    "if not os.path.isfile(index_combo_fp):\n",
    "    print(\"Problem! %s is not a path to a valid file\" % file)"
   ]
  },
  {
   "cell_type": "code",
   "execution_count": null,
   "metadata": {},
   "outputs": [],
   "source": [
    "index_combos = pd.read_csv(index_combo_fp)\n",
    "index_combos.head()"
   ]
  },
  {
   "cell_type": "markdown",
   "metadata": {},
   "source": [
    "## Step 3: Assign index combo\n",
    "\n",
    "This will pick a set of index combos from the index combo for the number of samples in the `plate_df` DataFrame.\n",
    "\n",
    "Specify the PrimerPlate you used to assign barcodes. "
   ]
  },
  {
   "cell_type": "code",
   "execution_count": null,
   "metadata": {},
   "outputs": [],
   "source": [
    "primerplate_combo = 1\n",
    "\n",
    "starting_combo = (primerplate_combo - 1)*384\n",
    "\n",
    "indices = assign_index(len(plate_df['Sample']), index_combos, start_idx=starting_combo).reset_index()\n",
    "\n",
    "plate_df = pd.concat([plate_df, indices], axis=1)\n",
    "\n",
    "plate_df.head()"
   ]
  },
  {
   "cell_type": "markdown",
   "metadata": {
    "collapsed": true,
    "jupyter": {
     "outputs_hidden": true
    }
   },
   "source": [
    "# Make HiSeq sample sheet\n",
    "\n",
    "This workflow takes the pooled sample information and writes an Illumina sample sheet that can be given directly to the sequencing center. \n",
    "\n",
    "As inputs, this notebook requires:\n",
    "1. A plate map DataFrame (from previous step)\n",
    "\n",
    "The workflow:\n",
    "1. formats sample names as bcl2fastq-compatible\n",
    "2. formats sample data\n",
    "3. sets values for sample sheet fields and formats sample sheet.\n",
    "4. writes the sample sheet to a file"
   ]
  },
  {
   "cell_type": "markdown",
   "metadata": {},
   "source": [
    "## Step 1: Format sample names to be bcl2fastq-compatible\n",
    "\n",
    "bcl2fastq requires *only* alphanumeric, hyphens, and underscore characters. We'll replace all non-those characters\n",
    "with underscores and add the bcl2fastq-compatible names to the DataFrame."
   ]
  },
  {
   "cell_type": "code",
   "execution_count": null,
   "metadata": {},
   "outputs": [],
   "source": [
    "plate_df['sample sheet Sample_ID'] = plate_df['Sample'].map(bcl_scrub_name)\n",
    "\n",
    "plate_df.head()"
   ]
  },
  {
   "cell_type": "markdown",
   "metadata": {},
   "source": [
    "## Step 2: format sample sheet data\n",
    "\n",
    "This step formats the data columns appropriately for the sample sheet, using the values we've calculated previously.\n",
    "\n",
    "The newly-created bcl2fastq-compatible names will be in the **`Sample ID`** and **`Sample Name`** columns. The\n",
    "original sample names will be in the **`Description`** column.\n",
    "\n",
    "Modify **`lanes`** to indicate which lanes this pool will be sequenced on.\n",
    "\n",
    "**Project Name and Project Plate values will be placed in the **`Sample_Project`** and **`Sample_Name`**\n",
    "columns, respectively.\n",
    "\n",
    "**`sequencer`** is important for making sure the i5 index is in the correct orientation for demultiplexing. `HiSeq4000`, `HiSeq3000`, `NextSeq`, and `MiniSeq` all require reverse-complemented i5 index sequences. If you enter one of these exact strings in for `sequencer`, it will revcomp the i5 sequence for you.\n",
    "\n",
    "`HiSeq2500`, `MiSeq`, and `NovaSeq` will not revcomp the i5 sequence. "
   ]
  },
  {
   "cell_type": "code",
   "execution_count": null,
   "metadata": {},
   "outputs": [],
   "source": [
    "plate_df['Project Name'] = 'Example_Project_1'\n",
    "plate_df['Project Plate'] = 'Example Plate 1'\n",
    "sequencer = 'HiSeq4000'\n",
    "lanes = [1, 2, 3, 4]\n",
    "\n",
    "# Knight Lab Nextera is also valid\n",
    "metadata = {\n",
    "    'Bioinformatics': [\n",
    "        {\n",
    "         'Sample_Project': 'Example_Project_1',\n",
    "         'QiitaID': '1',\n",
    "         'BarcodesAreRC': 'False',\n",
    "         'ForwardAdapter': 'GATCGGAAGAGCACACGTCTGAACTCCAGTCAC',\n",
    "         'ReverseAdapter': 'GATCGGAAGAGCGTCGTGTAGGGAAAGGAGTGT',\n",
    "         'HumanFiltering': 'True',\n",
    "         'library_construction_protocol': 'Knight Lab KAPA HyperPlus',\n",
    "         'experiment_design_description': 'Example_Project_1_Description',\n",
    "         'contains_replicates': False\n",
    "        },\n",
    "    ],\n",
    "    'Contact': [\n",
    "        {\n",
    "         'Sample_Project': 'Example_Project_1',\n",
    "         # non-admin contacts who want to know when the sequences\n",
    "         # are available in Qiita\n",
    "         'Email': 'jonsan@gmail.com'\n",
    "        },\n",
    "    ],\n",
    "    'Assay': 'Metagenomic',\n",
    "    'SheetType': 'standard_metag',\n",
    "    'SheetVersion': '100'\n",
    "}\n",
    "\n",
    "sheet = make_sample_sheet(metadata, plate_df, sequencer, lanes)"
   ]
  },
  {
   "cell_type": "markdown",
   "metadata": {},
   "source": [
    "Validate the contents of the sample sheet.\n",
    "This method will return False if the sample-sheet contains Errors or True if it doesn't (Warnings don't count).\n",
    "Warning and/or Error messages will be displayed below."
   ]
  },
  {
   "cell_type": "code",
   "execution_count": null,
   "metadata": {},
   "outputs": [],
   "source": [
    "sheet.validate_and_scrub_sample_sheet()"
   ]
  },
  {
   "cell_type": "markdown",
   "metadata": {},
   "source": [
    "## Step 4: Write the sample sheet to file"
   ]
  },
  {
   "cell_type": "code",
   "execution_count": null,
   "metadata": {},
   "outputs": [],
   "source": [
    "# write sample sheet as .csv\n",
    "sample_sheet_fp = './test_output/SampleSheets/YYYY_MM_DD_FinRisk_33-36_samplesheet.csv'\n",
    "\n",
    "if os.path.isfile(sample_sheet_fp):\n",
    "    print(\"Warning! This file exists already.\")"
   ]
  },
  {
   "cell_type": "code",
   "execution_count": null,
   "metadata": {},
   "outputs": [],
   "source": [
    "with open(sample_sheet_fp,'w') as f:\n",
    "    sheet.write(f)\n",
    "    \n",
    "!head -n 30 {sample_sheet_fp}\n",
    "!echo ...\n",
    "!tail -n 15 {sample_sheet_fp}"
   ]
  },
  {
   "cell_type": "markdown",
   "metadata": {},
   "source": [
    "# Create a Manifest file for IGM\n",
    "\n",
    "Make sure you update the correct values for the attributes below. If you need to update the defaults, type `fest.` and hit tab to see what other values can be changed. The number of samples will be determined based on the number of samples in the sample sheet, but you have to enter the value for the number of lanes, and the names of the pools (one per line)."
   ]
  },
  {
   "cell_type": "code",
   "execution_count": null,
   "metadata": {},
   "outputs": [],
   "source": [
    "fest = IGMManifest()\n",
    "\n",
    "fest.number_of_samples = len(sheet)\n",
    "fest.number_of_lanes = 1\n",
    "\n",
    "# remove plate naming\n",
    "fest.pools = [\n",
    "    'FILL IN POOL NAME',\n",
    "    # 'FILL IN SECOND POOL NAME ...',\n",
    "]\n",
    "\n",
    "fest.write('./test_output/SampleSheets/YYYY_MM_DD_PI_Sequencing_Runs_Manifest_2021.xlsx')"
   ]
  }
 ],
 "metadata": {
  "kernelspec": {
   "display_name": "Python 3 (ipykernel)",
   "language": "python",
   "name": "python3"
  },
  "language_info": {
   "codemirror_mode": {
    "name": "ipython",
    "version": 3
   },
   "file_extension": ".py",
   "mimetype": "text/x-python",
   "name": "python",
   "nbconvert_exporter": "python",
   "pygments_lexer": "ipython3",
   "version": "3.9.18"
  },
  "toc": {
   "base_numbering": 1,
   "nav_menu": {},
   "number_sections": true,
   "sideBar": true,
   "skip_h1_title": false,
   "title_cell": "Table of Contents",
   "title_sidebar": "Contents",
   "toc_cell": false,
   "toc_position": {},
   "toc_section_display": true,
   "toc_window_display": false
  }
 },
 "nbformat": 4,
 "nbformat_minor": 4
}

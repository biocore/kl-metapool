{
 "cells": [
  {
   "cell_type": "markdown",
   "id": "4173e1f3c9021aad",
   "metadata": {
    "collapsed": false
   },
   "source": [
    "# NPH Absolute Quant Sample Info\n",
    "\n",
    "This notebook populates, calculates, and concatenates NPH information starting from a .csv file obtained from the Core that contains NPH sample info. The output is a .txt file that will be uploaded into the appropriate Qiita Study sample information metadata file."
   ]
  },
  {
   "cell_type": "markdown",
   "id": "d7b6bd2ef4f57132",
   "metadata": {
    "collapsed": false
   },
   "source": [
    ">--------------------------------------------------\n",
    "> #### Before starting:\n",
    "> \n",
    "> * Update the config with the LATEST LOT INFORMATION \n",
    ">   - Get latest lot info from MacKenzie\n",
    ">   - Update the \"abs_quant_sample_info_calc.yml\" file \n",
    ">       - Remember: NO TABS in .yml files!\n",
    "> * **MAKE A NEW COPY OF THIS NOTEBOOK for each 96-well plate that is extracted for the abs-quant pipeline.**\n",
    ">--------------------------------------------------"
   ]
  },
  {
   "cell_type": "markdown",
   "id": "a61bbedbd683db20",
   "metadata": {
    "collapsed": false
   },
   "source": [
    "### Inputs\n",
    "\n",
    "#### Enter the path to the .csv file from the Core:"
   ]
  },
  {
   "cell_type": "code",
   "execution_count": null,
   "id": "de6c6d6b9fad4ecc",
   "metadata": {
    "collapsed": false
   },
   "outputs": [],
   "source": [
    "core_metadata_fp = \"\""
   ]
  },
  {
   "cell_type": "markdown",
   "id": "e1fc549cb1fc412d",
   "metadata": {
    "collapsed": false
   },
   "source": [
    "#### Enter the path where the output file should be saved :"
   ]
  },
  {
   "cell_type": "code",
   "execution_count": null,
   "id": "4d3d3816912b3c2e",
   "metadata": {
    "collapsed": false
   },
   "outputs": [],
   "source": [
    "output_fp = \"\""
   ]
  },
  {
   "cell_type": "markdown",
   "id": "c9668f44b3251e56",
   "metadata": {
    "collapsed": false
   },
   "source": [
    "ONLY if the storage liquid has changed, update the following information: "
   ]
  },
  {
   "cell_type": "code",
   "execution_count": null,
   "id": "2a60447351658c3a",
   "metadata": {
    "collapsed": false
   },
   "outputs": [],
   "source": [
    "storage_liquid_type = 'zymo_dna_rna_shield'"
   ]
  },
  {
   "cell_type": "code",
   "execution_count": null,
   "id": "97aaf1d60091cbc1",
   "metadata": {
    "collapsed": false
   },
   "outputs": [],
   "source": [
    "# Never change the below for NPH, because stool is always the sample type\n",
    "sample_density_g_ml_key = \"density_stool_standardized_g_ml\""
   ]
  },
  {
   "cell_type": "markdown",
   "id": "e308138c850be194",
   "metadata": {
    "collapsed": false
   },
   "source": [
    "### Calculations"
   ]
  },
  {
   "cell_type": "code",
   "execution_count": null,
   "id": "bef1d97d4b699acb",
   "metadata": {
    "collapsed": false
   },
   "outputs": [],
   "source": [
    "import pandas as pd\n",
    "import metapool.abs_quant_sample_info"
   ]
  },
  {
   "cell_type": "code",
   "execution_count": null,
   "id": "7cf0426c-47e0-498b-83a1-36eb78c0e88b",
   "metadata": {},
   "outputs": [],
   "source": [
    "# Step 1: Import .csv file from Core and check input is as expected:"
   ]
  },
  {
   "cell_type": "code",
   "execution_count": null,
   "id": "0887ac35-7699-4d86-8786-02bbb0d70fd4",
   "metadata": {},
   "outputs": [],
   "source": [
    "# Import and define df\n",
    "calc_df = pd.read_csv(core_metadata_fp)"
   ]
  },
  {
   "cell_type": "code",
   "execution_count": null,
   "id": "948a91b6-ff06-422a-8621-ec08f9e9a4f0",
   "metadata": {
    "scrolled": true
   },
   "outputs": [],
   "source": [
    "# Check that calc_df looks as expected\n",
    "calc_df.head()"
   ]
  },
  {
   "cell_type": "code",
   "execution_count": null,
   "id": "32883aa8-f2b5-4120-82a3-954524f85a84",
   "metadata": {},
   "outputs": [],
   "source": [
    "# List column names that are currently present in calc_df\n",
    "list(calc_df.columns)"
   ]
  },
  {
   "cell_type": "code",
   "execution_count": null,
   "id": "0f712ae8-f911-46da-b37a-a9ae48ff1458",
   "metadata": {},
   "outputs": [],
   "source": [
    "# Check for tube_id and/or sample_name columns are present in file (this might change depending on what col name we move forward with)\n",
    "if 'tube_id' in calc_df.columns or 'sample_name' in calc_df.columns:\n",
    "   print(\"tube_id and/or sample_name column is present in file : OK to proceed\")\n",
    "else:\n",
    "   print(\"tube_id and/or sample_name column NOT present in file : DO NOT to proceed\")"
   ]
  },
  {
   "cell_type": "code",
   "execution_count": null,
   "id": "88ce9d80-5347-4c72-9287-7852a74f64fa",
   "metadata": {},
   "outputs": [],
   "source": [
    "# Step 2: Generate calculated values and add new columns to calc_df:"
   ]
  },
  {
   "cell_type": "code",
   "execution_count": null,
   "id": "d279be24-f8d2-45bd-8810-8bf060f4a976",
   "metadata": {},
   "outputs": [],
   "source": [
    "calc_df = metapool.abs_quant_sample_info.add_abs_quant_metadata(\n",
    "    calc_df, sample_density_g_ml_key, storage_liquid_type)"
   ]
  },
  {
   "cell_type": "code",
   "execution_count": null,
   "id": "6de61fe3-c99f-462b-ad66-370f723ac0bd",
   "metadata": {},
   "outputs": [],
   "source": [
    "# Step 3: Check output is as expected and export .csv:"
   ]
  },
  {
   "cell_type": "code",
   "execution_count": null,
   "id": "033d0deb-e742-40ac-af97-9509391d27db",
   "metadata": {
    "scrolled": true
   },
   "outputs": [],
   "source": [
    "# Check new columns are present and expected\n",
    "calc_df.head()"
   ]
  },
  {
   "cell_type": "code",
   "execution_count": null,
   "id": "00c6176e-232e-4af1-ab31-f5be8f275f63",
   "metadata": {},
   "outputs": [],
   "source": [
    "# Export .txt\n",
    "calc_df.to_csv(output_fp, sep='\\t', index=False)"
   ]
  }
 ],
 "metadata": {
  "kernelspec": {
   "display_name": "Python 3 (ipykernel)",
   "language": "python",
   "name": "python3"
  },
  "language_info": {
   "codemirror_mode": {
    "name": "ipython",
    "version": 3
   },
   "file_extension": ".py",
   "mimetype": "text/x-python",
   "name": "python",
   "nbconvert_exporter": "python",
   "pygments_lexer": "ipython3",
   "version": "3.12.0"
  }
 },
 "nbformat": 4,
 "nbformat_minor": 5
}

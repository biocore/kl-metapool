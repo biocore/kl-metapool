{
 "cells": [
  {
   "cell_type": "code",
   "metadata": {
    "ExecuteTime": {
     "end_time": "2024-12-05T00:59:50.779685Z",
     "start_time": "2024-12-05T00:59:47.898179Z"
    }
   },
   "source": [
    "import pandas as pd\n",
    "%reload_ext watermark\n",
    "%matplotlib inline\n",
    "\n",
    "from contextlib import suppress\n",
    "from datetime import datetime\n",
    "import os\n",
    "import yaml\n",
    "\n",
    "from metapool.metapool import *\n",
    "from metapool import (make_sample_sheet, find_threshold, autopool)\n",
    "from metapool.mp_strings import (PM_LIB_WELL_KEY, PM_COMPRESSED_PLATE_NAME_KEY,\n",
    "    MINIPICO_LIB_CONC_KEY, TELLSEQ_BARCODE_SET_ID_KEY, TELLSEQ_BARCODE_ID_KEY)\n",
    "from metapool.sample_sheet import (\n",
    "    TELLSEQ_METAG_SHEET_TYPE, TELLSEQ_ABSQUANT_SHEET_TYPE, make_sections_dict)\n",
    "from metapool.util import get_set_fp, warn_if_fp_exists\n",
    "%watermark -i -v -iv -m -h -p metapool,sample_sheet,openpyxl -u"
   ],
   "outputs": [
    {
     "name": "stdout",
     "output_type": "stream",
     "text": [
      "Last updated: 2024-12-04T16:59:50.743830-08:00\n",
      "\n",
      "Python implementation: CPython\n",
      "Python version       : 3.9.19\n",
      "IPython version      : 8.12.0\n",
      "\n",
      "metapool    : 0+untagged.221.gd899203\n",
      "sample_sheet: 0.13.0\n",
      "openpyxl    : 3.1.4\n",
      "\n",
      "Compiler    : Clang 16.0.6 \n",
      "OS          : Darwin\n",
      "Release     : 24.1.0\n",
      "Machine     : x86_64\n",
      "Processor   : i386\n",
      "CPU cores   : 16\n",
      "Architecture: 64bit\n",
      "\n",
      "Hostname: C02G21EEMD6Q\n",
      "\n",
      "matplotlib: 3.9.0\n",
      "pandas    : 2.2.2\n",
      "yaml      : 6.0.1\n",
      "seaborn   : 0.13.2\n",
      "json      : 2.0.9\n",
      "numpy     : 2.0.0\n",
      "re        : 2.2.1\n",
      "\n"
     ]
    }
   ],
   "execution_count": 1
  },
  {
   "cell_type": "code",
   "metadata": {
    "ExecuteTime": {
     "end_time": "2024-12-05T00:59:52.656375Z",
     "start_time": "2024-12-05T00:59:50.782366Z"
    }
   },
   "source": [
    "! conda list"
   ],
   "outputs": [
    {
     "name": "stdout",
     "output_type": "stream",
     "text": [
      "# packages in environment at /Applications/miniconda3/envs/metapool:\r\n",
      "#\r\n",
      "# Name                    Version                   Build  Channel\r\n",
      "anyio                     4.4.0              pyhd8ed1ab_0    conda-forge\r\n",
      "appnope                   0.1.4              pyhd8ed1ab_0    conda-forge\r\n",
      "argon2-cffi               23.1.0             pyhd8ed1ab_0    conda-forge\r\n",
      "argon2-cffi-bindings      21.2.0           py39hdc70f33_4    conda-forge\r\n",
      "arrow                     1.3.0              pyhd8ed1ab_0    conda-forge\r\n",
      "asttokens                 2.4.1              pyhd8ed1ab_0    conda-forge\r\n",
      "async-lru                 2.0.4              pyhd8ed1ab_0    conda-forge\r\n",
      "attrs                     23.2.0             pyh71513ae_0    conda-forge\r\n",
      "babel                     2.14.0             pyhd8ed1ab_0    conda-forge\r\n",
      "backcall                  0.2.0              pyh9f0ad1d_0    conda-forge\r\n",
      "beautifulsoup4            4.12.3             pyha770c72_0    conda-forge\r\n",
      "biom-format               2.1.16                   pypi_0    pypi\r\n",
      "bleach                    6.1.0              pyhd8ed1ab_0    conda-forge\r\n",
      "brotli                    1.1.0                h0dc2134_1    conda-forge\r\n",
      "brotli-bin                1.1.0                h0dc2134_1    conda-forge\r\n",
      "brotli-python             1.1.0            py39h840bb9f_1    conda-forge\r\n",
      "bzip2                     1.0.8                h10d778d_5    conda-forge\r\n",
      "ca-certificates           2024.6.2             h8857fd0_0    conda-forge\r\n",
      "cached-property           1.5.2                hd8ed1ab_1    conda-forge\r\n",
      "cached_property           1.5.2              pyha770c72_1    conda-forge\r\n",
      "certifi                   2024.6.2           pyhd8ed1ab_0    conda-forge\r\n",
      "cffi                      1.16.0           py39h18ef598_0    conda-forge\r\n",
      "charset-normalizer        3.3.2              pyhd8ed1ab_0    conda-forge\r\n",
      "click                     8.1.7                    pypi_0    pypi\r\n",
      "comm                      0.2.2              pyhd8ed1ab_0    conda-forge\r\n",
      "contourpy                 1.2.1            py39h0ca7971_0    conda-forge\r\n",
      "coverage                  7.5.4                    pypi_0    pypi\r\n",
      "coveralls                 4.0.1                    pypi_0    pypi\r\n",
      "cycler                    0.12.1             pyhd8ed1ab_0    conda-forge\r\n",
      "debugpy                   1.8.2            py39h09c4c31_0    conda-forge\r\n",
      "decorator                 5.1.1              pyhd8ed1ab_0    conda-forge\r\n",
      "defusedxml                0.7.1              pyhd8ed1ab_0    conda-forge\r\n",
      "docopt                    0.6.2                    pypi_0    pypi\r\n",
      "entrypoints               0.4                pyhd8ed1ab_0    conda-forge\r\n",
      "et_xmlfile                1.1.0              pyhd8ed1ab_0    conda-forge\r\n",
      "exceptiongroup            1.2.0              pyhd8ed1ab_2    conda-forge\r\n",
      "executing                 2.0.1              pyhd8ed1ab_0    conda-forge\r\n",
      "flake8                    7.1.0              pyhd8ed1ab_0    conda-forge\r\n",
      "fonttools                 4.53.0           py39hded5825_0    conda-forge\r\n",
      "fqdn                      1.5.1              pyhd8ed1ab_0    conda-forge\r\n",
      "freetype                  2.12.1               h60636b9_2    conda-forge\r\n",
      "future                    1.0.0                    pypi_0    pypi\r\n",
      "h11                       0.14.0             pyhd8ed1ab_0    conda-forge\r\n",
      "h2                        4.1.0            py39h6e9494a_0    conda-forge\r\n",
      "h5py                      3.11.0                   pypi_0    pypi\r\n",
      "hpack                     4.0.0              pyh9f0ad1d_0    conda-forge\r\n",
      "httpcore                  1.0.5              pyhd8ed1ab_0    conda-forge\r\n",
      "httpx                     0.27.0             pyhd8ed1ab_0    conda-forge\r\n",
      "hyperframe                6.0.1              pyhd8ed1ab_0    conda-forge\r\n",
      "idna                      3.7                pyhd8ed1ab_0    conda-forge\r\n",
      "importlib-metadata        8.0.0              pyha770c72_0    conda-forge\r\n",
      "importlib-resources       6.4.0              pyhd8ed1ab_0    conda-forge\r\n",
      "importlib_metadata        8.0.0                hd8ed1ab_0    conda-forge\r\n",
      "importlib_resources       6.4.0              pyhd8ed1ab_0    conda-forge\r\n",
      "ipykernel                 6.29.5             pyh57ce528_0    conda-forge\r\n",
      "ipython                   8.12.0             pyhd1c38e8_0    conda-forge\r\n",
      "ipython-genutils          0.2.0                    pypi_0    pypi\r\n",
      "ipywidgets                8.1.3              pyhd8ed1ab_0    conda-forge\r\n",
      "isoduration               20.11.0            pyhd8ed1ab_0    conda-forge\r\n",
      "jedi                      0.19.1             pyhd8ed1ab_0    conda-forge\r\n",
      "jinja2                    3.1.4              pyhd8ed1ab_0    conda-forge\r\n",
      "joblib                    1.4.2              pyhd8ed1ab_0    conda-forge\r\n",
      "json5                     0.9.25             pyhd8ed1ab_0    conda-forge\r\n",
      "jsonpointer               3.0.0            py39h6e9494a_0    conda-forge\r\n",
      "jsonschema                4.22.0             pyhd8ed1ab_0    conda-forge\r\n",
      "jsonschema-specifications 2023.12.1          pyhd8ed1ab_0    conda-forge\r\n",
      "jsonschema-with-format-nongpl 4.22.0             pyhd8ed1ab_0    conda-forge\r\n",
      "jupyter                   1.0.0             pyhd8ed1ab_10    conda-forge\r\n",
      "jupyter-contrib-core      0.4.2                    pypi_0    pypi\r\n",
      "jupyter-contrib-nbextensions 0.7.0                    pypi_0    pypi\r\n",
      "jupyter-highlight-selected-word 0.2.0                    pypi_0    pypi\r\n",
      "jupyter-lsp               2.2.5              pyhd8ed1ab_0    conda-forge\r\n",
      "jupyter-nbextensions-configurator 0.6.4                    pypi_0    pypi\r\n",
      "jupyter_client            8.6.2              pyhd8ed1ab_0    conda-forge\r\n",
      "jupyter_console           6.6.3              pyhd8ed1ab_0    conda-forge\r\n",
      "jupyter_core              5.7.2            py39hecd8cb5_0  \r\n",
      "jupyter_events            0.10.0             pyhd8ed1ab_0    conda-forge\r\n",
      "jupyter_server            2.14.1             pyhd8ed1ab_0    conda-forge\r\n",
      "jupyter_server_terminals  0.5.3              pyhd8ed1ab_0    conda-forge\r\n",
      "jupyterlab                4.2.3              pyhd8ed1ab_0    conda-forge\r\n",
      "jupyterlab_pygments       0.3.0              pyhd8ed1ab_1    conda-forge\r\n",
      "jupyterlab_server         2.27.2             pyhd8ed1ab_0    conda-forge\r\n",
      "jupyterlab_widgets        3.0.11             pyhd8ed1ab_0    conda-forge\r\n",
      "kiwisolver                1.4.5            py39h8ee36c8_1    conda-forge\r\n",
      "krb5                      1.21.3               h37d8d59_0    conda-forge\r\n",
      "lcms2                     2.16                 ha2f27b4_0    conda-forge\r\n",
      "lerc                      4.0.0                hb486fe8_0    conda-forge\r\n",
      "libblas                   3.9.0           22_osx64_openblas    conda-forge\r\n",
      "libbrotlicommon           1.1.0                h0dc2134_1    conda-forge\r\n",
      "libbrotlidec              1.1.0                h0dc2134_1    conda-forge\r\n",
      "libbrotlienc              1.1.0                h0dc2134_1    conda-forge\r\n",
      "libcblas                  3.9.0           22_osx64_openblas    conda-forge\r\n",
      "libcxx                    17.0.6               heb59cac_3    conda-forge\r\n",
      "libdeflate                1.20                 h49d49c5_0    conda-forge\r\n",
      "libedit                   3.1.20191231         h0678c8f_2    conda-forge\r\n",
      "libffi                    3.4.2                h0d85af4_5    conda-forge\r\n",
      "libgfortran               5.0.0           13_2_0_h97931a8_3    conda-forge\r\n",
      "libgfortran5              13.2.0               h2873a65_3    conda-forge\r\n",
      "libjpeg-turbo             3.0.0                h0dc2134_1    conda-forge\r\n",
      "liblapack                 3.9.0           22_osx64_openblas    conda-forge\r\n",
      "libopenblas               0.3.27          openmp_hfef2a42_0    conda-forge\r\n",
      "libpng                    1.6.43               h92b6c6a_0    conda-forge\r\n",
      "libsodium                 1.0.18               hbcb3906_1    conda-forge\r\n",
      "libsqlite                 3.46.0               h1b8f9f3_0    conda-forge\r\n",
      "libtiff                   4.6.0                h129831d_3    conda-forge\r\n",
      "libwebp-base              1.4.0                h10d778d_0    conda-forge\r\n",
      "libxcb                    1.16                 h0dc2134_0    conda-forge\r\n",
      "libzlib                   1.3.1                h87427d6_1    conda-forge\r\n",
      "llvm-openmp               18.1.8               h15ab845_0    conda-forge\r\n",
      "lxml                      5.2.2                    pypi_0    pypi\r\n",
      "markupsafe                2.1.5            py39ha09f3b3_0    conda-forge\r\n",
      "matplotlib                3.9.0            py39h6e9494a_0    conda-forge\r\n",
      "matplotlib-base           3.9.0            py39hb2d44f9_0    conda-forge\r\n",
      "matplotlib-inline         0.1.7              pyhd8ed1ab_0    conda-forge\r\n",
      "mccabe                    0.7.0              pyhd8ed1ab_0    conda-forge\r\n",
      "metapool                  0+untagged.221.gd899203           dev_0    <develop>\r\n",
      "mistune                   3.0.2              pyhd8ed1ab_0    conda-forge\r\n",
      "munkres                   1.0.7                      py_1    bioconda\r\n",
      "nbclient                  0.10.0             pyhd8ed1ab_0    conda-forge\r\n",
      "nbconvert                 7.16.4               hd8ed1ab_1    conda-forge\r\n",
      "nbconvert-core            7.16.4             pyhd8ed1ab_1    conda-forge\r\n",
      "nbconvert-pandoc          7.16.4               hd8ed1ab_1    conda-forge\r\n",
      "nbformat                  5.10.4             pyhd8ed1ab_0    conda-forge\r\n",
      "ncurses                   6.5                  h5846eda_0    conda-forge\r\n",
      "nest-asyncio              1.6.0              pyhd8ed1ab_0    conda-forge\r\n",
      "nose                      1.3.7                   py_1006    conda-forge\r\n",
      "notebook                  7.2.1              pyhd8ed1ab_0    conda-forge\r\n",
      "notebook-shim             0.2.4              pyhd8ed1ab_0    conda-forge\r\n",
      "numpy                     2.0.0            py39h3fadf17_0    conda-forge\r\n",
      "openjpeg                  2.5.2                h7310d3a_0    conda-forge\r\n",
      "openpyxl                  3.1.4            py39h4f4a4d5_0    conda-forge\r\n",
      "openssl                   3.3.1                h87427d6_1    conda-forge\r\n",
      "overrides                 7.7.0              pyhd8ed1ab_0    conda-forge\r\n",
      "packaging                 24.1               pyhd8ed1ab_0    conda-forge\r\n",
      "pandas                    2.2.2            py39hbb604f3_1    conda-forge\r\n",
      "pandoc                    3.2.1                h694c41f_0    conda-forge\r\n",
      "pandocfilters             1.5.0              pyhd8ed1ab_0    conda-forge\r\n",
      "parso                     0.8.4              pyhd8ed1ab_0    conda-forge\r\n",
      "patsy                     0.5.6              pyhd8ed1ab_0    conda-forge\r\n",
      "pep8                      1.7.1                      py_0    conda-forge\r\n",
      "pexpect                   4.9.0              pyhd8ed1ab_0    conda-forge\r\n",
      "pickleshare               0.7.5                   py_1003    conda-forge\r\n",
      "pillow                    10.4.0           py39hc3a33ae_0    conda-forge\r\n",
      "pip                       24.0               pyhd8ed1ab_0    conda-forge\r\n",
      "pkgutil-resolve-name      1.3.10             pyhd8ed1ab_1    conda-forge\r\n",
      "platformdirs              4.2.2              pyhd8ed1ab_0    conda-forge\r\n",
      "prometheus_client         0.20.0             pyhd8ed1ab_0    conda-forge\r\n",
      "prompt-toolkit            3.0.47             pyha770c72_0    conda-forge\r\n",
      "prompt_toolkit            3.0.47               hd8ed1ab_0    conda-forge\r\n",
      "psutil                    6.0.0            py39hded5825_0    conda-forge\r\n",
      "pthread-stubs             0.4               hc929b4f_1001    conda-forge\r\n",
      "ptyprocess                0.7.0              pyhd3deb0d_0    conda-forge\r\n",
      "pure_eval                 0.2.2              pyhd8ed1ab_0    conda-forge\r\n",
      "pycodestyle               2.12.0             pyhd8ed1ab_0    conda-forge\r\n",
      "pycparser                 2.22               pyhd8ed1ab_0    conda-forge\r\n",
      "pyflakes                  3.2.0              pyhd8ed1ab_0    conda-forge\r\n",
      "pygments                  2.18.0             pyhd8ed1ab_0    conda-forge\r\n",
      "pyobjc-core               10.3.1           py39hf8f43b1_0    conda-forge\r\n",
      "pyobjc-framework-cocoa    10.3.1           py39hf8f43b1_0    conda-forge\r\n",
      "pyparsing                 3.1.2              pyhd8ed1ab_0    conda-forge\r\n",
      "pysocks                   1.7.1              pyha2e5f31_6    conda-forge\r\n",
      "python                    3.9.19          h7a9c478_0_cpython    conda-forge\r\n",
      "python-dateutil           2.9.0              pyhd8ed1ab_0    conda-forge\r\n",
      "python-fastjsonschema     2.20.0             pyhd8ed1ab_0    conda-forge\r\n",
      "python-json-logger        2.0.7              pyhd8ed1ab_0    conda-forge\r\n",
      "python-tzdata             2024.1             pyhd8ed1ab_0    conda-forge\r\n",
      "python_abi                3.9                      4_cp39    conda-forge\r\n",
      "pytz                      2024.1             pyhd8ed1ab_0    conda-forge\r\n",
      "pyyaml                    6.0.1            py39hdc70f33_1    conda-forge\r\n",
      "pyzmq                     26.0.3           py39h304b177_0    conda-forge\r\n",
      "qhull                     2020.2               h940c156_2    conda-forge\r\n",
      "qiita-client              0.1.0.dev0               pypi_0    pypi\r\n",
      "qtconsole-base            5.5.2              pyha770c72_0    conda-forge\r\n",
      "qtpy                      2.4.1              pyhd8ed1ab_0    conda-forge\r\n",
      "readline                  8.2                  h9e318b2_1    conda-forge\r\n",
      "referencing               0.35.1             pyhd8ed1ab_0    conda-forge\r\n",
      "requests                  2.32.3             pyhd8ed1ab_0    conda-forge\r\n",
      "rfc3339-validator         0.1.4              pyhd8ed1ab_0    conda-forge\r\n",
      "rfc3986-validator         0.1.1              pyh9f0ad1d_0    conda-forge\r\n",
      "rpds-py                   0.18.1           py39hf59063a_0    conda-forge\r\n",
      "sample-sheet              0.13.0                   pypi_0    pypi\r\n",
      "scikit-learn              1.5.1            py39hf6a2366_0    conda-forge\r\n",
      "scipy                     1.13.1           py39h038d4f4_0    conda-forge\r\n",
      "seaborn                   0.13.2               hd8ed1ab_2    conda-forge\r\n",
      "seaborn-base              0.13.2             pyhd8ed1ab_2    conda-forge\r\n",
      "send2trash                1.8.3              pyh31c8845_0    conda-forge\r\n",
      "seqtk                     1.4                  h45fc8d7_2    <unknown>\r\n",
      "setuptools                70.1.1             pyhd8ed1ab_0    conda-forge\r\n",
      "six                       1.16.0             pyh6c4a22f_0    conda-forge\r\n",
      "sniffio                   1.3.1              pyhd8ed1ab_0    conda-forge\r\n",
      "soupsieve                 2.5                pyhd8ed1ab_1    conda-forge\r\n",
      "stack_data                0.6.2              pyhd8ed1ab_0    conda-forge\r\n",
      "statsmodels               0.14.2           py39hb943cd9_0    conda-forge\r\n",
      "tabulate                  0.9.0                    pypi_0    pypi\r\n",
      "terminado                 0.18.1             pyh31c8845_0    conda-forge\r\n",
      "terminaltables            3.1.10                   pypi_0    pypi\r\n",
      "threadpoolctl             3.5.0              pyhc1e730c_0    conda-forge\r\n",
      "tinycss2                  1.3.0              pyhd8ed1ab_0    conda-forge\r\n",
      "tk                        8.6.13               h1abcd95_1    conda-forge\r\n",
      "tomli                     2.0.1              pyhd8ed1ab_0    conda-forge\r\n",
      "tornado                   6.4.1            py39hded5825_0    conda-forge\r\n",
      "traitlets                 5.14.3             pyhd8ed1ab_0    conda-forge\r\n",
      "types-python-dateutil     2.9.0.20240316     pyhd8ed1ab_0    conda-forge\r\n",
      "typing-extensions         4.12.2               hd8ed1ab_0    conda-forge\r\n",
      "typing_extensions         4.12.2             pyha770c72_0    conda-forge\r\n",
      "typing_utils              0.1.0              pyhd8ed1ab_0    conda-forge\r\n",
      "tzdata                    2024a                h0c530f3_0    conda-forge\r\n",
      "unicodedata2              15.1.0           py39hdc70f33_0    conda-forge\r\n",
      "uri-template              1.3.0              pyhd8ed1ab_0    conda-forge\r\n",
      "urllib3                   2.2.2              pyhd8ed1ab_1    conda-forge\r\n",
      "watermark                 2.4.3                    pypi_0    pypi\r\n",
      "wcwidth                   0.2.13             pyhd8ed1ab_0    conda-forge\r\n",
      "webcolors                 24.6.0             pyhd8ed1ab_0    conda-forge\r\n",
      "webencodings              0.5.1              pyhd8ed1ab_2    conda-forge\r\n",
      "websocket-client          1.8.0              pyhd8ed1ab_0    conda-forge\r\n",
      "wheel                     0.43.0             pyhd8ed1ab_1    conda-forge\r\n",
      "widgetsnbextension        4.0.11             pyhd8ed1ab_0    conda-forge\r\n",
      "xorg-libxau               1.0.11               h0dc2134_0    conda-forge\r\n",
      "xorg-libxdmcp             1.1.3                h35c211d_0    conda-forge\r\n",
      "xz                        5.2.6                h775f41a_0    conda-forge\r\n",
      "yaml                      0.2.5                h0d85af4_2    conda-forge\r\n",
      "zeromq                    4.3.5                hde137ed_4    conda-forge\r\n",
      "zipp                      3.19.2             pyhd8ed1ab_0    conda-forge\r\n",
      "zlib                      1.3.1                h87427d6_1    conda-forge\r\n",
      "zstandard                 0.22.0           py39h32d468b_1    conda-forge\r\n",
      "zstd                      1.5.6                h915ae27_0    conda-forge\r\n"
     ]
    }
   ],
   "execution_count": 2
  },
  {
   "cell_type": "markdown",
   "metadata": {},
   "source": "# Knight Lab TellSeq pipeline notebook C"
  },
  {
   "cell_type": "markdown",
   "metadata": {},
   "source": [
    "## Part 4 (of 5): Workflow for normalizing DNA\n",
    "\n",
    "This portion of the notebook will construct an Echo normalization picklist file for the selected barcode set.\n",
    "\n",
    "As inputs, it requires:\n",
    "1. A tab-delimited `*_plate_df_A.txt` file containing the quantitations for the entire 384-well plate\n",
    "2. A yaml file containing the experiment name and info on the included studies\n",
    "\n",
    "The workflow then:\n",
    "1. reads in the specified input files\n",
    "2. calculates the pooling volumes for the samples in the selected barcode set\n",
    "3. produces an Echo-formatted pick list file for that set\n",
    "4. produces a tab-delimited `*_plate_df_C_set_*.txt` file containing the plate df for (only) the samples in this barcode set "
   ]
  },
  {
   "cell_type": "markdown",
   "metadata": {},
   "source": "### Step 1 of 7: Read in the 384-well plate data and the experiment info"
  },
  {
   "cell_type": "code",
   "metadata": {
    "ExecuteTime": {
     "end_time": "2024-12-05T00:59:55.720259Z",
     "start_time": "2024-12-05T00:59:55.712975Z"
    }
   },
   "source": [
    "## INPUT\n",
    "full_plate_fp = './test_output/QC/Tellseq_plate_df_B.txt'\n",
    "expt_config_fp = './test_output/QC/Tellseq_expt_info.yml'"
   ],
   "outputs": [],
   "execution_count": 3
  },
  {
   "metadata": {
    "ExecuteTime": {
     "end_time": "2024-12-05T00:59:57.655675Z",
     "start_time": "2024-12-05T00:59:57.652313Z"
    }
   },
   "cell_type": "code",
   "source": [
    "# if the full_plate_fp does not end with \"plate_df_B.txt\", throw an error\n",
    "expected_suffix = f\"plate_df_B.txt\"\n",
    "if not full_plate_fp.endswith(expected_suffix):\n",
    "    raise ValueError(f\"Expected file ending with '{expected_suffix}'\")"
   ],
   "outputs": [],
   "execution_count": 4
  },
  {
   "metadata": {
    "ExecuteTime": {
     "end_time": "2024-12-05T00:59:58.867045Z",
     "start_time": "2024-12-05T00:59:58.864093Z"
    }
   },
   "cell_type": "code",
   "source": [
    "for curr_fp in [full_plate_fp, expt_config_fp]:\n",
    "    if not os.path.isfile(curr_fp):\n",
    "        print(\"Problem! %s is not a path to a valid file\" % curr_fp)"
   ],
   "outputs": [],
   "execution_count": 5
  },
  {
   "cell_type": "code",
   "metadata": {
    "ExecuteTime": {
     "end_time": "2024-12-05T00:59:59.949631Z",
     "start_time": "2024-12-05T00:59:59.921199Z"
    }
   },
   "source": [
    "full_plate_df = pd.read_csv(full_plate_fp, sep='\\t')\n",
    "full_plate_df.head()"
   ],
   "outputs": [
    {
     "data": {
      "text/plain": [
       "   Unnamed: 0  index        Sample  Col  \\\n",
       "0           0      0  01LJ00482.V5    1   \n",
       "1           1    192  01LJ01100.V5    1   \n",
       "2           2     12  01LJ01597.V8    1   \n",
       "3           3    204  01LJ01315.V5    1   \n",
       "4           4     24  01LJ02862.V5    1   \n",
       "\n",
       "                       Compressed Plate Name      Date  Plate Position  \\\n",
       "0   Wellcome_Leap_15538_1_2_3_4_2to1dilution  20240911               1   \n",
       "1  Wellcome_Leap_15538_1_2_3_4_10to1dilution  20240911               3   \n",
       "2   Wellcome_Leap_15538_1_2_3_4_2to1dilution  20240911               1   \n",
       "3  Wellcome_Leap_15538_1_2_3_4_10to1dilution  20240911               3   \n",
       "4   Wellcome_Leap_15538_1_2_3_4_2to1dilution  20240911               1   \n",
       "\n",
       "  Project Abbreviation         Project Name  \\\n",
       "0         WellcomeLeap  Wellcome_Leap_15538   \n",
       "1         WellcomeLeap  Wellcome_Leap_15538   \n",
       "2         WellcomeLeap  Wellcome_Leap_15538   \n",
       "3         WellcomeLeap  Wellcome_Leap_15538   \n",
       "4         WellcomeLeap  Wellcome_Leap_15538   \n",
       "\n",
       "                               Project Plate  ... i5 name  \\\n",
       "0   Wellcome_Leap_15538_Plate_1_2to1dilution  ...    C501   \n",
       "1  Wellcome_Leap_15538_Plate_3_10to1dilution  ...    C509   \n",
       "2   Wellcome_Leap_15538_Plate_1_2to1dilution  ...    C502   \n",
       "3  Wellcome_Leap_15538_Plate_3_10to1dilution  ...    C510   \n",
       "4   Wellcome_Leap_15538_Plate_1_2to1dilution  ...    C503   \n",
       "\n",
       "                                      i5 plate  i5 well_row  i5 well_col  \\\n",
       "0  TellSeq_Barcode_Plate_1_LN2409001_EXP052026            A            1   \n",
       "1  TellSeq_Barcode_Plate_1_LN2409001_EXP052026            B            1   \n",
       "2  TellSeq_Barcode_Plate_1_LN2409001_EXP052026            C            1   \n",
       "3  TellSeq_Barcode_Plate_1_LN2409001_EXP052026            D            1   \n",
       "4  TellSeq_Barcode_Plate_1_LN2409001_EXP052026            E            1   \n",
       "\n",
       "  barcode_set_id  barcode_id MiniPico Library DNA Concentration  \\\n",
       "0        col1to6        C501                              0.612   \n",
       "1        col1to6        C509                              0.623   \n",
       "2        col1to6        C502                              0.632   \n",
       "3        col1to6        C510                              0.606   \n",
       "4        col1to6        C503                              1.001   \n",
       "\n",
       "  MiniPico Library Concentration  Input DNA sample sheet Sample_ID  \n",
       "0                       1.854545   7.495680           01LJ00482_V5  \n",
       "1                       1.887879   7.502390           01LJ01100_V5  \n",
       "2                       1.915152   7.502735           01LJ01597_V8  \n",
       "3                       1.836364   7.494064           01LJ01315_V5  \n",
       "4                       3.033333   7.503163           01LJ02862_V5  \n",
       "\n",
       "[5 rows x 48 columns]"
      ],
      "text/html": [
       "<div>\n",
       "<style scoped>\n",
       "    .dataframe tbody tr th:only-of-type {\n",
       "        vertical-align: middle;\n",
       "    }\n",
       "\n",
       "    .dataframe tbody tr th {\n",
       "        vertical-align: top;\n",
       "    }\n",
       "\n",
       "    .dataframe thead th {\n",
       "        text-align: right;\n",
       "    }\n",
       "</style>\n",
       "<table border=\"1\" class=\"dataframe\">\n",
       "  <thead>\n",
       "    <tr style=\"text-align: right;\">\n",
       "      <th></th>\n",
       "      <th>Unnamed: 0</th>\n",
       "      <th>index</th>\n",
       "      <th>Sample</th>\n",
       "      <th>Col</th>\n",
       "      <th>Compressed Plate Name</th>\n",
       "      <th>Date</th>\n",
       "      <th>Plate Position</th>\n",
       "      <th>Project Abbreviation</th>\n",
       "      <th>Project Name</th>\n",
       "      <th>Project Plate</th>\n",
       "      <th>...</th>\n",
       "      <th>i5 name</th>\n",
       "      <th>i5 plate</th>\n",
       "      <th>i5 well_row</th>\n",
       "      <th>i5 well_col</th>\n",
       "      <th>barcode_set_id</th>\n",
       "      <th>barcode_id</th>\n",
       "      <th>MiniPico Library DNA Concentration</th>\n",
       "      <th>MiniPico Library Concentration</th>\n",
       "      <th>Input DNA</th>\n",
       "      <th>sample sheet Sample_ID</th>\n",
       "    </tr>\n",
       "  </thead>\n",
       "  <tbody>\n",
       "    <tr>\n",
       "      <th>0</th>\n",
       "      <td>0</td>\n",
       "      <td>0</td>\n",
       "      <td>01LJ00482.V5</td>\n",
       "      <td>1</td>\n",
       "      <td>Wellcome_Leap_15538_1_2_3_4_2to1dilution</td>\n",
       "      <td>20240911</td>\n",
       "      <td>1</td>\n",
       "      <td>WellcomeLeap</td>\n",
       "      <td>Wellcome_Leap_15538</td>\n",
       "      <td>Wellcome_Leap_15538_Plate_1_2to1dilution</td>\n",
       "      <td>...</td>\n",
       "      <td>C501</td>\n",
       "      <td>TellSeq_Barcode_Plate_1_LN2409001_EXP052026</td>\n",
       "      <td>A</td>\n",
       "      <td>1</td>\n",
       "      <td>col1to6</td>\n",
       "      <td>C501</td>\n",
       "      <td>0.612</td>\n",
       "      <td>1.854545</td>\n",
       "      <td>7.495680</td>\n",
       "      <td>01LJ00482_V5</td>\n",
       "    </tr>\n",
       "    <tr>\n",
       "      <th>1</th>\n",
       "      <td>1</td>\n",
       "      <td>192</td>\n",
       "      <td>01LJ01100.V5</td>\n",
       "      <td>1</td>\n",
       "      <td>Wellcome_Leap_15538_1_2_3_4_10to1dilution</td>\n",
       "      <td>20240911</td>\n",
       "      <td>3</td>\n",
       "      <td>WellcomeLeap</td>\n",
       "      <td>Wellcome_Leap_15538</td>\n",
       "      <td>Wellcome_Leap_15538_Plate_3_10to1dilution</td>\n",
       "      <td>...</td>\n",
       "      <td>C509</td>\n",
       "      <td>TellSeq_Barcode_Plate_1_LN2409001_EXP052026</td>\n",
       "      <td>B</td>\n",
       "      <td>1</td>\n",
       "      <td>col1to6</td>\n",
       "      <td>C509</td>\n",
       "      <td>0.623</td>\n",
       "      <td>1.887879</td>\n",
       "      <td>7.502390</td>\n",
       "      <td>01LJ01100_V5</td>\n",
       "    </tr>\n",
       "    <tr>\n",
       "      <th>2</th>\n",
       "      <td>2</td>\n",
       "      <td>12</td>\n",
       "      <td>01LJ01597.V8</td>\n",
       "      <td>1</td>\n",
       "      <td>Wellcome_Leap_15538_1_2_3_4_2to1dilution</td>\n",
       "      <td>20240911</td>\n",
       "      <td>1</td>\n",
       "      <td>WellcomeLeap</td>\n",
       "      <td>Wellcome_Leap_15538</td>\n",
       "      <td>Wellcome_Leap_15538_Plate_1_2to1dilution</td>\n",
       "      <td>...</td>\n",
       "      <td>C502</td>\n",
       "      <td>TellSeq_Barcode_Plate_1_LN2409001_EXP052026</td>\n",
       "      <td>C</td>\n",
       "      <td>1</td>\n",
       "      <td>col1to6</td>\n",
       "      <td>C502</td>\n",
       "      <td>0.632</td>\n",
       "      <td>1.915152</td>\n",
       "      <td>7.502735</td>\n",
       "      <td>01LJ01597_V8</td>\n",
       "    </tr>\n",
       "    <tr>\n",
       "      <th>3</th>\n",
       "      <td>3</td>\n",
       "      <td>204</td>\n",
       "      <td>01LJ01315.V5</td>\n",
       "      <td>1</td>\n",
       "      <td>Wellcome_Leap_15538_1_2_3_4_10to1dilution</td>\n",
       "      <td>20240911</td>\n",
       "      <td>3</td>\n",
       "      <td>WellcomeLeap</td>\n",
       "      <td>Wellcome_Leap_15538</td>\n",
       "      <td>Wellcome_Leap_15538_Plate_3_10to1dilution</td>\n",
       "      <td>...</td>\n",
       "      <td>C510</td>\n",
       "      <td>TellSeq_Barcode_Plate_1_LN2409001_EXP052026</td>\n",
       "      <td>D</td>\n",
       "      <td>1</td>\n",
       "      <td>col1to6</td>\n",
       "      <td>C510</td>\n",
       "      <td>0.606</td>\n",
       "      <td>1.836364</td>\n",
       "      <td>7.494064</td>\n",
       "      <td>01LJ01315_V5</td>\n",
       "    </tr>\n",
       "    <tr>\n",
       "      <th>4</th>\n",
       "      <td>4</td>\n",
       "      <td>24</td>\n",
       "      <td>01LJ02862.V5</td>\n",
       "      <td>1</td>\n",
       "      <td>Wellcome_Leap_15538_1_2_3_4_2to1dilution</td>\n",
       "      <td>20240911</td>\n",
       "      <td>1</td>\n",
       "      <td>WellcomeLeap</td>\n",
       "      <td>Wellcome_Leap_15538</td>\n",
       "      <td>Wellcome_Leap_15538_Plate_1_2to1dilution</td>\n",
       "      <td>...</td>\n",
       "      <td>C503</td>\n",
       "      <td>TellSeq_Barcode_Plate_1_LN2409001_EXP052026</td>\n",
       "      <td>E</td>\n",
       "      <td>1</td>\n",
       "      <td>col1to6</td>\n",
       "      <td>C503</td>\n",
       "      <td>1.001</td>\n",
       "      <td>3.033333</td>\n",
       "      <td>7.503163</td>\n",
       "      <td>01LJ02862_V5</td>\n",
       "    </tr>\n",
       "  </tbody>\n",
       "</table>\n",
       "<p>5 rows × 48 columns</p>\n",
       "</div>"
      ]
     },
     "execution_count": 6,
     "metadata": {},
     "output_type": "execute_result"
    }
   ],
   "execution_count": 6
  },
  {
   "metadata": {
    "ExecuteTime": {
     "end_time": "2024-12-05T01:00:01.100562Z",
     "start_time": "2024-12-05T01:00:01.095799Z"
    }
   },
   "cell_type": "code",
   "source": "is_absquant(full_plate_df)",
   "outputs": [
    {
     "data": {
      "text/plain": [
       "False"
      ]
     },
     "execution_count": 7,
     "metadata": {},
     "output_type": "execute_result"
    }
   ],
   "execution_count": 7
  },
  {
   "cell_type": "code",
   "metadata": {
    "ExecuteTime": {
     "end_time": "2024-12-05T01:00:01.993605Z",
     "start_time": "2024-12-05T01:00:01.988507Z"
    }
   },
   "source": [
    "with open(expt_config_fp, 'r') as f:\n",
    "    expt_config = yaml.safe_load(f)"
   ],
   "outputs": [],
   "execution_count": 8
  },
  {
   "cell_type": "code",
   "metadata": {
    "ExecuteTime": {
     "end_time": "2024-12-05T01:00:02.779932Z",
     "start_time": "2024-12-05T01:00:02.775547Z"
    }
   },
   "source": [
    "expt_name = expt_config['experiment_name']\n",
    "expt_name"
   ],
   "outputs": [
    {
     "data": {
      "text/plain": [
       "'RKLtest'"
      ]
     },
     "execution_count": 9,
     "metadata": {},
     "output_type": "execute_result"
    }
   ],
   "execution_count": 9
  },
  {
   "cell_type": "code",
   "metadata": {
    "ExecuteTime": {
     "end_time": "2024-12-05T01:00:03.492250Z",
     "start_time": "2024-12-05T01:00:03.485394Z"
    }
   },
   "source": [
    "full_studies_info = expt_config['studies']\n",
    "full_studies_info"
   ],
   "outputs": [
    {
     "data": {
      "text/plain": [
       "[{'Email': 'r@gmail.com',\n",
       "  'HumanFiltering': 'True',\n",
       "  'Project Abbreviation': 'WellcomeLeap',\n",
       "  'Project Name': 'Wellcome_Leap_15538',\n",
       "  'experiment_design_description': 'plasma sequencing',\n",
       "  'qiita_id': '15538',\n",
       "  'qiita_metadata_fp': './test_data/Plate_Maps/15538_20241004-110731.txt',\n",
       "  'sample_accession_fp': './test_data/Plate_Maps/Tellseq_Wellcome Leap - 15538 - Sample Accession.csv'}]"
      ]
     },
     "execution_count": 10,
     "metadata": {},
     "output_type": "execute_result"
    }
   ],
   "execution_count": 10
  },
  {
   "metadata": {
    "ExecuteTime": {
     "end_time": "2024-12-05T01:00:04.433735Z",
     "start_time": "2024-12-05T01:00:04.429191Z"
    }
   },
   "cell_type": "code",
   "source": [
    "set_ids = full_plate_df[TELLSEQ_BARCODE_SET_ID_KEY].unique()\n",
    "set_ids"
   ],
   "outputs": [
    {
     "data": {
      "text/plain": [
       "array(['col1to6', 'col7to12', 'col13to18', 'col19to24'], dtype=object)"
      ]
     },
     "execution_count": 11,
     "metadata": {},
     "output_type": "execute_result"
    }
   ],
   "execution_count": 11
  },
  {
   "cell_type": "markdown",
   "metadata": {},
   "source": "### Step 2 of 7: Select the barcode set"
  },
  {
   "cell_type": "markdown",
   "metadata": {},
   "source": [
    "Select the barcode set to process in this notebook and set it below."
   ]
  },
  {
   "cell_type": "code",
   "metadata": {
    "ExecuteTime": {
     "end_time": "2024-12-05T01:00:06.558145Z",
     "start_time": "2024-12-05T01:00:06.555184Z"
    }
   },
   "source": [
    "## INPUT\n",
    "current_set_id = \"col19to24\""
   ],
   "outputs": [],
   "execution_count": 12
  },
  {
   "cell_type": "code",
   "metadata": {
    "ExecuteTime": {
     "end_time": "2024-12-05T01:00:07.207515Z",
     "start_time": "2024-12-05T01:00:07.201924Z"
    }
   },
   "source": [
    "plate_df = full_plate_df[full_plate_df[TELLSEQ_BARCODE_SET_ID_KEY] == current_set_id].copy()\n",
    "plate_df.shape"
   ],
   "outputs": [
    {
     "data": {
      "text/plain": [
       "(96, 48)"
      ]
     },
     "execution_count": 13,
     "metadata": {},
     "output_type": "execute_result"
    }
   ],
   "execution_count": 13
  },
  {
   "metadata": {
    "ExecuteTime": {
     "end_time": "2024-12-05T01:00:07.951106Z",
     "start_time": "2024-12-05T01:00:07.936626Z"
    }
   },
   "cell_type": "code",
   "source": "plate_df.head()",
   "outputs": [
    {
     "data": {
      "text/plain": [
       "     Unnamed: 0  index        Sample  Col  \\\n",
       "288         288      9  01LJ01593.V8   10   \n",
       "289         289    201  01LJ01300.V5   10   \n",
       "290         290     21  01LJ02603.V8   10   \n",
       "291         291    213  01LJ01344.V5   10   \n",
       "292         292     33  01LJ04170.V5   10   \n",
       "\n",
       "                         Compressed Plate Name      Date  Plate Position  \\\n",
       "288   Wellcome_Leap_15538_1_2_3_4_2to1dilution  20240911               1   \n",
       "289  Wellcome_Leap_15538_1_2_3_4_10to1dilution  20240911               3   \n",
       "290   Wellcome_Leap_15538_1_2_3_4_2to1dilution  20240911               1   \n",
       "291   Wellcome_Leap_15538_1_2_3_4_2to1dilution  20240911               3   \n",
       "292   Wellcome_Leap_15538_1_2_3_4_2to1dilution  20240911               1   \n",
       "\n",
       "    Project Abbreviation         Project Name  \\\n",
       "288         WellcomeLeap  Wellcome_Leap_15538   \n",
       "289         WellcomeLeap  Wellcome_Leap_15538   \n",
       "290         WellcomeLeap  Wellcome_Leap_15538   \n",
       "291         WellcomeLeap  Wellcome_Leap_15538   \n",
       "292         WellcomeLeap  Wellcome_Leap_15538   \n",
       "\n",
       "                                 Project Plate  ... i5 name  \\\n",
       "288   Wellcome_Leap_15538_Plate_1_2to1dilution  ...    C501   \n",
       "289  Wellcome_Leap_15538_Plate_3_10to1dilution  ...    C509   \n",
       "290   Wellcome_Leap_15538_Plate_1_2to1dilution  ...    C502   \n",
       "291   Wellcome_Leap_15538_Plate_3_2to1dilution  ...    C510   \n",
       "292   Wellcome_Leap_15538_Plate_1_2to1dilution  ...    C503   \n",
       "\n",
       "                                        i5 plate  i5 well_row  i5 well_col  \\\n",
       "288  TellSeq_Barcode_Plate_1_LN2409001_EXP052026            A            1   \n",
       "289  TellSeq_Barcode_Plate_1_LN2409001_EXP052026            B            1   \n",
       "290  TellSeq_Barcode_Plate_1_LN2409001_EXP052026            C            1   \n",
       "291  TellSeq_Barcode_Plate_1_LN2409001_EXP052026            D            1   \n",
       "292  TellSeq_Barcode_Plate_1_LN2409001_EXP052026            E            1   \n",
       "\n",
       "    barcode_set_id  barcode_id MiniPico Library DNA Concentration  \\\n",
       "288      col19to24        C501                              0.635   \n",
       "289      col19to24        C509                              5.113   \n",
       "290      col19to24        C502                              0.677   \n",
       "291      col19to24        C510                              1.047   \n",
       "292      col19to24        C503                              3.777   \n",
       "\n",
       "    MiniPico Library Concentration  Input DNA sample sheet Sample_ID  \n",
       "288                       1.924242   7.496689           01LJ01593_V8  \n",
       "289                      15.493939   7.496200           01LJ01300_V5  \n",
       "290                       2.051515   7.507742           01LJ02603_V8  \n",
       "291                       3.172727   7.499745           01LJ01344_V5  \n",
       "292                      11.445455   7.495723           01LJ04170_V5  \n",
       "\n",
       "[5 rows x 48 columns]"
      ],
      "text/html": [
       "<div>\n",
       "<style scoped>\n",
       "    .dataframe tbody tr th:only-of-type {\n",
       "        vertical-align: middle;\n",
       "    }\n",
       "\n",
       "    .dataframe tbody tr th {\n",
       "        vertical-align: top;\n",
       "    }\n",
       "\n",
       "    .dataframe thead th {\n",
       "        text-align: right;\n",
       "    }\n",
       "</style>\n",
       "<table border=\"1\" class=\"dataframe\">\n",
       "  <thead>\n",
       "    <tr style=\"text-align: right;\">\n",
       "      <th></th>\n",
       "      <th>Unnamed: 0</th>\n",
       "      <th>index</th>\n",
       "      <th>Sample</th>\n",
       "      <th>Col</th>\n",
       "      <th>Compressed Plate Name</th>\n",
       "      <th>Date</th>\n",
       "      <th>Plate Position</th>\n",
       "      <th>Project Abbreviation</th>\n",
       "      <th>Project Name</th>\n",
       "      <th>Project Plate</th>\n",
       "      <th>...</th>\n",
       "      <th>i5 name</th>\n",
       "      <th>i5 plate</th>\n",
       "      <th>i5 well_row</th>\n",
       "      <th>i5 well_col</th>\n",
       "      <th>barcode_set_id</th>\n",
       "      <th>barcode_id</th>\n",
       "      <th>MiniPico Library DNA Concentration</th>\n",
       "      <th>MiniPico Library Concentration</th>\n",
       "      <th>Input DNA</th>\n",
       "      <th>sample sheet Sample_ID</th>\n",
       "    </tr>\n",
       "  </thead>\n",
       "  <tbody>\n",
       "    <tr>\n",
       "      <th>288</th>\n",
       "      <td>288</td>\n",
       "      <td>9</td>\n",
       "      <td>01LJ01593.V8</td>\n",
       "      <td>10</td>\n",
       "      <td>Wellcome_Leap_15538_1_2_3_4_2to1dilution</td>\n",
       "      <td>20240911</td>\n",
       "      <td>1</td>\n",
       "      <td>WellcomeLeap</td>\n",
       "      <td>Wellcome_Leap_15538</td>\n",
       "      <td>Wellcome_Leap_15538_Plate_1_2to1dilution</td>\n",
       "      <td>...</td>\n",
       "      <td>C501</td>\n",
       "      <td>TellSeq_Barcode_Plate_1_LN2409001_EXP052026</td>\n",
       "      <td>A</td>\n",
       "      <td>1</td>\n",
       "      <td>col19to24</td>\n",
       "      <td>C501</td>\n",
       "      <td>0.635</td>\n",
       "      <td>1.924242</td>\n",
       "      <td>7.496689</td>\n",
       "      <td>01LJ01593_V8</td>\n",
       "    </tr>\n",
       "    <tr>\n",
       "      <th>289</th>\n",
       "      <td>289</td>\n",
       "      <td>201</td>\n",
       "      <td>01LJ01300.V5</td>\n",
       "      <td>10</td>\n",
       "      <td>Wellcome_Leap_15538_1_2_3_4_10to1dilution</td>\n",
       "      <td>20240911</td>\n",
       "      <td>3</td>\n",
       "      <td>WellcomeLeap</td>\n",
       "      <td>Wellcome_Leap_15538</td>\n",
       "      <td>Wellcome_Leap_15538_Plate_3_10to1dilution</td>\n",
       "      <td>...</td>\n",
       "      <td>C509</td>\n",
       "      <td>TellSeq_Barcode_Plate_1_LN2409001_EXP052026</td>\n",
       "      <td>B</td>\n",
       "      <td>1</td>\n",
       "      <td>col19to24</td>\n",
       "      <td>C509</td>\n",
       "      <td>5.113</td>\n",
       "      <td>15.493939</td>\n",
       "      <td>7.496200</td>\n",
       "      <td>01LJ01300_V5</td>\n",
       "    </tr>\n",
       "    <tr>\n",
       "      <th>290</th>\n",
       "      <td>290</td>\n",
       "      <td>21</td>\n",
       "      <td>01LJ02603.V8</td>\n",
       "      <td>10</td>\n",
       "      <td>Wellcome_Leap_15538_1_2_3_4_2to1dilution</td>\n",
       "      <td>20240911</td>\n",
       "      <td>1</td>\n",
       "      <td>WellcomeLeap</td>\n",
       "      <td>Wellcome_Leap_15538</td>\n",
       "      <td>Wellcome_Leap_15538_Plate_1_2to1dilution</td>\n",
       "      <td>...</td>\n",
       "      <td>C502</td>\n",
       "      <td>TellSeq_Barcode_Plate_1_LN2409001_EXP052026</td>\n",
       "      <td>C</td>\n",
       "      <td>1</td>\n",
       "      <td>col19to24</td>\n",
       "      <td>C502</td>\n",
       "      <td>0.677</td>\n",
       "      <td>2.051515</td>\n",
       "      <td>7.507742</td>\n",
       "      <td>01LJ02603_V8</td>\n",
       "    </tr>\n",
       "    <tr>\n",
       "      <th>291</th>\n",
       "      <td>291</td>\n",
       "      <td>213</td>\n",
       "      <td>01LJ01344.V5</td>\n",
       "      <td>10</td>\n",
       "      <td>Wellcome_Leap_15538_1_2_3_4_2to1dilution</td>\n",
       "      <td>20240911</td>\n",
       "      <td>3</td>\n",
       "      <td>WellcomeLeap</td>\n",
       "      <td>Wellcome_Leap_15538</td>\n",
       "      <td>Wellcome_Leap_15538_Plate_3_2to1dilution</td>\n",
       "      <td>...</td>\n",
       "      <td>C510</td>\n",
       "      <td>TellSeq_Barcode_Plate_1_LN2409001_EXP052026</td>\n",
       "      <td>D</td>\n",
       "      <td>1</td>\n",
       "      <td>col19to24</td>\n",
       "      <td>C510</td>\n",
       "      <td>1.047</td>\n",
       "      <td>3.172727</td>\n",
       "      <td>7.499745</td>\n",
       "      <td>01LJ01344_V5</td>\n",
       "    </tr>\n",
       "    <tr>\n",
       "      <th>292</th>\n",
       "      <td>292</td>\n",
       "      <td>33</td>\n",
       "      <td>01LJ04170.V5</td>\n",
       "      <td>10</td>\n",
       "      <td>Wellcome_Leap_15538_1_2_3_4_2to1dilution</td>\n",
       "      <td>20240911</td>\n",
       "      <td>1</td>\n",
       "      <td>WellcomeLeap</td>\n",
       "      <td>Wellcome_Leap_15538</td>\n",
       "      <td>Wellcome_Leap_15538_Plate_1_2to1dilution</td>\n",
       "      <td>...</td>\n",
       "      <td>C503</td>\n",
       "      <td>TellSeq_Barcode_Plate_1_LN2409001_EXP052026</td>\n",
       "      <td>E</td>\n",
       "      <td>1</td>\n",
       "      <td>col19to24</td>\n",
       "      <td>C503</td>\n",
       "      <td>3.777</td>\n",
       "      <td>11.445455</td>\n",
       "      <td>7.495723</td>\n",
       "      <td>01LJ04170_V5</td>\n",
       "    </tr>\n",
       "  </tbody>\n",
       "</table>\n",
       "<p>5 rows × 48 columns</p>\n",
       "</div>"
      ]
     },
     "execution_count": 14,
     "metadata": {},
     "output_type": "execute_result"
    }
   ],
   "execution_count": 14
  },
  {
   "metadata": {},
   "cell_type": "markdown",
   "source": "Verify that there are no duplicate barcodes in the selected plate df.  This must return True."
  },
  {
   "metadata": {
    "ExecuteTime": {
     "end_time": "2024-12-05T01:00:09.468486Z",
     "start_time": "2024-12-05T01:00:09.463246Z"
    }
   },
   "cell_type": "code",
   "source": [
    "## DECISION -- verify no duplicate barcodes\n",
    "plate_df[TELLSEQ_BARCODE_ID_KEY].value_counts().nunique() == 1"
   ],
   "outputs": [
    {
     "data": {
      "text/plain": [
       "True"
      ]
     },
     "execution_count": 15,
     "metadata": {},
     "output_type": "execute_result"
    }
   ],
   "execution_count": 15
  },
  {
   "cell_type": "code",
   "metadata": {
    "ExecuteTime": {
     "end_time": "2024-12-05T01:00:10.237491Z",
     "start_time": "2024-12-05T01:00:10.234012Z"
    }
   },
   "source": [
    "row_col_key = f\"{PM_LIB_WELL_KEY}_row\"\n",
    "col_col_key = f\"{PM_LIB_WELL_KEY}_col\""
   ],
   "outputs": [],
   "execution_count": 16
  },
  {
   "metadata": {
    "ExecuteTime": {
     "end_time": "2024-12-05T01:00:10.971239Z",
     "start_time": "2024-12-05T01:00:10.959041Z"
    }
   },
   "cell_type": "code",
   "source": [
    "source_well_names = make_compressed_2d_array(\n",
    "    plate_df, data_col=PM_LIB_WELL_KEY, \n",
    "    row_col=row_col_key, col_col=col_col_key)\n",
    "source_well_names"
   ],
   "outputs": [
    {
     "data": {
      "text/plain": [
       "array([['A19', 'A20', 'A21', 'A22', 'A23', 'A24'],\n",
       "       ['B19', 'B20', 'B21', 'B22', 'B23', 'B24'],\n",
       "       ['C19', 'C20', 'C21', 'C22', 'C23', 'C24'],\n",
       "       ['D19', 'D20', 'D21', 'D22', 'D23', 'D24'],\n",
       "       ['E19', 'E20', 'E21', 'E22', 'E23', 'E24'],\n",
       "       ['F19', 'F20', 'F21', 'F22', 'F23', 'F24'],\n",
       "       ['G19', 'G20', 'G21', 'G22', 'G23', 'G24'],\n",
       "       ['H19', 'H20', 'H21', 'H22', 'H23', 'H24'],\n",
       "       ['I19', 'I20', 'I21', 'I22', 'I23', 'I24'],\n",
       "       ['J19', 'J20', 'J21', 'J22', 'J23', 'J24'],\n",
       "       ['K19', 'K20', 'K21', 'K22', 'K23', 'K24'],\n",
       "       ['L19', 'L20', 'L21', 'L22', 'L23', 'L24'],\n",
       "       ['M19', 'M20', 'M21', 'M22', 'M23', 'M24'],\n",
       "       ['N19', 'N20', 'N21', 'N22', 'N23', 'N24'],\n",
       "       ['O19', 'O20', 'O21', 'O22', 'O23', 'O24'],\n",
       "       ['P19', 'P20', 'P21', 'P22', 'P23', 'P24']], dtype=object)"
      ]
     },
     "execution_count": 17,
     "metadata": {},
     "output_type": "execute_result"
    }
   ],
   "execution_count": 17
  },
  {
   "cell_type": "code",
   "metadata": {
    "ExecuteTime": {
     "end_time": "2024-12-05T01:00:12.008076Z",
     "start_time": "2024-12-05T01:00:12.002488Z"
    }
   },
   "source": [
    "unique_projects = plate_df[PM_PROJECT_NAME_KEY].unique()\n",
    "studies_info = []\n",
    "for a_study in full_studies_info:\n",
    "    if a_study[PM_PROJECT_NAME_KEY] in unique_projects:\n",
    "        studies_info.append(a_study)\n",
    "studies_info"
   ],
   "outputs": [
    {
     "data": {
      "text/plain": [
       "[{'Email': 'r@gmail.com',\n",
       "  'HumanFiltering': 'True',\n",
       "  'Project Abbreviation': 'WellcomeLeap',\n",
       "  'Project Name': 'Wellcome_Leap_15538',\n",
       "  'experiment_design_description': 'plasma sequencing',\n",
       "  'qiita_id': '15538',\n",
       "  'qiita_metadata_fp': './test_data/Plate_Maps/15538_20241004-110731.txt',\n",
       "  'sample_accession_fp': './test_data/Plate_Maps/Tellseq_Wellcome Leap - 15538 - Sample Accession.csv'}]"
      ]
     },
     "execution_count": 18,
     "metadata": {},
     "output_type": "execute_result"
    }
   ],
   "execution_count": 18
  },
  {
   "cell_type": "markdown",
   "metadata": {},
   "source": [
    "### Step 3 of 7: Calculate pooling values for MiniPico with autopool\n",
    "\n",
    "This step will calculate the sample pooling, and update the sample data frame with the pool info.\n",
    "There are two automated methods to pool:\n",
    "1. **norm**: This will attempt to generate a normalized pool, automatically inferring the best parameter for pooling.\n",
    "    - ***pool_failures***:\n",
    "        - _high_: will pool failures at the highest pooling volume from optimized pooling.\n",
    "        - _low_: will pool failures at the lowest pooling volume from optimized pooling.\n",
    "\n",
    "2. **evp**: This will pool an even volume per sample.\n",
    "    - ***total_vol***: (Optional, Default: 100µL) The total volume to pool, in uL. Each sample will be pooled at 1/N of that volume, where N is total number of samples in the prep.\n",
    "\n",
    "3. **automate**: (Optional, Default = True) When False, this argument will allow one input parameters for **Legacy** arguments. \n",
    "\n",
    "> **Legacy**\n",
    "> There are legacy parameters to control pooling behaviors when autopool automation (automate=True) returns a poor result. To use these parameters, one must pass automate=False.\n",
    "\n",
    ">   - **min_conc**: (default: 0) This is the minimum concentration for a sample to be considered for pooling.\n",
    "    Set to 0 to pool all samples, regardless of concentration. Increasing this will have the \n",
    "    effect of increasing pool concentration, at the expense of samples dropping out. \n",
    ">   - **floor_conc**: This is the lowest concentration equivalent for which a sample will be \n",
    "    accurately pooled. Samples below this concentration will be pooled to the volume that they \n",
    "    would have been if they were actually that concentration. For example, if `floor_conc=20`, \n",
    "    and a sample at 20 nM pools at 500 nL, a sample at 40 nM will pool at 250 nL but a sample at \n",
    "    10 nM will still pool at 500 nL (rather than 1000). Increasing this value will have the effect \n",
    "    of increasing pool concentration, but decreasing read counts for low-concentration samples. \n",
    ">   - **total_nmol**: This is the total number of molecules to shoot for in the pool. Increasing\n",
    "    this will increase the overall volume of the pool.\n"
   ]
  },
  {
   "metadata": {
    "ExecuteTime": {
     "end_time": "2024-12-05T01:00:13.996210Z",
     "start_time": "2024-12-05T01:00:13.993373Z"
    }
   },
   "cell_type": "code",
   "source": [
    "## INPUT -- verify default\n",
    "total_vol = 190"
   ],
   "outputs": [],
   "execution_count": 19
  },
  {
   "cell_type": "code",
   "metadata": {
    "ExecuteTime": {
     "end_time": "2024-12-05T01:00:14.919970Z",
     "start_time": "2024-12-05T01:00:14.904126Z"
    }
   },
   "source": [
    "plate_df = autopool(plate_df,method='evp',total_vol=total_vol)\n",
    "plate_df.head()"
   ],
   "outputs": [
    {
     "data": {
      "text/plain": [
       "     Unnamed: 0  index        Sample  Col  \\\n",
       "288         288      9  01LJ01593.V8   10   \n",
       "289         289    201  01LJ01300.V5   10   \n",
       "290         290     21  01LJ02603.V8   10   \n",
       "291         291    213  01LJ01344.V5   10   \n",
       "292         292     33  01LJ04170.V5   10   \n",
       "\n",
       "                         Compressed Plate Name      Date  Plate Position  \\\n",
       "288   Wellcome_Leap_15538_1_2_3_4_2to1dilution  20240911               1   \n",
       "289  Wellcome_Leap_15538_1_2_3_4_10to1dilution  20240911               3   \n",
       "290   Wellcome_Leap_15538_1_2_3_4_2to1dilution  20240911               1   \n",
       "291   Wellcome_Leap_15538_1_2_3_4_2to1dilution  20240911               3   \n",
       "292   Wellcome_Leap_15538_1_2_3_4_2to1dilution  20240911               1   \n",
       "\n",
       "    Project Abbreviation         Project Name  \\\n",
       "288         WellcomeLeap  Wellcome_Leap_15538   \n",
       "289         WellcomeLeap  Wellcome_Leap_15538   \n",
       "290         WellcomeLeap  Wellcome_Leap_15538   \n",
       "291         WellcomeLeap  Wellcome_Leap_15538   \n",
       "292         WellcomeLeap  Wellcome_Leap_15538   \n",
       "\n",
       "                                 Project Plate  ...  \\\n",
       "288   Wellcome_Leap_15538_Plate_1_2to1dilution  ...   \n",
       "289  Wellcome_Leap_15538_Plate_3_10to1dilution  ...   \n",
       "290   Wellcome_Leap_15538_Plate_1_2to1dilution  ...   \n",
       "291   Wellcome_Leap_15538_Plate_3_2to1dilution  ...   \n",
       "292   Wellcome_Leap_15538_Plate_1_2to1dilution  ...   \n",
       "\n",
       "                                        i5 plate i5 well_row  i5 well_col  \\\n",
       "288  TellSeq_Barcode_Plate_1_LN2409001_EXP052026           A            1   \n",
       "289  TellSeq_Barcode_Plate_1_LN2409001_EXP052026           B            1   \n",
       "290  TellSeq_Barcode_Plate_1_LN2409001_EXP052026           C            1   \n",
       "291  TellSeq_Barcode_Plate_1_LN2409001_EXP052026           D            1   \n",
       "292  TellSeq_Barcode_Plate_1_LN2409001_EXP052026           E            1   \n",
       "\n",
       "     barcode_set_id barcode_id  MiniPico Library DNA Concentration  \\\n",
       "288       col19to24       C501                               0.635   \n",
       "289       col19to24       C509                               5.113   \n",
       "290       col19to24       C502                               0.677   \n",
       "291       col19to24       C510                               1.047   \n",
       "292       col19to24       C503                               3.777   \n",
       "\n",
       "    MiniPico Library Concentration Input DNA  sample sheet Sample_ID  \\\n",
       "288                       1.924242  7.496689            01LJ01593_V8   \n",
       "289                      15.493939  7.496200            01LJ01300_V5   \n",
       "290                       2.051515  7.507742            01LJ02603_V8   \n",
       "291                       3.172727  7.499745            01LJ01344_V5   \n",
       "292                      11.445455  7.495723            01LJ04170_V5   \n",
       "\n",
       "    MiniPico Pooled Volume  \n",
       "288            1979.166667  \n",
       "289            1979.166667  \n",
       "290            1979.166667  \n",
       "291            1979.166667  \n",
       "292            1979.166667  \n",
       "\n",
       "[5 rows x 49 columns]"
      ],
      "text/html": [
       "<div>\n",
       "<style scoped>\n",
       "    .dataframe tbody tr th:only-of-type {\n",
       "        vertical-align: middle;\n",
       "    }\n",
       "\n",
       "    .dataframe tbody tr th {\n",
       "        vertical-align: top;\n",
       "    }\n",
       "\n",
       "    .dataframe thead th {\n",
       "        text-align: right;\n",
       "    }\n",
       "</style>\n",
       "<table border=\"1\" class=\"dataframe\">\n",
       "  <thead>\n",
       "    <tr style=\"text-align: right;\">\n",
       "      <th></th>\n",
       "      <th>Unnamed: 0</th>\n",
       "      <th>index</th>\n",
       "      <th>Sample</th>\n",
       "      <th>Col</th>\n",
       "      <th>Compressed Plate Name</th>\n",
       "      <th>Date</th>\n",
       "      <th>Plate Position</th>\n",
       "      <th>Project Abbreviation</th>\n",
       "      <th>Project Name</th>\n",
       "      <th>Project Plate</th>\n",
       "      <th>...</th>\n",
       "      <th>i5 plate</th>\n",
       "      <th>i5 well_row</th>\n",
       "      <th>i5 well_col</th>\n",
       "      <th>barcode_set_id</th>\n",
       "      <th>barcode_id</th>\n",
       "      <th>MiniPico Library DNA Concentration</th>\n",
       "      <th>MiniPico Library Concentration</th>\n",
       "      <th>Input DNA</th>\n",
       "      <th>sample sheet Sample_ID</th>\n",
       "      <th>MiniPico Pooled Volume</th>\n",
       "    </tr>\n",
       "  </thead>\n",
       "  <tbody>\n",
       "    <tr>\n",
       "      <th>288</th>\n",
       "      <td>288</td>\n",
       "      <td>9</td>\n",
       "      <td>01LJ01593.V8</td>\n",
       "      <td>10</td>\n",
       "      <td>Wellcome_Leap_15538_1_2_3_4_2to1dilution</td>\n",
       "      <td>20240911</td>\n",
       "      <td>1</td>\n",
       "      <td>WellcomeLeap</td>\n",
       "      <td>Wellcome_Leap_15538</td>\n",
       "      <td>Wellcome_Leap_15538_Plate_1_2to1dilution</td>\n",
       "      <td>...</td>\n",
       "      <td>TellSeq_Barcode_Plate_1_LN2409001_EXP052026</td>\n",
       "      <td>A</td>\n",
       "      <td>1</td>\n",
       "      <td>col19to24</td>\n",
       "      <td>C501</td>\n",
       "      <td>0.635</td>\n",
       "      <td>1.924242</td>\n",
       "      <td>7.496689</td>\n",
       "      <td>01LJ01593_V8</td>\n",
       "      <td>1979.166667</td>\n",
       "    </tr>\n",
       "    <tr>\n",
       "      <th>289</th>\n",
       "      <td>289</td>\n",
       "      <td>201</td>\n",
       "      <td>01LJ01300.V5</td>\n",
       "      <td>10</td>\n",
       "      <td>Wellcome_Leap_15538_1_2_3_4_10to1dilution</td>\n",
       "      <td>20240911</td>\n",
       "      <td>3</td>\n",
       "      <td>WellcomeLeap</td>\n",
       "      <td>Wellcome_Leap_15538</td>\n",
       "      <td>Wellcome_Leap_15538_Plate_3_10to1dilution</td>\n",
       "      <td>...</td>\n",
       "      <td>TellSeq_Barcode_Plate_1_LN2409001_EXP052026</td>\n",
       "      <td>B</td>\n",
       "      <td>1</td>\n",
       "      <td>col19to24</td>\n",
       "      <td>C509</td>\n",
       "      <td>5.113</td>\n",
       "      <td>15.493939</td>\n",
       "      <td>7.496200</td>\n",
       "      <td>01LJ01300_V5</td>\n",
       "      <td>1979.166667</td>\n",
       "    </tr>\n",
       "    <tr>\n",
       "      <th>290</th>\n",
       "      <td>290</td>\n",
       "      <td>21</td>\n",
       "      <td>01LJ02603.V8</td>\n",
       "      <td>10</td>\n",
       "      <td>Wellcome_Leap_15538_1_2_3_4_2to1dilution</td>\n",
       "      <td>20240911</td>\n",
       "      <td>1</td>\n",
       "      <td>WellcomeLeap</td>\n",
       "      <td>Wellcome_Leap_15538</td>\n",
       "      <td>Wellcome_Leap_15538_Plate_1_2to1dilution</td>\n",
       "      <td>...</td>\n",
       "      <td>TellSeq_Barcode_Plate_1_LN2409001_EXP052026</td>\n",
       "      <td>C</td>\n",
       "      <td>1</td>\n",
       "      <td>col19to24</td>\n",
       "      <td>C502</td>\n",
       "      <td>0.677</td>\n",
       "      <td>2.051515</td>\n",
       "      <td>7.507742</td>\n",
       "      <td>01LJ02603_V8</td>\n",
       "      <td>1979.166667</td>\n",
       "    </tr>\n",
       "    <tr>\n",
       "      <th>291</th>\n",
       "      <td>291</td>\n",
       "      <td>213</td>\n",
       "      <td>01LJ01344.V5</td>\n",
       "      <td>10</td>\n",
       "      <td>Wellcome_Leap_15538_1_2_3_4_2to1dilution</td>\n",
       "      <td>20240911</td>\n",
       "      <td>3</td>\n",
       "      <td>WellcomeLeap</td>\n",
       "      <td>Wellcome_Leap_15538</td>\n",
       "      <td>Wellcome_Leap_15538_Plate_3_2to1dilution</td>\n",
       "      <td>...</td>\n",
       "      <td>TellSeq_Barcode_Plate_1_LN2409001_EXP052026</td>\n",
       "      <td>D</td>\n",
       "      <td>1</td>\n",
       "      <td>col19to24</td>\n",
       "      <td>C510</td>\n",
       "      <td>1.047</td>\n",
       "      <td>3.172727</td>\n",
       "      <td>7.499745</td>\n",
       "      <td>01LJ01344_V5</td>\n",
       "      <td>1979.166667</td>\n",
       "    </tr>\n",
       "    <tr>\n",
       "      <th>292</th>\n",
       "      <td>292</td>\n",
       "      <td>33</td>\n",
       "      <td>01LJ04170.V5</td>\n",
       "      <td>10</td>\n",
       "      <td>Wellcome_Leap_15538_1_2_3_4_2to1dilution</td>\n",
       "      <td>20240911</td>\n",
       "      <td>1</td>\n",
       "      <td>WellcomeLeap</td>\n",
       "      <td>Wellcome_Leap_15538</td>\n",
       "      <td>Wellcome_Leap_15538_Plate_1_2to1dilution</td>\n",
       "      <td>...</td>\n",
       "      <td>TellSeq_Barcode_Plate_1_LN2409001_EXP052026</td>\n",
       "      <td>E</td>\n",
       "      <td>1</td>\n",
       "      <td>col19to24</td>\n",
       "      <td>C503</td>\n",
       "      <td>3.777</td>\n",
       "      <td>11.445455</td>\n",
       "      <td>7.495723</td>\n",
       "      <td>01LJ04170_V5</td>\n",
       "      <td>1979.166667</td>\n",
       "    </tr>\n",
       "  </tbody>\n",
       "</table>\n",
       "<p>5 rows × 49 columns</p>\n",
       "</div>"
      ]
     },
     "execution_count": 20,
     "metadata": {},
     "output_type": "execute_result"
    }
   ],
   "execution_count": 20
  },
  {
   "cell_type": "code",
   "metadata": {
    "ExecuteTime": {
     "end_time": "2024-12-05T01:00:16.169625Z",
     "start_time": "2024-12-05T01:00:16.158373Z"
    }
   },
   "source": [
    "MINIPICO_POOLED_VOL_KEY = 'MiniPico Pooled Volume'\n",
    "\n",
    "vols = make_compressed_2d_array(\n",
    "    plate_df, data_col=MINIPICO_POOLED_VOL_KEY, \n",
    "    row_col=row_col_key, col_col=col_col_key\n",
    ").astype(float)\n",
    "vols"
   ],
   "outputs": [
    {
     "data": {
      "text/plain": [
       "array([[1979.16666667, 1979.16666667, 1979.16666667, 1979.16666667,\n",
       "        1979.16666667, 1979.16666667],\n",
       "       [1979.16666667, 1979.16666667, 1979.16666667, 1979.16666667,\n",
       "        1979.16666667, 1979.16666667],\n",
       "       [1979.16666667, 1979.16666667, 1979.16666667, 1979.16666667,\n",
       "        1979.16666667, 1979.16666667],\n",
       "       [1979.16666667, 1979.16666667, 1979.16666667, 1979.16666667,\n",
       "        1979.16666667, 1979.16666667],\n",
       "       [1979.16666667, 1979.16666667, 1979.16666667, 1979.16666667,\n",
       "        1979.16666667, 1979.16666667],\n",
       "       [1979.16666667, 1979.16666667, 1979.16666667, 1979.16666667,\n",
       "        1979.16666667, 1979.16666667],\n",
       "       [1979.16666667, 1979.16666667, 1979.16666667, 1979.16666667,\n",
       "        1979.16666667, 1979.16666667],\n",
       "       [1979.16666667, 1979.16666667, 1979.16666667, 1979.16666667,\n",
       "        1979.16666667, 1979.16666667],\n",
       "       [1979.16666667, 1979.16666667, 1979.16666667, 1979.16666667,\n",
       "        1979.16666667, 1979.16666667],\n",
       "       [1979.16666667, 1979.16666667, 1979.16666667, 1979.16666667,\n",
       "        1979.16666667, 1979.16666667],\n",
       "       [1979.16666667, 1979.16666667, 1979.16666667, 1979.16666667,\n",
       "        1979.16666667, 1979.16666667],\n",
       "       [1979.16666667, 1979.16666667, 1979.16666667, 1979.16666667,\n",
       "        1979.16666667, 1979.16666667],\n",
       "       [1979.16666667, 1979.16666667, 1979.16666667, 1979.16666667,\n",
       "        1979.16666667, 1979.16666667],\n",
       "       [1979.16666667, 1979.16666667, 1979.16666667, 1979.16666667,\n",
       "        1979.16666667, 1979.16666667],\n",
       "       [1979.16666667, 1979.16666667, 1979.16666667, 1979.16666667,\n",
       "        1979.16666667, 1979.16666667],\n",
       "       [1979.16666667, 1979.16666667, 1979.16666667, 1979.16666667,\n",
       "        1979.16666667, 1979.16666667]])"
      ]
     },
     "execution_count": 21,
     "metadata": {},
     "output_type": "execute_result"
    }
   ],
   "execution_count": 21
  },
  {
   "metadata": {
    "ExecuteTime": {
     "end_time": "2024-12-05T01:00:17.201321Z",
     "start_time": "2024-12-05T01:00:17.184155Z"
    }
   },
   "cell_type": "code",
   "source": [
    "#threshold = find_threshold(plate_df[MINIPICO_LIB_CONC_KEY], plate_df[PM_BLANK_KEY])\n",
    "threshold = find_threshold(plate_df['MiniPico Library Concentration'], plate_df['Blank'])\n",
    "threshold"
   ],
   "outputs": [
    {
     "data": {
      "text/plain": [
       "np.float64(nan)"
      ]
     },
     "execution_count": 22,
     "metadata": {},
     "output_type": "execute_result"
    }
   ],
   "execution_count": 22
  },
  {
   "cell_type": "code",
   "metadata": {
    "ExecuteTime": {
     "end_time": "2024-12-05T01:00:19.157489Z",
     "start_time": "2024-12-05T01:00:18.002637Z"
    }
   },
   "source": [
    "# visualize\n",
    "print(\"Floor concentration: {}\".format(threshold))\n",
    "conc, vol = estimate_pool_conc_vol(plate_df[MINIPICO_POOLED_VOL_KEY], plate_df[MINIPICO_LIB_CONC_KEY])\n",
    "print(\"Pool concentration: {:.2f}\".format(conc))\n",
    "print(\"Pool volume: {:.2f}\".format(vol))\n",
    "with suppress(np.linalg.LinAlgError):\n",
    "    plot_plate_vals(vols)"
   ],
   "outputs": [
    {
     "name": "stdout",
     "output_type": "stream",
     "text": [
      "Floor concentration: nan\n",
      "Pool concentration: 4.16\n",
      "Pool volume: 190000.00\n"
     ]
    },
    {
     "data": {
      "text/plain": [
       "<Figure size 2000x2000 with 4 Axes>"
      ],
      "image/png": "[encoded data removed]"
     },
     "metadata": {},
     "output_type": "display_data"
    }
   ],
   "execution_count": 23
  },
  {
   "cell_type": "code",
   "metadata": {
    "ExecuteTime": {
     "end_time": "2024-12-05T01:00:19.282413Z",
     "start_time": "2024-12-05T01:00:19.159205Z"
    }
   },
   "source": [
    "sns.scatterplot(x=MINIPICO_LIB_CONC_KEY, y=MINIPICO_POOLED_VOL_KEY,data=plate_df)"
   ],
   "outputs": [
    {
     "data": {
      "text/plain": [
       "<Axes: xlabel='MiniPico Library Concentration', ylabel='MiniPico Pooled Volume'>"
      ]
     },
     "execution_count": 24,
     "metadata": {},
     "output_type": "execute_result"
    },
    {
     "data": {
      "text/plain": [
       "<Figure size 640x480 with 1 Axes>"
      ],
      "image/png": "[encoded data removed]"
     },
     "metadata": {},
     "output_type": "display_data"
    }
   ],
   "execution_count": 24
  },
  {
   "cell_type": "markdown",
   "metadata": {},
   "source": "### Step 4 of 7: Make equal volume pooling pick list"
  },
  {
   "cell_type": "code",
   "metadata": {
    "ExecuteTime": {
     "end_time": "2024-12-05T01:00:20.726204Z",
     "start_time": "2024-12-05T01:00:20.723729Z"
    }
   },
   "source": [
    "## INPUT\n",
    "evp_picklist_fbase = './test_output/Indices/Tellseq_evp'"
   ],
   "outputs": [],
   "execution_count": 25
  },
  {
   "cell_type": "code",
   "metadata": {
    "ExecuteTime": {
     "end_time": "2024-12-05T01:00:21.657063Z",
     "start_time": "2024-12-05T01:00:21.653968Z"
    }
   },
   "source": [
    "evp_picklist = format_pooling_echo_pick_list(\n",
    "    vols, max_vol_per_well=30000, source_well_names=source_well_names)"
   ],
   "outputs": [],
   "execution_count": 26
  },
  {
   "cell_type": "code",
   "metadata": {
    "ExecuteTime": {
     "end_time": "2024-12-05T01:00:24.465813Z",
     "start_time": "2024-12-05T01:00:24.461724Z"
    }
   },
   "source": [
    "evp_picklist_fp = get_set_fp(evp_picklist_fbase, current_set_id)\n",
    "evp_picklist_fp"
   ],
   "outputs": [
    {
     "data": {
      "text/plain": [
       "'./test_output/Indices/Tellseq_evp_set_col19to24.txt'"
      ]
     },
     "execution_count": 27,
     "metadata": {},
     "output_type": "execute_result"
    }
   ],
   "execution_count": 27
  },
  {
   "metadata": {
    "ExecuteTime": {
     "end_time": "2024-12-05T01:00:25.251009Z",
     "start_time": "2024-12-05T01:00:25.246753Z"
    }
   },
   "cell_type": "code",
   "source": "warn_if_fp_exists(evp_picklist_fp)",
   "outputs": [
    {
     "name": "stderr",
     "output_type": "stream",
     "text": [
      "/Users/abirmingham/Work/Repositories/fork_metagenomics_pooling_notebook/metapool/util.py:174: UserWarning: Warning! This file exists already: ./test_output/Indices/Tellseq_evp_set_col19to24.txt.\n",
      "  warnings.warn(f\"Warning! This file exists already: {fp}.\")\n"
     ]
    }
   ],
   "execution_count": 28
  },
  {
   "cell_type": "code",
   "metadata": {
    "ExecuteTime": {
     "end_time": "2024-12-05T01:00:26.440684Z",
     "start_time": "2024-12-05T01:00:26.296112Z"
    }
   },
   "source": [
    "with open(evp_picklist_fp,'w') as f:\n",
    "    f.write(evp_picklist)\n",
    "\n",
    "!head {evp_picklist_fp}"
   ],
   "outputs": [
    {
     "name": "stdout",
     "output_type": "stream",
     "text": [
      "Source Plate Name,Source Plate Type,Source Well,Concentration,Transfer Volume,Destination Plate Name,Destination Well\r\n",
      "1,384LDV_AQ_B2,A19,,1979.17,NormalizedDNA,A1\r\n",
      "1,384LDV_AQ_B2,A20,,1979.17,NormalizedDNA,A1\r\n",
      "1,384LDV_AQ_B2,A21,,1979.17,NormalizedDNA,A1\r\n",
      "1,384LDV_AQ_B2,A22,,1979.17,NormalizedDNA,A1\r\n",
      "1,384LDV_AQ_B2,A23,,1979.17,NormalizedDNA,A1\r\n",
      "1,384LDV_AQ_B2,A24,,1979.17,NormalizedDNA,A1\r\n",
      "1,384LDV_AQ_B2,B19,,1979.17,NormalizedDNA,A1\r\n",
      "1,384LDV_AQ_B2,B20,,1979.17,NormalizedDNA,A1\r\n",
      "1,384LDV_AQ_B2,B21,,1979.17,NormalizedDNA,A1\r\n"
     ]
    }
   ],
   "execution_count": 29
  },
  {
   "cell_type": "markdown",
   "metadata": {},
   "source": "### Step 5 of 7: Make machine samplesheet for iSeq instrument"
  },
  {
   "cell_type": "code",
   "metadata": {
    "ExecuteTime": {
     "end_time": "2024-12-05T01:00:28.854077Z",
     "start_time": "2024-12-05T01:00:28.851392Z"
    }
   },
   "source": [
    "## INPUT\n",
    "machine_samplesheet_fbase = './test_output/SampleSheets/Tellseq_samplesheet_instrument_iseq'"
   ],
   "outputs": [],
   "execution_count": 30
  },
  {
   "cell_type": "markdown",
   "metadata": {},
   "source": [
    "Do not change the below constants unless you really know what you are doing!"
   ]
  },
  {
   "cell_type": "code",
   "metadata": {
    "ExecuteTime": {
     "end_time": "2024-12-05T01:00:51.209416Z",
     "start_time": "2024-12-05T01:00:51.205555Z"
    }
   },
   "source": [
    "MACHINE_SHEET_TEMPLATE = \"\"\"[Header],,,,,,,,,,,\n",
    "Experiment Name,{expt_name},,,,,,,,,,\n",
    "Investigator Name,Enter the investigator name (optional),,,,,,,,,,\n",
    "Project Name,{proj_name},,,,,,,,,,\n",
    "Date,{today_date},,,,,,,,,,\n",
    "Workflow,GenerateFASTQ,,,,,,,,,,\n",
    "Library Prep Kit,TELLSEQ,,,,,,,,,,\n",
    "[Manifest],,,,,,,,,,,\n",
    "Enter the manifest files used to align to targeted reference regions of the genome. Use the following format.,,,,,,,,,,,\n",
    "ManifestKey, ManifestFile,,,,,,,,,,\n",
    "[Reads],,,,,,,,,,,\n",
    "146,,,,,,,,,,,\n",
    "146,,,,,,,,,,,\n",
    "[Settings],,,,,,,,,,,\n",
    "Enter any analysis settings. See the example setting below,,,,,,,,,,,\n",
    "Adapter, CTGTCTCTTATACACATCT,,,,,,,,,,\n",
    "[Data],,,,,,,,,,,\n",
    "Enter sample information for the run in this section,,,,,,,,,,,\n",
    "Sample_ID,Sample_Name,Sample_Plate,Description,I7_Index_ID,index,I5_Index_ID,index2,Manifest,GenomeFolder,Sample_Project,Sample_Well\n",
    "Sample1,,A,A1,7027,NNNNNNNNNNNNNNNNNN,5001,NNNNNNNNNN,,,,\"\"\""
   ],
   "outputs": [],
   "execution_count": 31
  },
  {
   "cell_type": "code",
   "metadata": {
    "ExecuteTime": {
     "end_time": "2024-12-05T01:00:51.975952Z",
     "start_time": "2024-12-05T01:00:51.971643Z"
    }
   },
   "source": [
    "def make_set_machine_sheet_str(a_plate_df, an_expt_name, a_set_id):\n",
    "    set_expt_name = f\"{an_expt_name}_{a_set_id}\"\n",
    "    # TODO: this is a bit of a hack; you can end up with multiple \n",
    "    #  compressed plate names due to multiple dilutions, and there's no \n",
    "    #  guarantee that every 96-sample barcode set will happen to pull from all\n",
    "    #  the same dilution plates as all the others.  But I think it will still\n",
    "    #  be clear to a human that they all come from the same project.\n",
    "    compressed_plate_name = \\\n",
    "        sorted(list(a_plate_df[PM_COMPRESSED_PLATE_NAME_KEY].unique()))[0]\n",
    "    curr_date = datetime.now().strftime('%Y-%m-%d')\n",
    "    result = MACHINE_SHEET_TEMPLATE.format(\n",
    "        expt_name=set_expt_name, proj_name=compressed_plate_name, \n",
    "        today_date=curr_date)\n",
    "    return result"
   ],
   "outputs": [],
   "execution_count": 32
  },
  {
   "cell_type": "code",
   "metadata": {
    "ExecuteTime": {
     "end_time": "2024-12-05T01:00:53.329032Z",
     "start_time": "2024-12-05T01:00:53.325977Z"
    }
   },
   "source": [
    "machine_sheet_str = make_set_machine_sheet_str(\n",
    "    plate_df, expt_name, current_set_id)"
   ],
   "outputs": [],
   "execution_count": 33
  },
  {
   "cell_type": "code",
   "metadata": {
    "ExecuteTime": {
     "end_time": "2024-12-05T01:00:54.254837Z",
     "start_time": "2024-12-05T01:00:54.251306Z"
    }
   },
   "source": [
    "machine_samplesheet_fp = get_set_fp(machine_samplesheet_fbase, current_set_id)\n",
    "warn_if_fp_exists(machine_samplesheet_fp)"
   ],
   "outputs": [
    {
     "name": "stderr",
     "output_type": "stream",
     "text": [
      "/Users/abirmingham/Work/Repositories/fork_metagenomics_pooling_notebook/metapool/util.py:174: UserWarning: Warning! This file exists already: ./test_output/SampleSheets/Tellseq_samplesheet_instrument_iseq_set_col19to24.txt.\n",
      "  warnings.warn(f\"Warning! This file exists already: {fp}.\")\n"
     ]
    }
   ],
   "execution_count": 34
  },
  {
   "cell_type": "code",
   "metadata": {
    "ExecuteTime": {
     "end_time": "2024-12-05T01:00:55.475623Z",
     "start_time": "2024-12-05T01:00:55.328200Z"
    }
   },
   "source": [
    "with open(machine_samplesheet_fp,'w') as f:\n",
    "    f.write(machine_sheet_str)\n",
    "    \n",
    "!head {machine_samplesheet_fp}"
   ],
   "outputs": [
    {
     "name": "stdout",
     "output_type": "stream",
     "text": [
      "[Header],,,,,,,,,,,\r\n",
      "Experiment Name,RKLtest_col19to24,,,,,,,,,,\r\n",
      "Investigator Name,Enter the investigator name (optional),,,,,,,,,,\r\n",
      "Project Name,Wellcome_Leap_15538_1_2_3_4_10to1dilution,,,,,,,,,,\r\n",
      "Date,2024-12-04,,,,,,,,,,\r\n",
      "Workflow,GenerateFASTQ,,,,,,,,,,\r\n",
      "Library Prep Kit,TELLSEQ,,,,,,,,,,\r\n",
      "[Manifest],,,,,,,,,,,\r\n",
      "Enter the manifest files used to align to targeted reference regions of the genome. Use the following format.,,,,,,,,,,,\r\n",
      "ManifestKey, ManifestFile,,,,,,,,,,\r\n"
     ]
    }
   ],
   "execution_count": 35
  },
  {
   "cell_type": "markdown",
   "metadata": {},
   "source": "### Step 6 of 7: Make iSeq and NovaSeqX samplesheets for the SPP"
  },
  {
   "cell_type": "code",
   "metadata": {
    "ExecuteTime": {
     "end_time": "2024-12-05T01:00:57.050168Z",
     "start_time": "2024-12-05T01:00:57.046748Z"
    }
   },
   "source": [
    "## INPUT\n",
    "spp_samplesheet_fbase = './test_output/SampleSheets/Tellseq_samplesheet_spp'\n",
    "iseq_sequencer = 'iSeq'\n",
    "novaseq_sequencer = 'NovaSeqX'"
   ],
   "outputs": [],
   "execution_count": 36
  },
  {
   "metadata": {
    "ExecuteTime": {
     "end_time": "2024-12-05T01:00:57.850071Z",
     "start_time": "2024-12-05T01:00:57.846944Z"
    }
   },
   "cell_type": "code",
   "source": "lanes = [1]",
   "outputs": [],
   "execution_count": 37
  },
  {
   "cell_type": "code",
   "metadata": {
    "ExecuteTime": {
     "end_time": "2024-12-05T01:00:58.414532Z",
     "start_time": "2024-12-05T01:00:58.411674Z"
    }
   },
   "source": [
    "# CONSTANTS: Users, DO NOT CHANGE THESE\n",
    "# values without consulting with tech team\n",
    "SHEET_TYPE_VERSIONS = {\n",
    "    TELLSEQ_METAG_SHEET_TYPE: '10',  # version supporting SampleContext\n",
    "    TELLSEQ_ABSQUANT_SHEET_TYPE: '10'\n",
    "}\n",
    "\n",
    "BIOINFO_BASE = {\n",
    "    'ForwardAdapter': 'GATCGGAAGAGCACACGTCTGAACTCCAGTCAC',\n",
    "    'ReverseAdapter': 'GATCGGAAGAGCGTCGTGTAGGGAAAGGAGTGT',\n",
    "    'library_construction_protocol': 'Knight Lab Kapa HyperPlus',\n",
    "    # The BarcodesAreRC value is no longer used, but is still checked for\n",
    "    # by the validation while making the sample sheet, so put in a dummy value\n",
    "    'BarcodesAreRC': 'True'\n",
    "}"
   ],
   "outputs": [],
   "execution_count": 38
  },
  {
   "metadata": {
    "ExecuteTime": {
     "end_time": "2024-12-05T01:00:59.049440Z",
     "start_time": "2024-12-05T01:00:59.044316Z"
    }
   },
   "cell_type": "code",
   "source": [
    "# Determine the sample sheet type to make\n",
    "expt_type = TELLSEQ_ABSQUANT_SHEET_TYPE if is_absquant(plate_df) \\\n",
    "    else TELLSEQ_METAG_SHEET_TYPE\n",
    "expt_type"
   ],
   "outputs": [
    {
     "data": {
      "text/plain": [
       "'tellseq_metag'"
      ]
     },
     "execution_count": 39,
     "metadata": {},
     "output_type": "execute_result"
    }
   ],
   "execution_count": 39
  },
  {
   "cell_type": "code",
   "metadata": {
    "ExecuteTime": {
     "end_time": "2024-12-05T01:00:59.700519Z",
     "start_time": "2024-12-05T01:00:59.682841Z"
    }
   },
   "source": [
    "# Extend the metadata dictionary with additional information\n",
    "metadata_dict_w_sample_context = make_sections_dict(\n",
    "    plate_df, studies_info, expt_name,\n",
    "    expt_type, SHEET_TYPE_VERSIONS[expt_type], BIOINFO_BASE)"
   ],
   "outputs": [],
   "execution_count": 40
  },
  {
   "metadata": {
    "ExecuteTime": {
     "end_time": "2024-12-05T01:01:00.353763Z",
     "start_time": "2024-12-05T01:01:00.320982Z"
    }
   },
   "cell_type": "code",
   "source": [
    "iseq_spp_sheet = make_sample_sheet(\n",
    "    metadata_dict_w_sample_context, plate_df, iseq_sequencer, lanes)"
   ],
   "outputs": [],
   "execution_count": 41
  },
  {
   "metadata": {
    "ExecuteTime": {
     "end_time": "2024-12-05T01:01:00.882002Z",
     "start_time": "2024-12-05T01:01:00.878544Z"
    }
   },
   "cell_type": "code",
   "source": [
    "iseq_spp_samplesheet_fp = get_set_fp(\n",
    "    f\"{spp_samplesheet_fbase}_{iseq_sequencer.lower()}\", current_set_id)\n",
    "warn_if_fp_exists(iseq_spp_samplesheet_fp)"
   ],
   "outputs": [
    {
     "name": "stderr",
     "output_type": "stream",
     "text": [
      "/Users/abirmingham/Work/Repositories/fork_metagenomics_pooling_notebook/metapool/util.py:174: UserWarning: Warning! This file exists already: ./test_output/SampleSheets/Tellseq_samplesheet_spp_iseq_set_col19to24.txt.\n",
      "  warnings.warn(f\"Warning! This file exists already: {fp}.\")\n"
     ]
    }
   ],
   "execution_count": 42
  },
  {
   "metadata": {
    "ExecuteTime": {
     "end_time": "2024-12-05T01:01:01.642070Z",
     "start_time": "2024-12-05T01:01:01.466661Z"
    }
   },
   "cell_type": "code",
   "source": [
    "with open(iseq_spp_samplesheet_fp,'w') as f:\n",
    "    iseq_spp_sheet.write(f)\n",
    "\n",
    "!head {iseq_spp_samplesheet_fp}"
   ],
   "outputs": [
    {
     "name": "stdout",
     "output_type": "stream",
     "text": [
      "[Header],,,,,,,,\r\n",
      "IEMFileVersion,4,,,,,,,\r\n",
      "SheetType,tellseq_metag,,,,,,,\r\n",
      "SheetVersion,10,,,,,,,\r\n",
      "Investigator Name,Knight,,,,,,,\r\n",
      "Experiment Name,RKLtest,,,,,,,\r\n",
      "Date,2024-12-04,,,,,,,\r\n",
      "Workflow,GenerateFASTQ,,,,,,,\r\n",
      "Application,FASTQ Only,,,,,,,\r\n",
      "Assay,Metagenomic,,,,,,,\r\n"
     ]
    }
   ],
   "execution_count": 43
  },
  {
   "cell_type": "code",
   "metadata": {
    "ExecuteTime": {
     "end_time": "2024-12-05T01:01:03.080701Z",
     "start_time": "2024-12-05T01:01:03.047602Z"
    }
   },
   "source": [
    "novaseq_spp_sheet = make_sample_sheet(\n",
    "    metadata_dict_w_sample_context, plate_df, novaseq_sequencer, lanes)"
   ],
   "outputs": [],
   "execution_count": 44
  },
  {
   "cell_type": "code",
   "metadata": {
    "ExecuteTime": {
     "end_time": "2024-12-05T01:01:03.603356Z",
     "start_time": "2024-12-05T01:01:03.600619Z"
    }
   },
   "source": [
    "novaseq_spp_samplesheet_fp = get_set_fp(\n",
    "    f\"{spp_samplesheet_fbase}_{novaseq_sequencer.lower()}\", current_set_id)\n",
    "warn_if_fp_exists(novaseq_spp_samplesheet_fp)"
   ],
   "outputs": [],
   "execution_count": 45
  },
  {
   "cell_type": "code",
   "metadata": {
    "ExecuteTime": {
     "end_time": "2024-12-05T01:01:04.481554Z",
     "start_time": "2024-12-05T01:01:04.308371Z"
    }
   },
   "source": [
    "with open(novaseq_spp_samplesheet_fp,'w') as f:\n",
    "    novaseq_spp_sheet.write(f)\n",
    "\n",
    "!head {novaseq_spp_samplesheet_fp}"
   ],
   "outputs": [
    {
     "name": "stdout",
     "output_type": "stream",
     "text": [
      "[Header],,,,,,,,\r\n",
      "IEMFileVersion,4,,,,,,,\r\n",
      "SheetType,tellseq_metag,,,,,,,\r\n",
      "SheetVersion,10,,,,,,,\r\n",
      "Investigator Name,Knight,,,,,,,\r\n",
      "Experiment Name,RKLtest,,,,,,,\r\n",
      "Date,2024-12-04,,,,,,,\r\n",
      "Workflow,GenerateFASTQ,,,,,,,\r\n",
      "Application,FASTQ Only,,,,,,,\r\n",
      "Assay,Metagenomic,,,,,,,\r\n"
     ]
    }
   ],
   "execution_count": 46
  },
  {
   "metadata": {},
   "cell_type": "markdown",
   "source": [
    "### Step 7 of 7: Write plate set dataframe to file\n",
    "\n",
    "Save the plate dataframe for this set containing the pooled volume results."
   ]
  },
  {
   "metadata": {
    "ExecuteTime": {
     "end_time": "2024-12-05T01:01:06.257853Z",
     "start_time": "2024-12-05T01:01:06.252740Z"
    }
   },
   "cell_type": "code",
   "source": [
    "plate_set_fbase = full_plate_fp.replace(\"B.txt\", f\"C\")\n",
    "plate_set_fp = get_set_fp(plate_set_fbase, current_set_id)\n",
    "plate_set_fp"
   ],
   "outputs": [
    {
     "data": {
      "text/plain": [
       "'./test_output/QC/Tellseq_plate_df_C_set_col19to24.txt'"
      ]
     },
     "execution_count": 47,
     "metadata": {},
     "output_type": "execute_result"
    }
   ],
   "execution_count": 47
  },
  {
   "metadata": {
    "ExecuteTime": {
     "end_time": "2024-12-05T01:01:08.337853Z",
     "start_time": "2024-12-05T01:01:08.334808Z"
    }
   },
   "cell_type": "code",
   "source": "warn_if_fp_exists(plate_set_fp)",
   "outputs": [],
   "execution_count": 48
  },
  {
   "metadata": {
    "ExecuteTime": {
     "end_time": "2024-12-05T01:01:08.909867Z",
     "start_time": "2024-12-05T01:01:08.902395Z"
    }
   },
   "cell_type": "code",
   "source": "plate_df.to_csv(plate_set_fp, sep=\"\\t\", index=False)",
   "outputs": [],
   "execution_count": 49
  },
  {
   "metadata": {},
   "cell_type": "code",
   "source": "",
   "outputs": [],
   "execution_count": null
  }
 ],
 "metadata": {
  "kernelspec": {
   "display_name": "Python 3 (ipykernel)",
   "language": "python",
   "name": "python3"
  },
  "language_info": {
   "codemirror_mode": {
    "name": "ipython",
    "version": 3
   },
   "file_extension": ".py",
   "mimetype": "text/x-python",
   "name": "python",
   "nbconvert_exporter": "python",
   "pygments_lexer": "ipython3",
   "version": "3.9.19"
  },
  "toc": {
   "base_numbering": 1,
   "nav_menu": {
    "height": "473px",
    "width": "381px"
   },
   "number_sections": true,
   "sideBar": true,
   "skip_h1_title": false,
   "title_cell": "Table of Contents",
   "title_sidebar": "Contents",
   "toc_cell": false,
   "toc_position": {
    "height": "740px",
    "left": "0px",
    "right": "1407.6666259765625px",
    "top": "112px",
    "width": "211.705px"
   },
   "toc_section_display": "block",
   "toc_window_display": true
  },
  "widgets": {
   "application/vnd.jupyter.widget-state+json": {
    "state": {},
    "version_major": 2,
    "version_minor": 0
   }
  }
 },
 "nbformat": 4,
 "nbformat_minor": 4
}

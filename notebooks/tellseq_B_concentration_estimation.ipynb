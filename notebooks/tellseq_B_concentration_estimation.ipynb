{
 "cells": [
  {
   "cell_type": "code",
   "metadata": {
    "ExecuteTime": {
     "end_time": "2025-04-01T20:42:13.946230Z",
     "start_time": "2025-04-01T20:42:12.185923Z"
    }
   },
   "source": [
    "import pandas as pd\n",
    "%reload_ext watermark\n",
    "%matplotlib inline\n",
    "\n",
    "import os\n",
    "from scipy.stats import mannwhitneyu\n",
    "from metapool.metapool import *\n",
    "from metapool import (SAMPLE_DNA_CONC_KEY)\n",
    "from metapool.mp_strings import (\n",
    "    PM_SAMPLE_KEY, PM_LIB_WELL_KEY)\n",
    "from metapool.util import warn_if_fp_exists\n",
    "%watermark -i -v -iv -m -h -p metapool,sample_sheet,openpyxl -u"
   ],
   "outputs": [
    {
     "name": "stdout",
     "output_type": "stream",
     "text": [
      "Last updated: 2025-04-01T13:42:13.915237-07:00\n",
      "\n",
      "Python implementation: CPython\n",
      "Python version       : 3.9.19\n",
      "IPython version      : 8.12.0\n",
      "\n",
      "metapool    : 0+untagged.207.g87860a0\n",
      "sample_sheet: 0.13.0\n",
      "openpyxl    : 3.1.5\n",
      "\n",
      "Compiler    : Clang 16.0.6 \n",
      "OS          : Darwin\n",
      "Release     : 24.3.0\n",
      "Machine     : x86_64\n",
      "Processor   : i386\n",
      "CPU cores   : 16\n",
      "Architecture: 64bit\n",
      "\n",
      "Hostname: C02G21EEMD6Q\n",
      "\n",
      "pandas    : 2.2.3\n",
      "json      : 2.0.9\n",
      "seaborn   : 0.13.2\n",
      "re        : 2.2.1\n",
      "numpy     : 2.0.2\n",
      "matplotlib: 3.9.4\n",
      "\n"
     ]
    }
   ],
   "execution_count": 1
  },
  {
   "metadata": {
    "ExecuteTime": {
     "end_time": "2025-04-01T20:42:16.759112Z",
     "start_time": "2025-04-01T20:42:15.204437Z"
    }
   },
   "cell_type": "code",
   "source": "! conda list",
   "outputs": [
    {
     "name": "stdout",
     "output_type": "stream",
     "text": [
      "# packages in environment at /Applications/miniconda3/envs/metapool:\r\n",
      "#\r\n",
      "# Name                    Version                   Build  Channel\r\n",
      "anyio                     4.4.0              pyhd8ed1ab_0    conda-forge\r\n",
      "appnope                   0.1.4              pyhd8ed1ab_0    conda-forge\r\n",
      "argon2-cffi               23.1.0             pyhd8ed1ab_0    conda-forge\r\n",
      "argon2-cffi-bindings      21.2.0           py39hdc70f33_4    conda-forge\r\n",
      "arrow                     1.3.0              pyhd8ed1ab_0    conda-forge\r\n",
      "asttokens                 2.4.1              pyhd8ed1ab_0    conda-forge\r\n",
      "async-lru                 2.0.4              pyhd8ed1ab_0    conda-forge\r\n",
      "attrs                     23.2.0             pyh71513ae_0    conda-forge\r\n",
      "babel                     2.14.0             pyhd8ed1ab_0    conda-forge\r\n",
      "backcall                  0.2.0              pyh9f0ad1d_0    conda-forge\r\n",
      "beautifulsoup4            4.12.3             pyha770c72_0    conda-forge\r\n",
      "biom-format               2.1.16                   pypi_0    pypi\r\n",
      "bleach                    6.1.0              pyhd8ed1ab_0    conda-forge\r\n",
      "brotli                    1.1.0                h0dc2134_1    conda-forge\r\n",
      "brotli-bin                1.1.0                h0dc2134_1    conda-forge\r\n",
      "brotli-python             1.1.0            py39h840bb9f_1    conda-forge\r\n",
      "bzip2                     1.0.8                h10d778d_5    conda-forge\r\n",
      "ca-certificates           2024.6.2             h8857fd0_0    conda-forge\r\n",
      "cached-property           1.5.2                hd8ed1ab_1    conda-forge\r\n",
      "cached_property           1.5.2              pyha770c72_1    conda-forge\r\n",
      "certifi                   2024.6.2           pyhd8ed1ab_0    conda-forge\r\n",
      "cffi                      1.16.0           py39h18ef598_0    conda-forge\r\n",
      "charset-normalizer        3.3.2              pyhd8ed1ab_0    conda-forge\r\n",
      "click                     8.1.7                    pypi_0    pypi\r\n",
      "comm                      0.2.2              pyhd8ed1ab_0    conda-forge\r\n",
      "contourpy                 1.2.1            py39h0ca7971_0    conda-forge\r\n",
      "coverage                  7.5.4                    pypi_0    pypi\r\n",
      "coveralls                 4.0.1                    pypi_0    pypi\r\n",
      "cycler                    0.12.1             pyhd8ed1ab_0    conda-forge\r\n",
      "debugpy                   1.8.2            py39h09c4c31_0    conda-forge\r\n",
      "decorator                 5.1.1              pyhd8ed1ab_0    conda-forge\r\n",
      "defusedxml                0.7.1              pyhd8ed1ab_0    conda-forge\r\n",
      "docopt                    0.6.2                    pypi_0    pypi\r\n",
      "entrypoints               0.4                pyhd8ed1ab_0    conda-forge\r\n",
      "et_xmlfile                1.1.0              pyhd8ed1ab_0    conda-forge\r\n",
      "exceptiongroup            1.2.0              pyhd8ed1ab_2    conda-forge\r\n",
      "executing                 2.0.1              pyhd8ed1ab_0    conda-forge\r\n",
      "flake8                    7.1.0              pyhd8ed1ab_0    conda-forge\r\n",
      "fonttools                 4.53.0           py39hded5825_0    conda-forge\r\n",
      "fqdn                      1.5.1              pyhd8ed1ab_0    conda-forge\r\n",
      "freetype                  2.12.1               h60636b9_2    conda-forge\r\n",
      "future                    1.0.0                    pypi_0    pypi\r\n",
      "h11                       0.14.0             pyhd8ed1ab_0    conda-forge\r\n",
      "h2                        4.1.0            py39h6e9494a_0    conda-forge\r\n",
      "h5py                      3.11.0                   pypi_0    pypi\r\n",
      "hpack                     4.0.0              pyh9f0ad1d_0    conda-forge\r\n",
      "httpcore                  1.0.5              pyhd8ed1ab_0    conda-forge\r\n",
      "httpx                     0.27.0             pyhd8ed1ab_0    conda-forge\r\n",
      "hyperframe                6.0.1              pyhd8ed1ab_0    conda-forge\r\n",
      "idna                      3.7                pyhd8ed1ab_0    conda-forge\r\n",
      "importlib-metadata        8.0.0              pyha770c72_0    conda-forge\r\n",
      "importlib-resources       6.4.0              pyhd8ed1ab_0    conda-forge\r\n",
      "importlib_metadata        8.0.0                hd8ed1ab_0    conda-forge\r\n",
      "importlib_resources       6.4.0              pyhd8ed1ab_0    conda-forge\r\n",
      "ipykernel                 6.29.5             pyh57ce528_0    conda-forge\r\n",
      "ipython                   8.12.0             pyhd1c38e8_0    conda-forge\r\n",
      "ipython-genutils          0.2.0                    pypi_0    pypi\r\n",
      "ipywidgets                8.1.3              pyhd8ed1ab_0    conda-forge\r\n",
      "isoduration               20.11.0            pyhd8ed1ab_0    conda-forge\r\n",
      "jedi                      0.19.1             pyhd8ed1ab_0    conda-forge\r\n",
      "jinja2                    3.1.4              pyhd8ed1ab_0    conda-forge\r\n",
      "joblib                    1.4.2              pyhd8ed1ab_0    conda-forge\r\n",
      "json5                     0.9.25             pyhd8ed1ab_0    conda-forge\r\n",
      "jsonpointer               3.0.0            py39h6e9494a_0    conda-forge\r\n",
      "jsonschema                4.22.0             pyhd8ed1ab_0    conda-forge\r\n",
      "jsonschema-specifications 2023.12.1          pyhd8ed1ab_0    conda-forge\r\n",
      "jsonschema-with-format-nongpl 4.22.0             pyhd8ed1ab_0    conda-forge\r\n",
      "jupyter                   1.0.0             pyhd8ed1ab_10    conda-forge\r\n",
      "jupyter-contrib-core      0.4.2                    pypi_0    pypi\r\n",
      "jupyter-contrib-nbextensions 0.7.0                    pypi_0    pypi\r\n",
      "jupyter-highlight-selected-word 0.2.0                    pypi_0    pypi\r\n",
      "jupyter-lsp               2.2.5              pyhd8ed1ab_0    conda-forge\r\n",
      "jupyter-nbextensions-configurator 0.6.4                    pypi_0    pypi\r\n",
      "jupyter_client            8.6.2              pyhd8ed1ab_0    conda-forge\r\n",
      "jupyter_console           6.6.3              pyhd8ed1ab_0    conda-forge\r\n",
      "jupyter_core              5.7.2            py39hecd8cb5_0  \r\n",
      "jupyter_events            0.10.0             pyhd8ed1ab_0    conda-forge\r\n",
      "jupyter_server            2.14.1             pyhd8ed1ab_0    conda-forge\r\n",
      "jupyter_server_terminals  0.5.3              pyhd8ed1ab_0    conda-forge\r\n",
      "jupyterlab                4.2.3              pyhd8ed1ab_0    conda-forge\r\n",
      "jupyterlab_pygments       0.3.0              pyhd8ed1ab_1    conda-forge\r\n",
      "jupyterlab_server         2.27.2             pyhd8ed1ab_0    conda-forge\r\n",
      "jupyterlab_widgets        3.0.11             pyhd8ed1ab_0    conda-forge\r\n",
      "kiwisolver                1.4.5            py39h8ee36c8_1    conda-forge\r\n",
      "krb5                      1.21.3               h37d8d59_0    conda-forge\r\n",
      "lcms2                     2.16                 ha2f27b4_0    conda-forge\r\n",
      "lerc                      4.0.0                hb486fe8_0    conda-forge\r\n",
      "libblas                   3.9.0           22_osx64_openblas    conda-forge\r\n",
      "libbrotlicommon           1.1.0                h0dc2134_1    conda-forge\r\n",
      "libbrotlidec              1.1.0                h0dc2134_1    conda-forge\r\n",
      "libbrotlienc              1.1.0                h0dc2134_1    conda-forge\r\n",
      "libcblas                  3.9.0           22_osx64_openblas    conda-forge\r\n",
      "libcxx                    17.0.6               heb59cac_3    conda-forge\r\n",
      "libdeflate                1.20                 h49d49c5_0    conda-forge\r\n",
      "libedit                   3.1.20191231         h0678c8f_2    conda-forge\r\n",
      "libffi                    3.4.2                h0d85af4_5    conda-forge\r\n",
      "libgfortran               5.0.0           13_2_0_h97931a8_3    conda-forge\r\n",
      "libgfortran5              13.2.0               h2873a65_3    conda-forge\r\n",
      "libjpeg-turbo             3.0.0                h0dc2134_1    conda-forge\r\n",
      "liblapack                 3.9.0           22_osx64_openblas    conda-forge\r\n",
      "libopenblas               0.3.27          openmp_hfef2a42_0    conda-forge\r\n",
      "libpng                    1.6.43               h92b6c6a_0    conda-forge\r\n",
      "libsodium                 1.0.18               hbcb3906_1    conda-forge\r\n",
      "libsqlite                 3.46.0               h1b8f9f3_0    conda-forge\r\n",
      "libtiff                   4.6.0                h129831d_3    conda-forge\r\n",
      "libwebp-base              1.4.0                h10d778d_0    conda-forge\r\n",
      "libxcb                    1.16                 h0dc2134_0    conda-forge\r\n",
      "libzlib                   1.3.1                h87427d6_1    conda-forge\r\n",
      "llvm-openmp               18.1.8               h15ab845_0    conda-forge\r\n",
      "lxml                      5.2.2                    pypi_0    pypi\r\n",
      "markupsafe                2.1.5            py39ha09f3b3_0    conda-forge\r\n",
      "matplotlib                3.9.4                    pypi_0    pypi\r\n",
      "matplotlib-inline         0.1.7              pyhd8ed1ab_0    conda-forge\r\n",
      "mccabe                    0.7.0              pyhd8ed1ab_0    conda-forge\r\n",
      "metapool                  0+untagged.207.g87860a0           dev_0    <develop>\r\n",
      "mistune                   3.0.2              pyhd8ed1ab_0    conda-forge\r\n",
      "munkres                   1.0.7                      py_1    bioconda\r\n",
      "nbclient                  0.10.0             pyhd8ed1ab_0    conda-forge\r\n",
      "nbconvert                 7.16.4               hd8ed1ab_1    conda-forge\r\n",
      "nbconvert-core            7.16.4             pyhd8ed1ab_1    conda-forge\r\n",
      "nbconvert-pandoc          7.16.4               hd8ed1ab_1    conda-forge\r\n",
      "nbformat                  5.10.4             pyhd8ed1ab_0    conda-forge\r\n",
      "ncurses                   6.5                  h5846eda_0    conda-forge\r\n",
      "nest-asyncio              1.6.0              pyhd8ed1ab_0    conda-forge\r\n",
      "nose                      1.3.7                   py_1006    conda-forge\r\n",
      "notebook                  7.2.1              pyhd8ed1ab_0    conda-forge\r\n",
      "notebook-shim             0.2.4              pyhd8ed1ab_0    conda-forge\r\n",
      "numpy                     2.0.2                    pypi_0    pypi\r\n",
      "openjpeg                  2.5.2                h7310d3a_0    conda-forge\r\n",
      "openpyxl                  3.1.5                    pypi_0    pypi\r\n",
      "openssl                   3.3.1                h87427d6_1    conda-forge\r\n",
      "overrides                 7.7.0              pyhd8ed1ab_0    conda-forge\r\n",
      "packaging                 24.1               pyhd8ed1ab_0    conda-forge\r\n",
      "pandas                    2.2.3                    pypi_0    pypi\r\n",
      "pandoc                    3.2.1                h694c41f_0    conda-forge\r\n",
      "pandocfilters             1.5.0              pyhd8ed1ab_0    conda-forge\r\n",
      "parso                     0.8.4              pyhd8ed1ab_0    conda-forge\r\n",
      "patsy                     0.5.6              pyhd8ed1ab_0    conda-forge\r\n",
      "pep8                      1.7.1                      py_0    conda-forge\r\n",
      "pexpect                   4.9.0              pyhd8ed1ab_0    conda-forge\r\n",
      "pickleshare               0.7.5                   py_1003    conda-forge\r\n",
      "pillow                    10.4.0           py39hc3a33ae_0    conda-forge\r\n",
      "pip                       24.0               pyhd8ed1ab_0    conda-forge\r\n",
      "pkgutil-resolve-name      1.3.10             pyhd8ed1ab_1    conda-forge\r\n",
      "platformdirs              4.2.2              pyhd8ed1ab_0    conda-forge\r\n",
      "prometheus_client         0.20.0             pyhd8ed1ab_0    conda-forge\r\n",
      "prompt-toolkit            3.0.47             pyha770c72_0    conda-forge\r\n",
      "prompt_toolkit            3.0.47               hd8ed1ab_0    conda-forge\r\n",
      "psutil                    6.0.0            py39hded5825_0    conda-forge\r\n",
      "pthread-stubs             0.4               hc929b4f_1001    conda-forge\r\n",
      "ptyprocess                0.7.0              pyhd3deb0d_0    conda-forge\r\n",
      "pure_eval                 0.2.2              pyhd8ed1ab_0    conda-forge\r\n",
      "pycodestyle               2.12.0             pyhd8ed1ab_0    conda-forge\r\n",
      "pycparser                 2.22               pyhd8ed1ab_0    conda-forge\r\n",
      "pyflakes                  3.2.0              pyhd8ed1ab_0    conda-forge\r\n",
      "pygments                  2.18.0             pyhd8ed1ab_0    conda-forge\r\n",
      "pyobjc-core               10.3.1           py39hf8f43b1_0    conda-forge\r\n",
      "pyobjc-framework-cocoa    10.3.1           py39hf8f43b1_0    conda-forge\r\n",
      "pyparsing                 3.1.2              pyhd8ed1ab_0    conda-forge\r\n",
      "pysocks                   1.7.1              pyha2e5f31_6    conda-forge\r\n",
      "python                    3.9.19          h7a9c478_0_cpython    conda-forge\r\n",
      "python-dateutil           2.9.0              pyhd8ed1ab_0    conda-forge\r\n",
      "python-fastjsonschema     2.20.0             pyhd8ed1ab_0    conda-forge\r\n",
      "python-json-logger        2.0.7              pyhd8ed1ab_0    conda-forge\r\n",
      "python-tzdata             2024.1             pyhd8ed1ab_0    conda-forge\r\n",
      "python_abi                3.9                      4_cp39    conda-forge\r\n",
      "pytz                      2024.1             pyhd8ed1ab_0    conda-forge\r\n",
      "pyyaml                    6.0.1            py39hdc70f33_1    conda-forge\r\n",
      "pyzmq                     26.0.3           py39h304b177_0    conda-forge\r\n",
      "qhull                     2020.2               h940c156_2    conda-forge\r\n",
      "qiita-client              0.1.0.dev0               pypi_0    pypi\r\n",
      "qtconsole-base            5.5.2              pyha770c72_0    conda-forge\r\n",
      "qtpy                      2.4.1              pyhd8ed1ab_0    conda-forge\r\n",
      "readline                  8.2                  h9e318b2_1    conda-forge\r\n",
      "referencing               0.35.1             pyhd8ed1ab_0    conda-forge\r\n",
      "requests                  2.32.3             pyhd8ed1ab_0    conda-forge\r\n",
      "rfc3339-validator         0.1.4              pyhd8ed1ab_0    conda-forge\r\n",
      "rfc3986-validator         0.1.1              pyh9f0ad1d_0    conda-forge\r\n",
      "rpds-py                   0.18.1           py39hf59063a_0    conda-forge\r\n",
      "sample-sheet              0.13.0                   pypi_0    pypi\r\n",
      "scikit-learn              1.6.1                    pypi_0    pypi\r\n",
      "scipy                     1.13.1           py39h038d4f4_0    conda-forge\r\n",
      "seaborn                   0.13.2               hd8ed1ab_2    conda-forge\r\n",
      "seaborn-base              0.13.2             pyhd8ed1ab_2    conda-forge\r\n",
      "send2trash                1.8.3              pyh31c8845_0    conda-forge\r\n",
      "seqtk                     1.4                  h45fc8d7_2    <unknown>\r\n",
      "setuptools                70.1.1             pyhd8ed1ab_0    conda-forge\r\n",
      "six                       1.16.0             pyh6c4a22f_0    conda-forge\r\n",
      "sniffio                   1.3.1              pyhd8ed1ab_0    conda-forge\r\n",
      "soupsieve                 2.5                pyhd8ed1ab_1    conda-forge\r\n",
      "stack_data                0.6.2              pyhd8ed1ab_0    conda-forge\r\n",
      "statsmodels               0.14.2           py39hb943cd9_0    conda-forge\r\n",
      "tabulate                  0.9.0                    pypi_0    pypi\r\n",
      "terminado                 0.18.1             pyh31c8845_0    conda-forge\r\n",
      "terminaltables            3.1.10                   pypi_0    pypi\r\n",
      "threadpoolctl             3.5.0              pyhc1e730c_0    conda-forge\r\n",
      "tinycss2                  1.3.0              pyhd8ed1ab_0    conda-forge\r\n",
      "tk                        8.6.13               h1abcd95_1    conda-forge\r\n",
      "tomli                     2.0.1              pyhd8ed1ab_0    conda-forge\r\n",
      "tornado                   6.4.1            py39hded5825_0    conda-forge\r\n",
      "traitlets                 5.14.3             pyhd8ed1ab_0    conda-forge\r\n",
      "types-python-dateutil     2.9.0.20240316     pyhd8ed1ab_0    conda-forge\r\n",
      "typing-extensions         4.12.2               hd8ed1ab_0    conda-forge\r\n",
      "typing_extensions         4.12.2             pyha770c72_0    conda-forge\r\n",
      "typing_utils              0.1.0              pyhd8ed1ab_0    conda-forge\r\n",
      "tzdata                    2024a                h0c530f3_0    conda-forge\r\n",
      "unicodedata2              15.1.0           py39hdc70f33_0    conda-forge\r\n",
      "uri-template              1.3.0              pyhd8ed1ab_0    conda-forge\r\n",
      "urllib3                   2.2.2              pyhd8ed1ab_1    conda-forge\r\n",
      "watermark                 2.4.3                    pypi_0    pypi\r\n",
      "wcwidth                   0.2.13             pyhd8ed1ab_0    conda-forge\r\n",
      "webcolors                 24.6.0             pyhd8ed1ab_0    conda-forge\r\n",
      "webencodings              0.5.1              pyhd8ed1ab_2    conda-forge\r\n",
      "websocket-client          1.8.0              pyhd8ed1ab_0    conda-forge\r\n",
      "wheel                     0.43.0             pyhd8ed1ab_1    conda-forge\r\n",
      "widgetsnbextension        4.0.11             pyhd8ed1ab_0    conda-forge\r\n",
      "xorg-libxau               1.0.11               h0dc2134_0    conda-forge\r\n",
      "xorg-libxdmcp             1.1.3                h35c211d_0    conda-forge\r\n",
      "xz                        5.2.6                h775f41a_0    conda-forge\r\n",
      "yaml                      0.2.5                h0d85af4_2    conda-forge\r\n",
      "zeromq                    4.3.5                hde137ed_4    conda-forge\r\n",
      "zipp                      3.19.2             pyhd8ed1ab_0    conda-forge\r\n",
      "zlib                      1.3.1                h87427d6_1    conda-forge\r\n",
      "zstandard                 0.22.0           py39h32d468b_1    conda-forge\r\n",
      "zstd                      1.5.6                h915ae27_0    conda-forge\r\n"
     ]
    }
   ],
   "execution_count": 2
  },
  {
   "cell_type": "markdown",
   "metadata": {},
   "source": "# Knight Lab TellSeq pipeline notebook B"
  },
  {
   "cell_type": "markdown",
   "metadata": {},
   "source": [
    "## Part 3 (of 5): Library concentration estimation\n",
    "\n",
    "This portion of the notebook takes in fluorescent\n",
    " quantification values and produces visual outputs to interpret and check \n",
    " values. \n",
    "\n",
    "As inputs, this workflow requires:\n",
    "As inputs, it requires:\n",
    "1. A tab-delimited `*_plate_df_A.txt` file containing the plate map info from the compression/barcoding step\n",
    "2. MiniPico output (tab-delimited text format with columns 'Concentration' and 'Well')\n",
    "\n",
    "The workflow:\n",
    "1. reads in the specified input files\n",
    "2. calculates estimated library concentration\n",
    "3. visualizes concentration\n",
    "4. produces a tab-delimited `*_plate_df_B.txt` file containing the updated plate map info"
   ]
  },
  {
   "metadata": {},
   "cell_type": "markdown",
   "source": "### Part 3 of 5, Step 1 of 5: Read in the 384-well plate data and the experiment info"
  },
  {
   "metadata": {
    "ExecuteTime": {
     "end_time": "2025-04-01T20:42:23.369655Z",
     "start_time": "2025-04-01T20:42:23.366661Z"
    }
   },
   "cell_type": "code",
   "source": [
    "## INPUT\n",
    "full_plate_fp = './test_output/QC/Tellseq_plate_df_A.txt'"
   ],
   "outputs": [],
   "execution_count": 3
  },
  {
   "metadata": {
    "ExecuteTime": {
     "end_time": "2025-04-01T20:42:24.237336Z",
     "start_time": "2025-04-01T20:42:24.234377Z"
    }
   },
   "cell_type": "code",
   "source": [
    "# if the full_plate_fp does not end with \"plate_df_A.txt\", throw an error\n",
    "expected_suffix = f\"plate_df_A.txt\"\n",
    "if not full_plate_fp.endswith(expected_suffix):\n",
    "    raise ValueError(f\"Expected file ending with '{expected_suffix}'\")"
   ],
   "outputs": [],
   "execution_count": 4
  },
  {
   "metadata": {
    "ExecuteTime": {
     "end_time": "2025-04-01T20:42:25.186959Z",
     "start_time": "2025-04-01T20:42:25.183523Z"
    }
   },
   "cell_type": "code",
   "source": [
    "if not os.path.isfile(full_plate_fp):\n",
    "    print(\"Problem! %s is not a path to a valid file\" % full_plate_fp)"
   ],
   "outputs": [],
   "execution_count": 5
  },
  {
   "metadata": {
    "ExecuteTime": {
     "end_time": "2025-04-01T20:42:26.496022Z",
     "start_time": "2025-04-01T20:42:26.469744Z"
    }
   },
   "cell_type": "code",
   "source": [
    "plate_df = pd.read_csv(full_plate_fp, sep='\\t')\n",
    "plate_df.head()"
   ],
   "outputs": [
    {
     "data": {
      "text/plain": [
       "   index        Sample  Col                  Compressed Plate Name      Date  \\\n",
       "0      0  01LJ00482.V5    1   TestProjA_10002_1_2_3_4_2to1dilution  20240911   \n",
       "1    192  01LJ01100.V5    1  TestProjA_10002_1_2_3_4_10to1dilution  20240911   \n",
       "2     12  01LJ01597.V8    1   TestProjA_10002_1_2_3_4_2to1dilution  20240911   \n",
       "3    204  01LJ01315.V5    1  TestProjA_10002_1_2_3_4_10to1dilution  20240911   \n",
       "4     24  01LJ02862.V5    1   TestProjA_10002_1_2_3_4_2to1dilution  20240911   \n",
       "\n",
       "   Plate Position Project Abbreviation     Project Name  \\\n",
       "0               1            TestProjA  TestProjA_10002   \n",
       "1               3            TestProjA  TestProjA_10002   \n",
       "2               1            TestProjA  TestProjA_10002   \n",
       "3               3            TestProjA  TestProjA_10002   \n",
       "4               1            TestProjA  TestProjA_10002   \n",
       "\n",
       "                           Project Plate             RackID  ...  \\\n",
       "0   TestProjA_10002_Plate_1_2to1dilution  TestProjA_Plate_1  ...   \n",
       "1  TestProjA_10002_Plate_3_10to1dilution  TestProjA_Plate_3  ...   \n",
       "2   TestProjA_10002_Plate_1_2to1dilution  TestProjA_Plate_1  ...   \n",
       "3  TestProjA_10002_Plate_3_10to1dilution  TestProjA_Plate_3  ...   \n",
       "4   TestProjA_10002_Plate_1_2to1dilution  TestProjA_Plate_1  ...   \n",
       "\n",
       "  syndna_pool_number  Library Well_row  Library Well_col i5 well  \\\n",
       "0                NaN                 A                 1      A1   \n",
       "1                NaN                 B                 1      B1   \n",
       "2                NaN                 C                 1      C1   \n",
       "3                NaN                 D                 1      D1   \n",
       "4                NaN                 E                 1      E1   \n",
       "\n",
       "   Barcode_96_Well_Position i5 name  \\\n",
       "0                        A1    C501   \n",
       "1                        A2    C509   \n",
       "2                        B1    C502   \n",
       "3                        B2    C510   \n",
       "4                        C1    C503   \n",
       "\n",
       "                                      i5 plate  i5 well_row i5 well_col  \\\n",
       "0  TellSeq_Barcode_Plate_1_LN2409001_EXP052026            A           1   \n",
       "1  TellSeq_Barcode_Plate_1_LN2409001_EXP052026            B           1   \n",
       "2  TellSeq_Barcode_Plate_1_LN2409001_EXP052026            C           1   \n",
       "3  TellSeq_Barcode_Plate_1_LN2409001_EXP052026            D           1   \n",
       "4  TellSeq_Barcode_Plate_1_LN2409001_EXP052026            E           1   \n",
       "\n",
       "  barcode_set_id  \n",
       "0        col1to6  \n",
       "1        col1to6  \n",
       "2        col1to6  \n",
       "3        col1to6  \n",
       "4        col1to6  \n",
       "\n",
       "[5 rows x 41 columns]"
      ],
      "text/html": [
       "<div>\n",
       "<style scoped>\n",
       "    .dataframe tbody tr th:only-of-type {\n",
       "        vertical-align: middle;\n",
       "    }\n",
       "\n",
       "    .dataframe tbody tr th {\n",
       "        vertical-align: top;\n",
       "    }\n",
       "\n",
       "    .dataframe thead th {\n",
       "        text-align: right;\n",
       "    }\n",
       "</style>\n",
       "<table border=\"1\" class=\"dataframe\">\n",
       "  <thead>\n",
       "    <tr style=\"text-align: right;\">\n",
       "      <th></th>\n",
       "      <th>index</th>\n",
       "      <th>Sample</th>\n",
       "      <th>Col</th>\n",
       "      <th>Compressed Plate Name</th>\n",
       "      <th>Date</th>\n",
       "      <th>Plate Position</th>\n",
       "      <th>Project Abbreviation</th>\n",
       "      <th>Project Name</th>\n",
       "      <th>Project Plate</th>\n",
       "      <th>RackID</th>\n",
       "      <th>...</th>\n",
       "      <th>syndna_pool_number</th>\n",
       "      <th>Library Well_row</th>\n",
       "      <th>Library Well_col</th>\n",
       "      <th>i5 well</th>\n",
       "      <th>Barcode_96_Well_Position</th>\n",
       "      <th>i5 name</th>\n",
       "      <th>i5 plate</th>\n",
       "      <th>i5 well_row</th>\n",
       "      <th>i5 well_col</th>\n",
       "      <th>barcode_set_id</th>\n",
       "    </tr>\n",
       "  </thead>\n",
       "  <tbody>\n",
       "    <tr>\n",
       "      <th>0</th>\n",
       "      <td>0</td>\n",
       "      <td>01LJ00482.V5</td>\n",
       "      <td>1</td>\n",
       "      <td>TestProjA_10002_1_2_3_4_2to1dilution</td>\n",
       "      <td>20240911</td>\n",
       "      <td>1</td>\n",
       "      <td>TestProjA</td>\n",
       "      <td>TestProjA_10002</td>\n",
       "      <td>TestProjA_10002_Plate_1_2to1dilution</td>\n",
       "      <td>TestProjA_Plate_1</td>\n",
       "      <td>...</td>\n",
       "      <td>NaN</td>\n",
       "      <td>A</td>\n",
       "      <td>1</td>\n",
       "      <td>A1</td>\n",
       "      <td>A1</td>\n",
       "      <td>C501</td>\n",
       "      <td>TellSeq_Barcode_Plate_1_LN2409001_EXP052026</td>\n",
       "      <td>A</td>\n",
       "      <td>1</td>\n",
       "      <td>col1to6</td>\n",
       "    </tr>\n",
       "    <tr>\n",
       "      <th>1</th>\n",
       "      <td>192</td>\n",
       "      <td>01LJ01100.V5</td>\n",
       "      <td>1</td>\n",
       "      <td>TestProjA_10002_1_2_3_4_10to1dilution</td>\n",
       "      <td>20240911</td>\n",
       "      <td>3</td>\n",
       "      <td>TestProjA</td>\n",
       "      <td>TestProjA_10002</td>\n",
       "      <td>TestProjA_10002_Plate_3_10to1dilution</td>\n",
       "      <td>TestProjA_Plate_3</td>\n",
       "      <td>...</td>\n",
       "      <td>NaN</td>\n",
       "      <td>B</td>\n",
       "      <td>1</td>\n",
       "      <td>B1</td>\n",
       "      <td>A2</td>\n",
       "      <td>C509</td>\n",
       "      <td>TellSeq_Barcode_Plate_1_LN2409001_EXP052026</td>\n",
       "      <td>B</td>\n",
       "      <td>1</td>\n",
       "      <td>col1to6</td>\n",
       "    </tr>\n",
       "    <tr>\n",
       "      <th>2</th>\n",
       "      <td>12</td>\n",
       "      <td>01LJ01597.V8</td>\n",
       "      <td>1</td>\n",
       "      <td>TestProjA_10002_1_2_3_4_2to1dilution</td>\n",
       "      <td>20240911</td>\n",
       "      <td>1</td>\n",
       "      <td>TestProjA</td>\n",
       "      <td>TestProjA_10002</td>\n",
       "      <td>TestProjA_10002_Plate_1_2to1dilution</td>\n",
       "      <td>TestProjA_Plate_1</td>\n",
       "      <td>...</td>\n",
       "      <td>NaN</td>\n",
       "      <td>C</td>\n",
       "      <td>1</td>\n",
       "      <td>C1</td>\n",
       "      <td>B1</td>\n",
       "      <td>C502</td>\n",
       "      <td>TellSeq_Barcode_Plate_1_LN2409001_EXP052026</td>\n",
       "      <td>C</td>\n",
       "      <td>1</td>\n",
       "      <td>col1to6</td>\n",
       "    </tr>\n",
       "    <tr>\n",
       "      <th>3</th>\n",
       "      <td>204</td>\n",
       "      <td>01LJ01315.V5</td>\n",
       "      <td>1</td>\n",
       "      <td>TestProjA_10002_1_2_3_4_10to1dilution</td>\n",
       "      <td>20240911</td>\n",
       "      <td>3</td>\n",
       "      <td>TestProjA</td>\n",
       "      <td>TestProjA_10002</td>\n",
       "      <td>TestProjA_10002_Plate_3_10to1dilution</td>\n",
       "      <td>TestProjA_Plate_3</td>\n",
       "      <td>...</td>\n",
       "      <td>NaN</td>\n",
       "      <td>D</td>\n",
       "      <td>1</td>\n",
       "      <td>D1</td>\n",
       "      <td>B2</td>\n",
       "      <td>C510</td>\n",
       "      <td>TellSeq_Barcode_Plate_1_LN2409001_EXP052026</td>\n",
       "      <td>D</td>\n",
       "      <td>1</td>\n",
       "      <td>col1to6</td>\n",
       "    </tr>\n",
       "    <tr>\n",
       "      <th>4</th>\n",
       "      <td>24</td>\n",
       "      <td>01LJ02862.V5</td>\n",
       "      <td>1</td>\n",
       "      <td>TestProjA_10002_1_2_3_4_2to1dilution</td>\n",
       "      <td>20240911</td>\n",
       "      <td>1</td>\n",
       "      <td>TestProjA</td>\n",
       "      <td>TestProjA_10002</td>\n",
       "      <td>TestProjA_10002_Plate_1_2to1dilution</td>\n",
       "      <td>TestProjA_Plate_1</td>\n",
       "      <td>...</td>\n",
       "      <td>NaN</td>\n",
       "      <td>E</td>\n",
       "      <td>1</td>\n",
       "      <td>E1</td>\n",
       "      <td>C1</td>\n",
       "      <td>C503</td>\n",
       "      <td>TellSeq_Barcode_Plate_1_LN2409001_EXP052026</td>\n",
       "      <td>E</td>\n",
       "      <td>1</td>\n",
       "      <td>col1to6</td>\n",
       "    </tr>\n",
       "  </tbody>\n",
       "</table>\n",
       "<p>5 rows × 41 columns</p>\n",
       "</div>"
      ]
     },
     "execution_count": 6,
     "metadata": {},
     "output_type": "execute_result"
    }
   ],
   "execution_count": 6
  },
  {
   "metadata": {},
   "cell_type": "code",
   "source": "is_absquant(plate_df)",
   "outputs": [],
   "execution_count": null
  },
  {
   "cell_type": "markdown",
   "metadata": {},
   "source": [
    "### Part 3 of 5, Step 2 of 5: read in MiniPico library concentration\n",
    "Enter path to MiniPico file:"
   ]
  },
  {
   "cell_type": "code",
   "metadata": {},
   "source": [
    "## INPUT\n",
    "lib_concs_fp = './test_data/Quant/MiniPico/Tellseq_clean_lib_quant.txt'"
   ],
   "outputs": [],
   "execution_count": null
  },
  {
   "metadata": {},
   "cell_type": "code",
   "source": [
    "# 'Well' differs from 'Library Well' because the former specifies the \n",
    "# gDNA source well while the latter specifies the well (destination well) that \n",
    "# will contain the sequencing library for the sample. These contain the same\n",
    "# info when replicates are not used, but differ when replicates ARE used,\n",
    "# so it is safer to use 'Library Well' in both cases.\n",
    "# (Careful!  well_col is a global variable used throughout rest of notebook)\n",
    "well_col = PM_LIB_WELL_KEY"
   ],
   "outputs": [],
   "execution_count": null
  },
  {
   "cell_type": "code",
   "metadata": {},
   "source": [
    "lib_concs = read_pico_csv(lib_concs_fp, plate_reader='SpectraMax_i3x',\n",
    "                          conc_col_name='MiniPico Library DNA Concentration')\n",
    "lib_concs.rename(columns={'Well':well_col},inplace=True)\n",
    "plate_df = pd.merge(plate_df, lib_concs, on=well_col)\n",
    "\n",
    "plate_df.head()"
   ],
   "outputs": [],
   "execution_count": null
  },
  {
   "cell_type": "markdown",
   "metadata": {},
   "source": [
    "### Part 3 of 5, Step 3 of 5: calculate sample concentration from MiniPico\n",
    "\n",
    "You will want to make sure that 'size' is correct for your average library size."
   ]
  },
  {
   "cell_type": "code",
   "metadata": {},
   "source": [
    "plate_df['MiniPico Library Concentration'] = \\\n",
    "    compute_pico_concentration(\n",
    "        plate_df['MiniPico Library DNA Concentration'], size=500)\n",
    "plate_df.head()"
   ],
   "outputs": [],
   "execution_count": null
  },
  {
   "cell_type": "markdown",
   "metadata": {},
   "source": [
    "### Part 3 of 5, Step 4 of 5: visualize MiniPico values\n",
    "\n",
    "This step will present visuals of the results, including:\n",
    "1. Scatter plot of DNA concentrations by Library concentration\n",
    "2. Plate-wise heatmap and histogram showing library concentrations\n",
    "3. per-96-well plate heatmaps and histograms showing library concentrations and sample names\n",
    "4. Plate-wise heatmap showing pooling values"
   ]
  },
  {
   "cell_type": "markdown",
   "metadata": {},
   "source": "#### Library concentration by sample DNA concentration:"
  },
  {
   "cell_type": "code",
   "metadata": {},
   "source": [
    "f, (ax1,ax2,ax3) = plt.subplots(nrows=1, ncols=3, figsize=(14, 4))\n",
    "plate_df['Input DNA'] = plate_df['Sample DNA Concentration']*plate_df['Normalized DNA volume']/1000\n",
    "sns.regplot(x=\"Sample DNA Concentration\", y=\"MiniPico Library DNA Concentration\", data=plate_df, ax = ax1)\n",
    "sns.boxplot(x=\"Blank\", y=\"MiniPico Library DNA Concentration\", data=plate_df, ax = ax2)\n",
    "sns.swarmplot(x=\"Blank\", y=\"MiniPico Library DNA Concentration\", data=plate_df, ax = ax2,\n",
    "              size=3,color='black',alpha=0.5)\n",
    "sns.scatterplot( x=\"Input DNA\",y=\"MiniPico Library DNA Concentration\",hue='Sample DNA Concentration',data=plate_df ,ax = ax3)\n",
    "ax3.legend(title='Sample DNA Concentration',loc='center left', bbox_to_anchor=(1, 0.5))"
   ],
   "outputs": [],
   "execution_count": null
  },
  {
   "cell_type": "code",
   "metadata": {},
   "source": [
    "blanks_gdna_concs = plate_df.loc[plate_df['Blank']==True,'Sample DNA Concentration']\n",
    "samples_gdna_concs = plate_df.loc[plate_df['Blank']==False,'Sample DNA Concentration']\n",
    "mannwhitneyu(samples_gdna_concs, blanks_gdna_concs)"
   ],
   "outputs": [],
   "execution_count": null
  },
  {
   "cell_type": "code",
   "metadata": {},
   "source": [
    "blanks_lib_concs = plate_df.loc[plate_df['Blank']==True,'MiniPico Library Concentration']\n",
    "samples_lib_concs = plate_df.loc[plate_df['Blank']==False,'MiniPico Library Concentration']\n",
    "mannwhitneyu(samples_lib_concs, blanks_lib_concs)"
   ],
   "outputs": [],
   "execution_count": null
  },
  {
   "cell_type": "markdown",
   "metadata": {},
   "source": "#### Library concentration heatmap, whole plate"
  },
  {
   "cell_type": "code",
   "metadata": {},
   "source": [
    "# get concentration and pooling values for plotting\n",
    "concs = make_2D_array(plate_df, data_col=\"MiniPico Library Concentration\", well_col=well_col).astype(float)\n",
    "dna = make_2D_array(plate_df, data_col=SAMPLE_DNA_CONC_KEY, well_col=well_col).astype(float)\n",
    "\n",
    "# get information for annotation\n",
    "names = make_2D_array(plate_df, data_col=PM_SAMPLE_KEY, well_col=well_col)"
   ],
   "outputs": [],
   "execution_count": null
  },
  {
   "cell_type": "code",
   "metadata": {},
   "source": "plot_plate_vals(concs, color_map='viridis')",
   "outputs": [],
   "execution_count": null
  },
  {
   "cell_type": "markdown",
   "metadata": {},
   "source": "#### Plate maps for individual constituent plates"
  },
  {
   "metadata": {},
   "cell_type": "code",
   "source": [
    "# CONSTANTS: Users, DO NOT CHANGE THESE\n",
    "# values without consulting with tech team\n",
    "\n",
    "# Mask arrays for even and odd rows and columns\n",
    "EVEN_ROWS = [x for x in range(16) if x % 2 == 0]\n",
    "ODD_ROWS = [x for x in range(16) if x % 2 == 1]\n",
    "EVEN_COLS = [x for x in range(24) if x % 2 == 0]\n",
    "ODD_COLS = [x for x in range(24) if x % 2 == 1]"
   ],
   "outputs": [],
   "execution_count": null
  },
  {
   "cell_type": "markdown",
   "metadata": {},
   "source": "##### Library concentration heatmap, Plate 1"
  },
  {
   "cell_type": "code",
   "metadata": {},
   "source": [
    "plot_plate_vals(concs[np.ix_(EVEN_ROWS,EVEN_COLS)],\n",
    "                    annot_str= names[np.ix_(EVEN_ROWS,EVEN_COLS)],\n",
    "                    color_map='viridis',\n",
    "                    annot_fmt='')"
   ],
   "outputs": [],
   "execution_count": null
  },
  {
   "cell_type": "markdown",
   "metadata": {},
   "source": "##### Library concentration heatmap, Plate 2"
  },
  {
   "cell_type": "code",
   "metadata": {},
   "source": [
    "plot_plate_vals(concs[np.ix_(EVEN_ROWS,ODD_COLS)],\n",
    "                    annot_str= names[np.ix_(EVEN_ROWS,ODD_COLS)],\n",
    "                    color_map='viridis',\n",
    "                    annot_fmt='')"
   ],
   "outputs": [],
   "execution_count": null
  },
  {
   "cell_type": "markdown",
   "metadata": {},
   "source": "##### Library concentration heatmap, Plate 3"
  },
  {
   "cell_type": "code",
   "metadata": {},
   "source": [
    "plot_plate_vals(concs[np.ix_(ODD_ROWS,EVEN_COLS)],\n",
    "                    annot_str= names[np.ix_(ODD_ROWS,EVEN_COLS)],\n",
    "                    color_map='viridis',\n",
    "                    annot_fmt='')"
   ],
   "outputs": [],
   "execution_count": null
  },
  {
   "cell_type": "markdown",
   "metadata": {},
   "source": "##### Library concentration heatmap, Plate 4"
  },
  {
   "cell_type": "code",
   "metadata": {},
   "source": [
    "plot_plate_vals(concs[np.ix_(ODD_ROWS,ODD_COLS)],\n",
    "                    annot_str= names[np.ix_(ODD_ROWS,ODD_COLS)],\n",
    "                    color_map='viridis',\n",
    "                    annot_fmt='')"
   ],
   "outputs": [],
   "execution_count": null
  },
  {
   "metadata": {},
   "cell_type": "markdown",
   "source": [
    "### Part 3 of 5, Step 5 of 5: Write plate info to file\n",
    "\n",
    "We want to keep all that useful information together in one place so that\n",
    "it can be easily parsed later. Enter the base (without extension) of the output file name; the code will provide the extension."
   ]
  },
  {
   "metadata": {},
   "cell_type": "code",
   "source": [
    "## INPUT\n",
    "plate_df_fbase = './test_output/QC/Tellseq'"
   ],
   "outputs": [],
   "execution_count": null
  },
  {
   "metadata": {},
   "cell_type": "markdown",
   "source": "Add final column to plate df, then save to a file."
  },
  {
   "metadata": {},
   "cell_type": "code",
   "source": [
    "plate_df['sample sheet Sample_ID'] = \\\n",
    "    plate_df[PM_SAMPLE_KEY].map(bcl_scrub_name)\n",
    "plate_df.head()"
   ],
   "outputs": [],
   "execution_count": null
  },
  {
   "metadata": {},
   "cell_type": "code",
   "source": [
    "plate_df_fp = f\"{plate_df_fbase}_plate_df_B.txt\"\n",
    "warn_if_fp_exists(plate_df_fp)"
   ],
   "outputs": [],
   "execution_count": null
  },
  {
   "metadata": {},
   "cell_type": "code",
   "source": "plate_df.to_csv(plate_df_fp, sep='\\t', index=False)",
   "outputs": [],
   "execution_count": null
  },
  {
   "metadata": {},
   "cell_type": "code",
   "source": "",
   "outputs": [],
   "execution_count": null
  }
 ],
 "metadata": {
  "kernelspec": {
   "display_name": "Python 3 (ipykernel)",
   "language": "python",
   "name": "python3"
  },
  "language_info": {
   "codemirror_mode": {
    "name": "ipython",
    "version": 3
   },
   "file_extension": ".py",
   "mimetype": "text/x-python",
   "name": "python",
   "nbconvert_exporter": "python",
   "pygments_lexer": "ipython3",
   "version": "3.9.18"
  },
  "toc": {
   "base_numbering": 1,
   "nav_menu": {
    "height": "473px",
    "width": "381px"
   },
   "number_sections": true,
   "sideBar": true,
   "skip_h1_title": false,
   "title_cell": "Table of Contents",
   "title_sidebar": "Contents",
   "toc_cell": false,
   "toc_position": {
    "height": "740px",
    "left": "0px",
    "right": "1407.6666259765625px",
    "top": "112px",
    "width": "211.705px"
   },
   "toc_section_display": "block",
   "toc_window_display": true
  },
  "widgets": {
   "application/vnd.jupyter.widget-state+json": {
    "state": {},
    "version_major": 2,
    "version_minor": 0
   }
  }
 },
 "nbformat": 4,
 "nbformat_minor": 4
}

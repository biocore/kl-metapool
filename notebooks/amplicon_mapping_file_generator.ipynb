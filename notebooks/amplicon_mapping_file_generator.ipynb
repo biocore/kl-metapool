{
 "cells": [
  {
   "cell_type": "code",
   "execution_count": null,
   "metadata": {},
   "outputs": [],
   "source": [
    "%reload_ext watermark\n",
    "%matplotlib inline\n",
    "from os.path import exists\n",
    "\n",
    "from metapool.metapool import *\n",
    "from metapool import (validate_plate_metadata, assign_emp_index, make_sample_sheet, KLSampleSheet, parse_prep, validate_and_scrub_sample_sheet, generate_qiita_prep_file)\n",
    "%watermark -i -v -iv -m -h -p metapool,sample_sheet,openpyxl -u"
   ]
  },
  {
   "cell_type": "markdown",
   "metadata": {},
   "source": [
    "# Knight Lab Amplicon Mapping File (pre-preparation file) and Sample Sheet Generator\n",
    "\n",
    "### What is it?\n",
    "\n",
    "This Jupyter Notebook allows you to automatically generate mapping files and sample sheets for amplicon sequencing. It will allow you to merge multiple mapping files and sample sheets from additional PCR preps.\n",
    "\n",
    "\n",
    "### Here's how it should work.\n",
    "\n",
    "You'll start out with a **basic plate map** (platemap.tsv) , which just links each sample to it's approprite row and column. This will be in a 384-well compressed list format.\n",
    "\n",
    "You can use this google sheet template to generate your plate map:\n",
    "\n",
    "https://docs.google.com/spreadsheets/d/1xPjB6iR3brGeG4bm2un4ISSsTDxFw5yME09bKqz0XNk/edit?usp=sharing\n",
    "\n",
    "Next you'll enter processing information (PCR) and automatically assign EMP barcodes, and then generate a **mapping file** and a **sample sheet** (samplesheet.csv) that can be used in combination with the rest of the sequence processing pipeline. \n",
    "\n",
    "**Please designate what kind of amplicon sequencing you want to perform:**"
   ]
  },
  {
   "cell_type": "code",
   "execution_count": null,
   "metadata": {},
   "outputs": [],
   "source": [
    "seq_type = '16S'\n",
    "#options are ['16S', '18S', 'ITS']"
   ]
  },
  {
   "cell_type": "markdown",
   "metadata": {},
   "source": [
    "## Step 1: Input plate map\n",
    "\n",
    "**Enter the correct path to the plate map file**. This will serve as the plate map for relating all subsequent information. Plate maps should be in .tsv format."
   ]
  },
  {
   "cell_type": "code",
   "execution_count": null,
   "metadata": {},
   "outputs": [],
   "source": [
    "plate_map_fp = './test_data/amplicon/compressed-map.tsv'\n",
    "\n",
    "if not exists(plate_map_fp):\n",
    "    print(\"Error: %s is not a path to a valid file\" % plate_map_fp)"
   ]
  },
  {
   "cell_type": "markdown",
   "metadata": {},
   "source": [
    "**Read in the plate map**. It should look something like this:\n",
    "\n",
    "```\n",
    "Sample\tRow\tCol\tBlank\n",
    "GLY_01_012\tA\t1\tFalse\n",
    "GLY_14_034\tB\t1\tFalse\n",
    "GLY_11_007\tC\t1\tFalse\n",
    "GLY_28_018\tD\t1\tFalse\n",
    "GLY_25_003\tE\t1\tFalse\n",
    "GLY_06_106\tF\t1\tFalse\n",
    "GLY_07_011\tG\t1\tFalse\n",
    "GLY_18_043\tH\t1\tFalse\n",
    "GLY_28_004\tI\t1\tFalse\n",
    "```\n",
    "\n",
    "**Make sure there a no duplicate IDs.** If each sample doesn't have a different name, an error will be thrown and you won't be able to generate a sample sheet."
   ]
  },
  {
   "cell_type": "code",
   "execution_count": null,
   "metadata": {},
   "outputs": [],
   "source": [
    "# Uncomment and replace function call below in order to validate sample_names against Qiita.\n",
    "# Please contact Antonio or Charlie for path_to_qiita_config_file.\n",
    "# plate_df = read_plate_map_csv(open(plate_map_fp, 'r'), qiita_oauth2_conf_fp='path_to_qiita_config_file')\n",
    "plate_df = read_plate_map_csv(open(plate_map_fp, 'r'))\n",
    "\n",
    "plate_df.head()"
   ]
  },
  {
   "cell_type": "markdown",
   "metadata": {},
   "source": [
    "# Input processing information & Assign barcodes according to primer plate\n",
    "\n",
    "This portion of the notebook will assign a barcode to each sample according to the primer plate number. Additionally, you will add sample processing information that is obtained during the PCR step.\n",
    "\n",
    "As inputs, it requires:\n",
    "1. A plate map dataframe (from previous step)\n",
    "2. Most importantly, we need the Primer Plate # so we know what **EMP barcodes** to assign to each plate\n",
    "3. Processing information, or preparation metadata, for each plate\n",
    "\n",
    "The workflow then:\n",
    "1. Joins the processing information & barcode assignments with the plate metadata\n",
    "2. Assigns indices per sample\n",
    "3. Generates mapping files and samplesheets"
   ]
  },
  {
   "cell_type": "markdown",
   "metadata": {},
   "source": [
    "## Enter and validate the PCR Primers and additional processing information\n",
    "\n",
    "- It is absolutely critical that the `Primer Plate #` and the `Plate Position` are accurate. `Primer Plate #` determines which EMP barcodes will be used for this plate. `Plate Position` determines the physical location of the plate. Make sure this input is consistent with what is recorded in the processing progress!\n",
    "- If you are plating less than four plates, then remove the metadata for that plate by deleting the text between the curly braces.\n",
    "- For missing fields, write NA between the single quotes for example `'NA'`.\n",
    "- To enter a plate copy and paste the contents from the plates below."
   ]
  },
  {
   "cell_type": "code",
   "execution_count": null,
   "metadata": {
    "scrolled": false
   },
   "outputs": [],
   "source": [
    "_metadata = [\n",
    "    {\n",
    "        # top left plate\n",
    "        'Plate Position': '1',\n",
    "        'Primer Plate #': '1',\n",
    "        \n",
    "        'Sample Plate': 'THDMI_UK_Plate_2',\n",
    "        'Project_Name': 'THDMI UK',\n",
    "\n",
    "        'Plating': 'SF',\n",
    "        'Extraction Kit Lot': '166032128',\n",
    "        'Extraction Robot': 'Carmen_HOWE_KF3',\n",
    "        'TM1000 8 Tool': '109379Z',\n",
    "        'Primer Date': '2021-08-17', # yyyy-mm-dd\n",
    "        'MasterMix Lot': '978215',\n",
    "        'Water Lot': 'RNBJ0628',\n",
    "        'TM300 8 Tool': 'NA',\n",
    "        'TM50 8 Tool': 'NA',\n",
    "        'Processing Robot': 'Echo550',\n",
    "        'Original Name': ''\n",
    "    },\n",
    "    {\n",
    "        # top right plate\n",
    "        'Plate Position': '2',\n",
    "        'Primer Plate #': '2',\n",
    "        \n",
    "        'Sample Plate': 'THDMI_UK_Plate_3',\n",
    "        'Project_Name': 'THDMI UK',\n",
    "\n",
    "        'Plating':'AS',\n",
    "        'Extraction Kit Lot': '166032128',\n",
    "        'Extraction Robot': 'Carmen_HOWE_KF4',\n",
    "        'TM1000 8 Tool': '109379Z',\n",
    "        'Primer Date': '2021-08-17', # yyyy-mm-dd\n",
    "        'MasterMix Lot': '978215',\n",
    "        'Water Lot': 'RNBJ0628',\n",
    "        'TM300 8 Tool': 'NA',\n",
    "        'TM50 8 Tool': 'NA',\n",
    "        'Processing Robot': 'Echo550',\n",
    "        'Original Name': ''\n",
    "    },\n",
    "    {\n",
    "        # bottom left plate\n",
    "        'Plate Position': '3',\n",
    "        'Primer Plate #': '3',\n",
    "        \n",
    "        'Sample Plate': 'THDMI_UK_Plate_4',\n",
    "        'Project_Name': 'THDMI UK',\n",
    "\n",
    "        'Plating':'MB_SF',\n",
    "        'Extraction Kit Lot': '166032128',\n",
    "        'Extraction Robot': 'Carmen_HOWE_KF3',\n",
    "        'TM1000 8 Tool': '109379Z',\n",
    "        'Primer Date': '2021-08-17', # yyyy-mm-dd\n",
    "        'MasterMix Lot': '978215',\n",
    "        'Water Lot': 'RNBJ0628',\n",
    "        'TM300 8 Tool': 'NA',\n",
    "        'TM50 8 Tool': 'NA',\n",
    "        'Processing Robot': 'Echo550',\n",
    "        'Original Name': ''\n",
    "    },\n",
    "    {\n",
    "        # bottom right plate\n",
    "        'Plate Position': '4',\n",
    "        'Primer Plate #': '4',\n",
    "        \n",
    "        'Sample Plate': 'THDMI_US_Plate_6',\n",
    "        'Project_Name': 'THDMI US',\n",
    "\n",
    "        'Plating':'AS',\n",
    "        'Extraction Kit Lot': '166032128',\n",
    "        'Extraction Robot': 'Carmen_HOWE_KF4',\n",
    "        'TM1000 8 Tool': '109379Z',\n",
    "        'Primer Date': '2021-08-17', # yyyy-mm-dd\n",
    "        'MasterMix Lot': '978215',\n",
    "        'Water Lot': 'RNBJ0628',\n",
    "        'TM300 8 Tool': 'NA',\n",
    "        'TM50 8 Tool': 'NA',\n",
    "        'Processing Robot': 'Echo550', \n",
    "        'Original Name': ''\n",
    "    },\n",
    "]\n",
    "\n",
    "plate_metadata = validate_plate_metadata(_metadata)\n",
    "plate_metadata"
   ]
  },
  {
   "cell_type": "markdown",
   "metadata": {},
   "source": [
    "The `Plate Position` and `Primer Plate #` allow us to figure out which wells are associated with each of the EMP barcodes."
   ]
  },
  {
   "cell_type": "code",
   "execution_count": null,
   "metadata": {},
   "outputs": [],
   "source": [
    "if plate_metadata is not None:\n",
    "    plate_df = assign_emp_index(plate_df, plate_metadata, seq_type).reset_index()\n",
    "\n",
    "    plate_df.head()\n",
    "else:\n",
    "    print('Error: Please fix the errors in the previous cell')"
   ]
  },
  {
   "cell_type": "markdown",
   "metadata": {},
   "source": [
    "As you can see in the table above, the resulting table is now associated with the corresponding EMP barcodes (`Golay Barcode`, `Forward Primer Linker`, etc), and the plating metadata (`Primer Plate #`, `Primer Date`, `Water Lot`, etc)."
   ]
  },
  {
   "cell_type": "code",
   "execution_count": null,
   "metadata": {},
   "outputs": [],
   "source": [
    "plate_df.head()"
   ]
  },
  {
   "cell_type": "markdown",
   "metadata": {},
   "source": [
    "# Mapping File Generation for Qiita\n",
    "The Mapping File is generated before the MiSeq run and sent to the KL team as soon as the MiSeq run starts. Additional run information is added to the mapping file post-sequencing in order to generate the preparation file.\n",
    "\n",
    "\n",
    "Output file needs to be in .txt and have the following format:\n",
    "**YYYYMMDD_SEQPRIMERS_PROJECT_QIITA.txt**\n",
    "- SEQ Primers 16S: **IL515fBC_806**\n",
    "- SEQ Primers ITS: **ILITS**\n",
    "- SEQ Primers: 18S: **IL18S**"
   ]
  },
  {
   "cell_type": "markdown",
   "metadata": {},
   "source": [
    "Generate mapping file for current samples"
   ]
  },
  {
   "cell_type": "code",
   "execution_count": null,
   "metadata": {},
   "outputs": [],
   "source": [
    "# output file needs to have .txt extension and contain the correct format (shown above).\n",
    "output_filename = 'test_output/amplicon/20230207_515f806r_ABTX_11052_1-4.txt'\n",
    "\n",
    "qiita_df = generate_qiita_prep_file(plate_df, seq_type)\n",
    "\n",
    "qiita_df.head()"
   ]
  },
  {
   "cell_type": "code",
   "execution_count": null,
   "metadata": {},
   "outputs": [],
   "source": [
    "qiita_df.set_index('sample_name', verify_integrity=True, inplace=True)\n",
    "\n",
    "qiita_df.to_csv(output_filename, sep='\\t')\n",
    "\n",
    "qiita_df"
   ]
  },
  {
   "cell_type": "markdown",
   "metadata": {},
   "source": [
    "# Combine plates (optional)\n",
    "\n",
    "If you would like to combine existing plates with these samples, enter the path to their corresponding sample sheets and mapping (preparation) files below. Otherwise you can skip to the Mapping File Generation section."
   ]
  },
  {
   "cell_type": "code",
   "execution_count": null,
   "metadata": {},
   "outputs": [],
   "source": [
    "merged_output_filename = 'test_output/amplicon/20230203_IL515fBC_806_ABTX_11052_Plates_174_178_182_185_204_207_210_215_.txt'"
   ]
  },
  {
   "cell_type": "code",
   "execution_count": null,
   "metadata": {},
   "outputs": [],
   "source": [
    "files = [\n",
    "    # uncomment the line below and point to the correct filepaths to combine with previous plates\n",
    "    # ['test_output/amplicon/2021_08_17_THDMI-4-6_samplesheet.csv', 'test_output/amplicon/2021-08-01-515f806r_prep.tsv'],\n",
    "]\n",
    "sheets, preps = [], []\n",
    "\n",
    "for sheet, prep in files:\n",
    "    sheets.append(KLSampleSheet(sheet))\n",
    "    preps.append(parse_prep(prep))\n",
    "    \n",
    "if len(files):\n",
    "    print('%d pair of files loaded' % len(files))"
   ]
  },
  {
   "cell_type": "code",
   "execution_count": null,
   "metadata": {},
   "outputs": [],
   "source": [
    "if len(preps):\n",
    "    prep = prep.append(preps, ignore_index=True)\n",
    "    prep.to_csv(merged_output_filename, sep='\\t')\n",
    "    prep"
   ]
  }
 ],
 "metadata": {
  "kernelspec": {
   "display_name": "Python 3 (ipykernel)",
   "language": "python",
   "name": "python3"
  },
  "language_info": {
   "codemirror_mode": {
    "name": "ipython",
    "version": 3
   },
   "file_extension": ".py",
   "mimetype": "text/x-python",
   "name": "python",
   "nbconvert_exporter": "python",
   "pygments_lexer": "ipython3",
   "version": "3.11.0"
  },
  "toc": {
   "base_numbering": 1,
   "nav_menu": {},
   "number_sections": true,
   "sideBar": true,
   "skip_h1_title": false,
   "title_cell": "Table of Contents",
   "title_sidebar": "Contents",
   "toc_cell": false,
   "toc_position": {},
   "toc_section_display": true,
   "toc_window_display": false
  }
 },
 "nbformat": 4,
 "nbformat_minor": 4
}

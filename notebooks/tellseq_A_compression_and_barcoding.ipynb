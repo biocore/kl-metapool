{
 "cells": [
  {
   "cell_type": "code",
   "execution_count": null,
   "metadata": {
    "ExecuteTime": {
     "end_time": "2024-11-22T22:05:14.976803Z",
     "start_time": "2024-11-22T22:05:11.723116Z"
    }
   },
   "outputs": [],
   "source": [
    "import pandas as pd\n",
    "%reload_ext watermark\n",
    "%matplotlib inline\n",
    "\n",
    "import os\n",
    "from scipy.stats import mannwhitneyu\n",
    "import yaml\n",
    "from metapool.metapool import *\n",
    "from metapool.util import (\n",
    "    join_dfs_from_files, extend_sample_accession_df,\n",
    "    extend_compression_layout_info, QIITA_STUDY_ID_KEY)\n",
    "from metapool.plate import PlateReplication, record_gdna_dilution\n",
    "from metapool import (add_controls, compress_plates, \n",
    "                      TUBECODE_KEY, SAMPLE_NAME_KEY, SAMPLE_DNA_CONC_KEY, \n",
    "                      NORMALIZED_DNA_VOL_KEY)\n",
    "from metapool.mp_strings import (\n",
    "    PM_SAMPLE_KEY, PM_WELL_KEY, PM_LIB_WELL_KEY, TELLSEQ_BARCODE_ID_KEY, \n",
    "    TELLSEQ_BARCODE_SET_ID_KEY)\n",
    "from metapool.util import warn_if_fp_exists\n",
    "%watermark -i -v -iv -m -h -p metapool,sample_sheet,openpyxl -u"
   ]
  },
  {
   "cell_type": "code",
   "execution_count": null,
   "metadata": {
    "ExecuteTime": {
     "end_time": "2024-11-22T22:05:25.739394Z",
     "start_time": "2024-11-22T22:05:23.245386Z"
    }
   },
   "outputs": [],
   "source": [
    "! conda list"
   ]
  },
  {
   "cell_type": "markdown",
   "metadata": {},
   "source": [
    "# Knight Lab TellSeq pipeline notebook"
   ]
  },
  {
   "cell_type": "markdown",
   "metadata": {},
   "source": [
    "## Part 1 (of 5): Workflow for normalizing DNA\n",
    "\n",
    "This portion of the notebook will read in the output of the mini-Pico quantification assay and construct an Echo normalization picklist file. \n",
    "\n",
    "As inputs, it requires:\n",
    "1. A tab-delimited row-wise sample accession file that indicates the sample name (`sample_name`) and its associated matrix tube barcode (`TubeCode`)\n",
    "2. A tab-delimited metadata file downloaded from Qiita\n",
    "3. An accurate plate compression form, with appropriate VisionMate barcode scanner files (`Plate map file`)\n",
    "4. **TWO** DNA concentration files: one for the undiluted plate and one for the 1:10 dilution plate\n",
    "\n",
    "The workflow then:\n",
    "1. reads in the specified input files and constructs a dataframe\n",
    "2. calculates volumes to be added via echo to reach desired input DNA quantity, with info on which samples need to be pulled from the diluted plate and which from the original plate\n",
    "3. produces an Echo-formatted pick list file"
   ]
  },
  {
   "cell_type": "markdown",
   "metadata": {},
   "source": [
    "### Part 1 of 5, Step 0 of 8: Provide inputs"
   ]
  },
  {
   "cell_type": "code",
   "execution_count": null,
   "metadata": {
    "ExecuteTime": {
     "end_time": "2024-11-22T22:07:27.426052Z",
     "start_time": "2024-11-22T22:07:27.423051Z"
    }
   },
   "outputs": [],
   "source": [
    "## INPUT\n",
    "expt_name = \"RKLtest\""
   ]
  },
  {
   "cell_type": "code",
   "execution_count": null,
   "metadata": {
    "ExecuteTime": {
     "end_time": "2024-11-22T22:07:40.439166Z",
     "start_time": "2024-11-22T22:07:40.435502Z"
    }
   },
   "outputs": [],
   "source": [
    "## INPUT\n",
    "# One dictionary per study included in the samples on this run.\n",
    "studies_info = [\n",
    "    # EVERY entry in the dictionary must be specifically updated \n",
    "    # *every* time this notebook is run--none of these have defaults!\n",
    "    {\n",
    "    'Project Name': 'Wellcome_Leap_15538', # PROJECTNAME_QIITAID\n",
    "    'Project Abbreviation': 'WellcomeLeap', # PROJECTNAME\n",
    "    'sample_accession_fp': './test_data/Plate_Maps/Tellseq_Wellcome Leap - 15538 - Sample Accession.csv',\n",
    "    'qiita_metadata_fp': './test_data/Plate_Maps/15538_20241004-110731.txt',\n",
    "    'experiment_design_description': 'plasma sequencing',\n",
    "    'HumanFiltering': 'True', \n",
    "    'Email': 'r@gmail.com'\n",
    "    }  \n",
    "]"
   ]
  },
  {
   "cell_type": "code",
   "execution_count": null,
   "metadata": {
    "ExecuteTime": {
     "end_time": "2024-11-22T22:08:10.145677Z",
     "start_time": "2024-11-22T22:08:10.141250Z"
    }
   },
   "outputs": [],
   "source": [
    "## INPUT\n",
    "# TODO: ask what you put in here when doing replicates\n",
    "compression_layout = [\n",
    "    {\n",
    "        # top left plate\n",
    "        'Plate Position': 1, # as int\n",
    "        'Plate map file': './test_data/Plate_Maps/Tellseq_Test_Plate_1.tsv',\n",
    "        'Project Name': 'Wellcome_Leap_15538', # PROJECTNAME_QIITAID\n",
    "        'Project Plate': 'Plate_1', # Plate_#\n",
    "        'Plate elution volume': 70\n",
    "    },\n",
    "    {\n",
    "        # top right plate\n",
    "        'Plate Position': 2, # as int\n",
    "        'Plate map file': './test_data/Plate_Maps/Tellseq_Test_Plate_2.tsv',\n",
    "        'Project Name': 'Wellcome_Leap_15538', # PROJECTNAME_QIITAID\n",
    "        'Project Plate': 'Plate_2', # Plate_#\n",
    "        'Plate elution volume': 70\n",
    "    },\n",
    "    {\n",
    "        # bottom left plate\n",
    "        'Plate Position': 3, # as int\n",
    "        'Plate map file': './test_data/Plate_Maps/Tellseq_Test_Plate_3.tsv',\n",
    "        'Project Name': 'Wellcome_Leap_15538', # PROJECTNAME_QIITAID\n",
    "        'Project Plate': 'Plate_3', # Plate_#\n",
    "        'Plate elution volume': 70\n",
    "    },\n",
    "    {\n",
    "        # bottom right plate\n",
    "        'Plate Position': 4, # as int\n",
    "        'Plate map file': './test_data/Plate_Maps/Tellseq_Test_Plate_4.tsv',\n",
    "        'Project Name': 'Wellcome_Leap_15538', # PROJECTNAME_QIITAID \n",
    "        'Project Plate': 'Plate_4',  # Plate_#\n",
    "        'Plate elution volume': 70\n",
    "    },\n",
    "]"
   ]
  },
  {
   "cell_type": "code",
   "execution_count": null,
   "metadata": {
    "ExecuteTime": {
     "end_time": "2024-11-22T22:08:11.330402Z",
     "start_time": "2024-11-22T22:08:11.325112Z"
    }
   },
   "outputs": [],
   "source": [
    "# CONSTANTS: Users, DO NOT CHANGE THESE\n",
    "# values without consulting with tech team\n",
    "\n",
    "# Mask arrays for even and odd rows and columns\n",
    "EVEN_ROWS = [x for x in range(16) if x % 2 == 0]\n",
    "ODD_ROWS = [x for x in range(16) if x % 2 == 1]\n",
    "EVEN_COLS = [x for x in range(24) if x % 2 == 0]\n",
    "ODD_COLS = [x for x in range(24) if x % 2 == 1]"
   ]
  },
  {
   "cell_type": "code",
   "execution_count": null,
   "metadata": {
    "ExecuteTime": {
     "end_time": "2024-11-22T22:08:13.184014Z",
     "start_time": "2024-11-22T22:08:13.179013Z"
    }
   },
   "outputs": [],
   "source": [
    "def get_studies_attr_list(studies_dict, desired_key):\n",
    "    return [x[desired_key] for x in studies_dict]\n",
    "\n",
    "def pick_expected_separator(fps_list):\n",
    "    sep = \"\\t\"\n",
    "    visible_sep = \"tab\"\n",
    "    \n",
    "    num_fps = len(fps_list)\n",
    "    num_csv = sum([x.endswith('.csv') for x in fps_list])\n",
    "    num_txt = sum([x.endswith('.txt') for x in fps_list])\n",
    "    num_tsv = sum([x.endswith('.tsv') for x in fps_list])\n",
    "    \n",
    "    if num_csv == num_fps:\n",
    "        sep = ','\n",
    "        visible_sep = \"comma\"\n",
    "    elif (num_tsv + num_txt) != num_fps:\n",
    "        warnings.warn(\n",
    "            \"Could not determine separator; defaulting to \" + visible_sep)\n",
    "\n",
    "    return sep, visible_sep"
   ]
  },
  {
   "cell_type": "markdown",
   "metadata": {},
   "source": [
    "### Part 1 of 5, Step 1 of 8: Read in sample accession files"
   ]
  },
  {
   "cell_type": "code",
   "execution_count": null,
   "metadata": {
    "ExecuteTime": {
     "end_time": "2024-11-22T22:08:41.555027Z",
     "start_time": "2024-11-22T22:08:41.551742Z"
    }
   },
   "outputs": [],
   "source": [
    "# read in the sample accession files\n",
    "sample_accession_fps = get_studies_attr_list(\n",
    "    studies_info, 'sample_accession_fp')\n",
    "sample_acc_sep, sa_sep_name = pick_expected_separator(sample_accession_fps)\n",
    "print(f\"Expected sample accession separator: {sa_sep_name}\")"
   ]
  },
  {
   "cell_type": "code",
   "execution_count": null,
   "metadata": {
    "ExecuteTime": {
     "end_time": "2024-11-22T22:09:08.137575Z",
     "start_time": "2024-11-22T22:09:08.124998Z"
    }
   },
   "outputs": [],
   "source": [
    "sample_accession_df = join_dfs_from_files(\n",
    "    sample_accession_fps, [SAMPLE_NAME_KEY, TUBECODE_KEY], sep=sample_acc_sep)\n",
    "sample_accession_df.shape"
   ]
  },
  {
   "cell_type": "code",
   "execution_count": null,
   "metadata": {
    "ExecuteTime": {
     "end_time": "2024-11-22T22:09:10.006793Z",
     "start_time": "2024-11-22T22:09:09.996816Z"
    }
   },
   "outputs": [],
   "source": [
    "sample_accession_df.head()"
   ]
  },
  {
   "cell_type": "markdown",
   "metadata": {},
   "source": [
    "### Part 1 of 5, Step 2 of 8: Read in the sample info from Qiita"
   ]
  },
  {
   "cell_type": "code",
   "execution_count": null,
   "metadata": {
    "ExecuteTime": {
     "end_time": "2024-11-22T22:09:19.313083Z",
     "start_time": "2024-11-22T22:09:19.309907Z"
    }
   },
   "outputs": [],
   "source": [
    "# read in the qiita metadata files\n",
    "qiita_metadata_fps = get_studies_attr_list(studies_info, 'qiita_metadata_fp')\n",
    "qiita_metadata_sep, qm_sep_name = pick_expected_separator(qiita_metadata_fps)\n",
    "print(f\"Expected qiita metadata separator: {qm_sep_name}\")"
   ]
  },
  {
   "cell_type": "code",
   "execution_count": null,
   "metadata": {
    "ExecuteTime": {
     "end_time": "2024-11-22T22:09:23.007029Z",
     "start_time": "2024-11-22T22:09:22.982702Z"
    }
   },
   "outputs": [],
   "source": [
    "metadata_df = join_dfs_from_files(\n",
    "    qiita_metadata_fps, [SAMPLE_NAME_KEY, QIITA_STUDY_ID_KEY], \n",
    "    opt_cols_to_extract=['tube_id'], unique_cols=[SAMPLE_NAME_KEY],\n",
    "    sep=qiita_metadata_sep)\n",
    "metadata_df.shape"
   ]
  },
  {
   "cell_type": "code",
   "execution_count": null,
   "metadata": {
    "ExecuteTime": {
     "end_time": "2024-11-22T22:09:24.048641Z",
     "start_time": "2024-11-22T22:09:24.042553Z"
    }
   },
   "outputs": [],
   "source": [
    "metadata_df.head()"
   ]
  },
  {
   "cell_type": "markdown",
   "metadata": {},
   "source": [
    "Now use the metadata to link the study info into the sample accession dataframe:"
   ]
  },
  {
   "cell_type": "code",
   "execution_count": null,
   "metadata": {
    "ExecuteTime": {
     "end_time": "2024-11-22T22:09:29.712879Z",
     "start_time": "2024-11-22T22:09:29.691208Z"
    }
   },
   "outputs": [],
   "source": [
    "extended_sample_accession_df = extend_sample_accession_df(\n",
    "    sample_accession_df, studies_info, metadata_df)\n",
    "extended_sample_accession_df.head()"
   ]
  },
  {
   "cell_type": "markdown",
   "metadata": {},
   "source": [
    "### Part 1 of 5, Step 3 of 8: Assign the compression layout and add controls"
   ]
  },
  {
   "cell_type": "code",
   "execution_count": null,
   "metadata": {},
   "outputs": [],
   "source": [
    "## INPUT\n",
    "blanks_dir = './test_data/BLANKS_for_tellseq'\n",
    "\n",
    "## INPUT\n",
    "# ATTENTION: Does your plate include katharoseq controls?\n",
    "# If *yes*, replace the None below with the path to the directory they are in, such as\n",
    "# katharoseq_dir = './test_data/katharoseq'\n",
    "katharoseq_dir = None"
   ]
  },
  {
   "cell_type": "code",
   "execution_count": null,
   "metadata": {
    "ExecuteTime": {
     "end_time": "2024-11-22T22:09:44.523859Z",
     "start_time": "2024-11-22T22:09:44.521024Z"
    }
   },
   "outputs": [],
   "source": [
    "# copy study info into the compression layout dictionary (so that it doesn't \n",
    "# have to be entered manually in both places)\n",
    "extended_compression_layout = extend_compression_layout_info(\n",
    "    compression_layout, studies_info)"
   ]
  },
  {
   "cell_type": "code",
   "execution_count": null,
   "metadata": {
    "ExecuteTime": {
     "end_time": "2024-11-22T22:09:47.877257Z",
     "start_time": "2024-11-22T22:09:47.696418Z"
    }
   },
   "outputs": [],
   "source": [
    "plate_df = compress_plates(extended_compression_layout, \n",
    "                           extended_sample_accession_df, well_col=PM_WELL_KEY)\n",
    "plate_df.head()"
   ]
  },
  {
   "cell_type": "markdown",
   "metadata": {},
   "source": [
    "Check for samples with missing names; at this point, we expect all blanks\n",
    "and katharoseq controls WON'T have names."
   ]
  },
  {
   "cell_type": "code",
   "execution_count": null,
   "metadata": {
    "ExecuteTime": {
     "end_time": "2024-11-22T22:10:14.146217Z",
     "start_time": "2024-11-22T22:10:14.142252Z"
    }
   },
   "outputs": [],
   "source": [
    "def check_nan_samples(a_plate_df, a_blanks_dir=None):\n",
    "    num_remaining_nans = a_plate_df[a_plate_df[PM_SAMPLE_KEY].isna()].shape[0]\n",
    "    print(\"Number of samples with missing names: %d\" % num_remaining_nans)\n",
    "    \n",
    "    if num_remaining_nans > 0 and a_blanks_dir:\n",
    "        err_msg = f\"\"\"\n",
    "By now, all samples should have names, so **do not continue** before fixing this!\n",
    "\n",
    "\"Unofficial\" blanks are the most likely issue.\n",
    "Determine if the tube codes for the problem samples (shown below) are blanks.\n",
    "If they are, add them to the missing_blanks.csv file in the {a_blanks_dir} directory.\n",
    "Then re-run from 'Part 1 of 5, Step 3 of 8: Assign the compression layout and add controls'.\"\"\"\n",
    "        print(err_msg)"
   ]
  },
  {
   "cell_type": "code",
   "execution_count": null,
   "metadata": {
    "ExecuteTime": {
     "end_time": "2024-11-22T22:10:15.307066Z",
     "start_time": "2024-11-22T22:10:15.303717Z"
    }
   },
   "outputs": [],
   "source": [
    "check_nan_samples(plate_df)"
   ]
  },
  {
   "cell_type": "code",
   "execution_count": null,
   "metadata": {},
   "outputs": [],
   "source": [
    "plate_df = add_controls(plate_df, blanks_dir, katharoseq_dir)"
   ]
  },
  {
   "cell_type": "markdown",
   "metadata": {},
   "source": [
    "After adding controls, check again for samples with missing names; \n",
    "at this point, we expect all blanks and katharoseq controls WILL have names, \n",
    "so if there are any remaining samples without names, \n",
    "stop processing and fix them!"
   ]
  },
  {
   "cell_type": "code",
   "execution_count": null,
   "metadata": {
    "ExecuteTime": {
     "end_time": "2024-11-22T22:10:22.530159Z",
     "start_time": "2024-11-22T22:10:22.521590Z"
    }
   },
   "outputs": [],
   "source": [
    "## DECISION -- stop if there are still samples without names\n",
    "check_nan_samples(plate_df, a_blanks_dir=blanks_dir)\n",
    "plate_df[plate_df[PM_SAMPLE_KEY].isna()]"
   ]
  },
  {
   "cell_type": "markdown",
   "metadata": {},
   "source": [
    "### Part 1 of 5, Step 4 of 8: Validate plate dataframe"
   ]
  },
  {
   "cell_type": "code",
   "execution_count": null,
   "metadata": {
    "ExecuteTime": {
     "end_time": "2024-11-22T22:10:35.872315Z",
     "start_time": "2024-11-22T22:10:35.859042Z"
    }
   },
   "outputs": [],
   "source": [
    "# note that this function does not *need* the extended sample accession df,\n",
    "# but it is easier to use it just to keep things consistent\n",
    "validate_plate_df(plate_df,metadata_df, extended_sample_accession_df, \n",
    "                  blanks_dir, katharoseq_dir)"
   ]
  },
  {
   "cell_type": "markdown",
   "metadata": {},
   "source": [
    "### Part 1 of 5, Step 5 of 8: read in DNA concentrations and add to plate map\n",
    "\n",
    "Enter the path to each of the Pico DNA concentration output files. Each one should be\n",
    " a tab-separated file produced by the MiniPico assay on the condensed, \n",
    " 384-well plate, and should have a format like the below:"
   ]
  },
  {
   "cell_type": "markdown",
   "metadata": {},
   "source": [
    "```\n",
    "##BLOCKS= 1\n",
    "Group: Unknowns\n",
    "Sample\tWells\tRFU_Values\tConcentration\tMean_Conc\tSD\tCV\tDilution\tAdjConc\t\n",
    "01\tA1\t528791.000\t2.472\t2.472\t0.000\t0.0\t\t\t\n",
    "02\tC1\t481728.000\t2.282\t2.282\t0.000\t0.0\t\t\t\n",
    "03\tE1\t462964.000\t2.206\t2.206\t0.000\t0.0\t\t\t\n",
    "04\tG1\t556609.000\t2.585\t2.585\t0.000\t0.0\t\t\t\n",
    "05\tI1\t710679.000\t3.207\t3.207\t0.000\t0.0\t\t\t\n",
    "06\tK1\t655693.000\t2.985\t2.985\t0.000\t0.0\t\t\n",
    "```"
   ]
  },
  {
   "cell_type": "code",
   "execution_count": null,
   "metadata": {
    "ExecuteTime": {
     "end_time": "2024-11-22T22:11:22.140079Z",
     "start_time": "2024-11-22T22:11:22.136660Z"
    }
   },
   "outputs": [],
   "source": [
    "## INPUT\n",
    "# ORIGINAL (undiluted) gDNA concentration file\n",
    "sample_concs_fp =  './test_data/Quant/MiniPico/Tellseq_gDNA_Original_Quant.txt'\n",
    "\n",
    "# 1:10 diluted gDNA concentration file\n",
    "diluted_sample_concs_fp = './test_data/Quant/MiniPico/Tellseq_gDNA_diluted_10_to_1_Quant.txt'"
   ]
  },
  {
   "cell_type": "code",
   "execution_count": null,
   "metadata": {},
   "outputs": [],
   "source": [
    "for curr_fp in [sample_concs_fp, diluted_sample_concs_fp]:\n",
    "    if not os.path.isfile(curr_fp):\n",
    "        print(\"Problem! %s is not a path to a valid file\" % curr_fp)"
   ]
  },
  {
   "cell_type": "code",
   "execution_count": null,
   "metadata": {
    "ExecuteTime": {
     "end_time": "2024-11-22T22:11:23.925584Z",
     "start_time": "2024-11-22T22:11:23.921771Z"
    }
   },
   "outputs": [],
   "source": [
    "DILUTED_SUFFIX = \"_diluted\"\n",
    "UNDILUTED_SUFFIX = \"_undiluted\"\n",
    "UNDILUTED_CONC_KEY = f\"{SAMPLE_DNA_CONC_KEY}{UNDILUTED_SUFFIX}\"\n",
    "DILUTED_CONC_KEY = f\"{SAMPLE_DNA_CONC_KEY}{DILUTED_SUFFIX}\"\n",
    "\n",
    "def read_agnostic_pico_csv(a_fp, name_suffix, plate_reader):\n",
    "    a_df = read_pico_csv(a_fp, plate_reader=plate_reader)\n",
    "    suffixed_names = {x: f\"{x}{name_suffix}\" for x in a_df.columns}\n",
    "    suffixed_names.pop(PM_WELL_KEY)  # Don't actually want to rename that :)\n",
    "    a_df.rename(columns=suffixed_names, inplace=True)\n",
    "    return a_df"
   ]
  },
  {
   "cell_type": "code",
   "execution_count": null,
   "metadata": {
    "ExecuteTime": {
     "end_time": "2024-11-22T22:11:26.128459Z",
     "start_time": "2024-11-22T22:11:26.113927Z"
    }
   },
   "outputs": [],
   "source": [
    "sample_concs = read_agnostic_pico_csv(\n",
    "    sample_concs_fp, UNDILUTED_SUFFIX, plate_reader='SpectraMax_i3x')\n",
    "sample_concs.head()"
   ]
  },
  {
   "cell_type": "code",
   "execution_count": null,
   "metadata": {
    "ExecuteTime": {
     "end_time": "2024-11-22T22:11:35.330218Z",
     "start_time": "2024-11-22T22:11:35.318296Z"
    }
   },
   "outputs": [],
   "source": [
    "diluted_sample_concs = read_agnostic_pico_csv(\n",
    "    diluted_sample_concs_fp, DILUTED_SUFFIX, 'SpectraMax_i3x')\n",
    "diluted_sample_concs.head()"
   ]
  },
  {
   "cell_type": "code",
   "execution_count": null,
   "metadata": {
    "ExecuteTime": {
     "end_time": "2024-11-22T22:11:41.036564Z",
     "start_time": "2024-11-22T22:11:41.016896Z"
    }
   },
   "outputs": [],
   "source": [
    "plate_df = pd.merge(plate_df, sample_concs, on=PM_WELL_KEY)\n",
    "plate_df = pd.merge(plate_df, diluted_sample_concs, on=PM_WELL_KEY)\n",
    "plate_df[SAMPLE_DNA_CONC_KEY] = plate_df[UNDILUTED_CONC_KEY]  # default\n",
    "plate_df.head()"
   ]
  },
  {
   "cell_type": "code",
   "execution_count": null,
   "metadata": {
    "ExecuteTime": {
     "end_time": "2024-11-22T22:11:58.577228Z",
     "start_time": "2024-11-22T22:11:58.574430Z"
    }
   },
   "outputs": [],
   "source": [
    "## INPUT -- verify default\n",
    "# Add dilution info into the plate df; for every sample with a DILUTED \n",
    "# concentration greater than or equal to the min concentration threshold, we\n",
    "# SHOULD use the diluted plate values.\n",
    "min_conc_threshold = 1.5  # ng/ul"
   ]
  },
  {
   "cell_type": "code",
   "execution_count": null,
   "metadata": {
    "ExecuteTime": {
     "end_time": "2024-11-22T22:12:47.955411Z",
     "start_time": "2024-11-22T22:12:47.932719Z"
    }
   },
   "outputs": [],
   "source": [
    "diluted_mask = plate_df[DILUTED_CONC_KEY] >= min_conc_threshold\n",
    "plate_df = record_gdna_dilution(plate_df, diluted_mask, DILUTED_CONC_KEY)\n",
    "plate_df.head()"
   ]
  },
  {
   "cell_type": "markdown",
   "metadata": {},
   "source": [
    "**Visualize plate DNA concentrations and plate map:**\n",
    "\n",
    "Undiluted concentrations"
   ]
  },
  {
   "cell_type": "code",
   "execution_count": null,
   "metadata": {
    "ExecuteTime": {
     "end_time": "2024-11-22T22:13:39.176500Z",
     "start_time": "2024-11-22T22:13:36.748544Z"
    }
   },
   "outputs": [],
   "source": [
    "# get DNA concentration information\n",
    "undiluted_dna_concs = make_2D_array(plate_df, data_col=UNDILUTED_CONC_KEY, \n",
    "                          well_col=PM_WELL_KEY).astype(float)\n",
    "\n",
    "# get information for annotation\n",
    "names = make_2D_array(plate_df, data_col=PM_SAMPLE_KEY, well_col=PM_WELL_KEY)\n",
    "\n",
    "plot_plate_vals(undiluted_dna_concs,\n",
    "                annot_str=names,\n",
    "                color_map='viridis',\n",
    "                annot_fmt='.5s')"
   ]
  },
  {
   "cell_type": "markdown",
   "metadata": {},
   "source": [
    "Diluted concentrations"
   ]
  },
  {
   "cell_type": "code",
   "execution_count": null,
   "metadata": {
    "ExecuteTime": {
     "end_time": "2024-11-22T22:13:46.989984Z",
     "start_time": "2024-11-22T22:13:44.607167Z"
    }
   },
   "outputs": [],
   "source": [
    "# get DNA concentration information\n",
    "diluted_dna_concs = make_2D_array(plate_df, data_col=DILUTED_CONC_KEY, \n",
    "                                  well_col=PM_WELL_KEY).astype(float)\n",
    "\n",
    "# get information for annotation\n",
    "diluted_names = make_2D_array(plate_df, data_col=PM_SAMPLE_KEY, well_col=PM_WELL_KEY)\n",
    "\n",
    "plot_plate_vals(diluted_dna_concs,\n",
    "                annot_str=diluted_names,\n",
    "                color_map='viridis',\n",
    "                annot_fmt='.5s')"
   ]
  },
  {
   "cell_type": "markdown",
   "metadata": {},
   "source": [
    "#### Make sample replicates\n",
    "\n",
    "Set replicate dictionary, if needed."
   ]
  },
  {
   "cell_type": "code",
   "execution_count": null,
   "metadata": {
    "ExecuteTime": {
     "end_time": "2024-11-22T22:14:21.108486Z",
     "start_time": "2024-11-22T22:14:21.105628Z"
    }
   },
   "outputs": [],
   "source": [
    "# Replicate formats:\n",
    "# replicate_dict = {source1_quadrant:destination1_quadrant}\n",
    "# replicate_dict = {source1_quadrant:[destination1_quadrants,destination1_quadrants]}\n",
    "# Replicate example: \n",
    "# replicate_dict = {1:[2,3]}\n",
    "# for no replicates, use:\n",
    "replicate_dict = None\n",
    "\n",
    "# 'Well' differs from 'Library Well' because the former specifies the \n",
    "# gDNA source well while the latter specifies the well (destination well) that \n",
    "# will contain the sequencing library for the sample. These contain the same\n",
    "# info when replicates are not used, but differ when replicates ARE used,\n",
    "# so it is safer to use 'Library Well' in both cases.\n",
    "# (Careful!  well_col is a global variable used throughout rest of notebook)\n",
    "well_col = PM_LIB_WELL_KEY"
   ]
  },
  {
   "cell_type": "code",
   "execution_count": null,
   "metadata": {
    "ExecuteTime": {
     "end_time": "2024-11-22T22:14:50.932579Z",
     "start_time": "2024-11-22T22:14:50.924829Z"
    }
   },
   "outputs": [],
   "source": [
    "# initialize new PlateReplication object to manage metadata, conversions, etc.\n",
    "# initialize w/preferred well_col.\n",
    "pr = PlateReplication(well_col)\n",
    "\n",
    "# set overwrite=False to detect any overwriting of source or destination quads \n",
    "# and raise an Error.\n",
    "plate_df = pr.make_replicates(\n",
    "    plate_df, replicates=replicate_dict, overwrite=True)\n",
    "\n",
    "# replicates overlapping sample_wells for other samples should raise warning,\n",
    "# but will be allowed\n",
    "if 'True' in plate_df['contains_replicates'].unique():\n",
    "    raise NotImplementedError(\"This notebook does not yet support replicates.\")\n",
    "    \n",
    "    # plate_df['contains_replicates'] = True\n",
    "    # # get DNA concentration information\n",
    "    # dna_concs = make_2D_array(plate_df, data_col='Sample DNA Concentration', \n",
    "    #                           well_col=well_col).astype(float)\n",
    "    # \n",
    "    # # get information for annotation\n",
    "    # names = make_2D_array(plate_df, data_col=PM_SAMPLE_KEY, well_col=well_col)\n",
    "    # \n",
    "    # plot_plate_vals(dna_concs,\n",
    "    #             annot_str=names,\n",
    "    #             color_map='viridis',\n",
    "    #             annot_fmt='.6s')\n",
    "else:\n",
    "    plate_df['contains_replicates'] = False\n",
    "    \n",
    "# show whether this plate contains replicates or not\n",
    "f\"Contains replicates: {plate_df['contains_replicates'].unique()}\""
   ]
  },
  {
   "cell_type": "markdown",
   "metadata": {},
   "source": [
    "#### gDNA concentration heatmap, Plate 1"
   ]
  },
  {
   "cell_type": "code",
   "execution_count": null,
   "metadata": {
    "ExecuteTime": {
     "end_time": "2024-11-22T22:14:58.649792Z",
     "start_time": "2024-11-22T22:14:57.318565Z"
    }
   },
   "outputs": [],
   "source": [
    "plot_plate_vals(undiluted_dna_concs[np.ix_(EVEN_ROWS,EVEN_COLS)],\n",
    "                annot_str= names[np.ix_(EVEN_ROWS,EVEN_COLS)],\n",
    "                color_map='viridis',\n",
    "                annot_fmt='')"
   ]
  },
  {
   "cell_type": "markdown",
   "metadata": {},
   "source": [
    "#### gDNA concentration heatmap, Plate 2"
   ]
  },
  {
   "cell_type": "code",
   "execution_count": null,
   "metadata": {
    "ExecuteTime": {
     "end_time": "2024-11-22T22:15:02.237681Z",
     "start_time": "2024-11-22T22:15:00.812898Z"
    }
   },
   "outputs": [],
   "source": [
    "plot_plate_vals(undiluted_dna_concs[np.ix_(EVEN_ROWS,ODD_COLS)],\n",
    "                    annot_str= names[np.ix_(EVEN_ROWS,ODD_COLS)],\n",
    "                    color_map='viridis',\n",
    "                    annot_fmt='')"
   ]
  },
  {
   "cell_type": "markdown",
   "metadata": {},
   "source": [
    "#### gDNA concentration heatmap, Plate 3"
   ]
  },
  {
   "cell_type": "code",
   "execution_count": null,
   "metadata": {
    "ExecuteTime": {
     "end_time": "2024-11-22T22:15:05.549883Z",
     "start_time": "2024-11-22T22:15:03.773173Z"
    }
   },
   "outputs": [],
   "source": [
    "plot_plate_vals(undiluted_dna_concs[np.ix_(ODD_ROWS,EVEN_COLS)],\n",
    "                    annot_str= names[np.ix_(ODD_ROWS,EVEN_COLS)],\n",
    "                    color_map='viridis',\n",
    "                    annot_fmt='')"
   ]
  },
  {
   "cell_type": "markdown",
   "metadata": {},
   "source": [
    "\n",
    "#### gDNA concentration heatmap, Plate 4"
   ]
  },
  {
   "cell_type": "code",
   "execution_count": null,
   "metadata": {
    "ExecuteTime": {
     "end_time": "2024-11-22T22:15:08.915185Z",
     "start_time": "2024-11-22T22:15:07.398104Z"
    }
   },
   "outputs": [],
   "source": [
    "plot_plate_vals(undiluted_dna_concs[np.ix_(ODD_ROWS,ODD_COLS)],\n",
    "                    annot_str= names[np.ix_(ODD_ROWS,ODD_COLS)],\n",
    "                    color_map='viridis',\n",
    "                    annot_fmt='')"
   ]
  },
  {
   "cell_type": "markdown",
   "metadata": {},
   "source": [
    "### Part 1 of 5, Step 6 of 8: calculate normalization volumes and add to plate map\n",
    "\n",
    "This step will calculate volumes for the DNA normalization pick list.\n",
    "\n",
    "Check the desired values for:\n",
    " - **`ng`**: the desired quantity of DNA in normed plate, in ng\n",
    " - **`total_vol`**: the total volume of normalized DNA, in nL\n",
    " - **`min_vol`**: the minimum quantity of sample to add, in nL\n",
    " - **`resolution`**: the resolution of the Echo, in nL (usually 2.5)"
   ]
  },
  {
   "cell_type": "code",
   "execution_count": null,
   "metadata": {
    "ExecuteTime": {
     "end_time": "2024-11-22T22:15:28.948153Z",
     "start_time": "2024-11-22T22:15:28.945458Z"
    }
   },
   "outputs": [],
   "source": [
    "## INPUT -- verify defaults\n",
    "ng = 7.5\n",
    "total_vol = 5000\n",
    "min_vol = 25\n",
    "resolution = 2.5"
   ]
  },
  {
   "cell_type": "code",
   "execution_count": null,
   "metadata": {
    "ExecuteTime": {
     "end_time": "2024-11-22T22:15:30.607016Z",
     "start_time": "2024-11-22T22:15:30.583530Z"
    }
   },
   "outputs": [],
   "source": [
    "NORMALIZED_WATER_VOL_KEY = 'Normalized water volume'\n",
    "\n",
    "dna_vols = calculate_norm_vol(\n",
    "    plate_df[SAMPLE_DNA_CONC_KEY], ng=ng, min_vol=min_vol, \n",
    "    max_vol=total_vol, resolution=resolution)\n",
    "water_vols = total_vol - dna_vols\n",
    "\n",
    "plate_df[NORMALIZED_DNA_VOL_KEY] = dna_vols\n",
    "plate_df[NORMALIZED_WATER_VOL_KEY] = water_vols\n",
    "plate_df.head()"
   ]
  },
  {
   "cell_type": "markdown",
   "metadata": {},
   "source": [
    "### Part 1 of 5, Step 7 of 8 (optional): Add synDNA spike-in"
   ]
  },
  {
   "cell_type": "code",
   "execution_count": null,
   "metadata": {
    "ExecuteTime": {
     "end_time": "2024-11-22T22:15:36.604963Z",
     "start_time": "2024-11-22T22:15:36.602527Z"
    }
   },
   "outputs": [],
   "source": [
    "## INPUT\n",
    "# Set syndna_pool_number to 1 if syndna is being used; otherwise, leave as None\n",
    "syndna_pool_number = None\n",
    "syndna_picklist_fp = './test_output/Input_Norm/Tellseq_matrix_syndna_absquant.txt'\n",
    "# The below fp can be the same as the concentration file input at step 1.5, \n",
    "# and generally will be EXCEPT if there was a dilution done between the \n",
    "# elution and the concentration measurement at step 1.5 (e.g., for NPH),\n",
    "undiluted_gdna_conc_fp = './test_data/Quant/MiniPico/Tellseq_gDNA_Original_Quant.txt'"
   ]
  },
  {
   "cell_type": "code",
   "execution_count": null,
   "metadata": {
    "ExecuteTime": {
     "end_time": "2024-11-22T22:16:06.894503Z",
     "start_time": "2024-11-22T22:16:06.890168Z"
    }
   },
   "outputs": [],
   "source": [
    "plate_df = add_syndna(plate_df, \n",
    "                      syndna_pool_number=syndna_pool_number,\n",
    "                      syndna_concentration=2.22)"
   ]
  },
  {
   "cell_type": "code",
   "execution_count": null,
   "metadata": {
    "ExecuteTime": {
     "end_time": "2024-11-22T22:16:08.428424Z",
     "start_time": "2024-11-22T22:16:08.424844Z"
    }
   },
   "outputs": [],
   "source": [
    "f'For this plate, is_absquant = {is_absquant(plate_df)}'"
   ]
  },
  {
   "cell_type": "code",
   "execution_count": null,
   "metadata": {
    "ExecuteTime": {
     "end_time": "2024-11-22T22:16:12.875919Z",
     "start_time": "2024-11-22T22:16:12.870591Z"
    }
   },
   "outputs": [],
   "source": [
    "if is_absquant(plate_df):\n",
    "    # add undiluted gdna concentrations to plate_df\n",
    "    plate_df = add_undiluted_gdna_concs(plate_df, undiluted_gdna_conc_fp)     \n",
    "\n",
    "    # create syndna picklist    \n",
    "    syndna_well='A1'\n",
    "    syndna_plate = 'synDNA plate'\n",
    "    syndna_picklist = \\\n",
    "        format_dna_norm_picklist(\n",
    "            np.array(plate_df['synDNA volume']),\n",
    "            np.zeros(plate_df.shape[0]),\n",
    "            np.repeat(syndna_well,plate_df.shape[0]),\n",
    "            dest_wells = np.array(plate_df[well_col]),\n",
    "            sample_names = np.array(plate_df[PM_SAMPLE_KEY]),\n",
    "            sample_plates = np.repeat(syndna_plate,plate_df.shape[0]))"
   ]
  },
  {
   "cell_type": "code",
   "execution_count": null,
   "metadata": {
    "ExecuteTime": {
     "end_time": "2024-11-22T22:16:13.836352Z",
     "start_time": "2024-11-22T22:16:13.833070Z"
    }
   },
   "outputs": [],
   "source": [
    "if is_absquant(plate_df):\n",
    "    if os.path.isfile(syndna_picklist_fp):\n",
    "        print(\"Warning! This file exists already.\")"
   ]
  },
  {
   "cell_type": "code",
   "execution_count": null,
   "metadata": {
    "ExecuteTime": {
     "end_time": "2024-11-22T22:16:15.981920Z",
     "start_time": "2024-11-22T22:16:15.978164Z"
    }
   },
   "outputs": [],
   "source": [
    "if is_absquant(plate_df):\n",
    "    with open(syndna_picklist_fp, 'w') as f:\n",
    "        f.write(syndna_picklist)\n",
    "\n",
    "    !head {syndna_picklist_fp}"
   ]
  },
  {
   "cell_type": "markdown",
   "metadata": {},
   "source": [
    "### Part 1 of 5, Step 8 of 8: Make pick list and write to file\n",
    "\n",
    "Format the Echo-compatible pick list."
   ]
  },
  {
   "cell_type": "code",
   "execution_count": null,
   "metadata": {},
   "outputs": [],
   "source": [
    "## INPUT\n",
    "norm_picklist_fp = './test_output/Input_Norm/Tellseq_inputnorm.txt'"
   ]
  },
  {
   "cell_type": "code",
   "execution_count": null,
   "metadata": {
    "ExecuteTime": {
     "end_time": "2024-11-22T22:16:19.858312Z",
     "start_time": "2024-11-22T22:16:19.851428Z"
    }
   },
   "outputs": [],
   "source": [
    "norm_picklist = format_dna_norm_picklist(\n",
    "    np.array(plate_df[NORMALIZED_DNA_VOL_KEY]),\n",
    "    np.array(plate_df[NORMALIZED_WATER_VOL_KEY]),\n",
    "    np.array(plate_df[PM_WELL_KEY]),\n",
    "    dest_wells = np.array(plate_df[well_col]),\n",
    "    sample_names = np.array(plate_df[PM_SAMPLE_KEY]),\n",
    "    sample_plates = np.array(plate_df[PM_COMPRESSED_PLATE_NAME_KEY]),\n",
    "    dna_concs = np.array(plate_df[SAMPLE_DNA_CONC_KEY]))"
   ]
  },
  {
   "cell_type": "code",
   "execution_count": null,
   "metadata": {
    "ExecuteTime": {
     "end_time": "2024-11-22T22:16:21.419085Z",
     "start_time": "2024-11-22T22:16:21.416167Z"
    }
   },
   "outputs": [],
   "source": [
    "# Write the picklist as .txt\n",
    "warn_if_fp_exists(norm_picklist_fp)"
   ]
  },
  {
   "cell_type": "code",
   "execution_count": null,
   "metadata": {
    "ExecuteTime": {
     "end_time": "2024-11-22T22:16:22.484290Z",
     "start_time": "2024-11-22T22:16:22.329434Z"
    }
   },
   "outputs": [],
   "source": [
    "with open(norm_picklist_fp, 'w') as f:\n",
    "    f.write(norm_picklist)\n",
    "    \n",
    "!head {norm_picklist_fp}"
   ]
  },
  {
   "cell_type": "markdown",
   "metadata": {},
   "source": [
    "## Part 2 (of 5): Workflow for assigning barcodes\n",
    "\n",
    "This portion of the notebook will assign index values and construct an Echo picklist file for adding barcodes. \n",
    "\n",
    "As inputs, it requires:\n",
    "1. A plate_df dataframe (from previous step)\n",
    "2. A tab-delimited tellseq barcode file, containing Well and Barcode_ID columns\n",
    "3. The name of the tellseq barcode source plate\n",
    "\n",
    "The workflow then:\n",
    "1. reads in the tellseq barcode list\n",
    "2. assigns indices per sample\n",
    "3. produces an Echo-formatted pick list file"
   ]
  },
  {
   "cell_type": "markdown",
   "metadata": {},
   "source": [
    "### Part 2 of 5, Step 1 of 3: Read in tellseq barcode list\n",
    "\n",
    "This is a file that contains each unique tellseq barcode on a separate line,\n",
    "along with plate and well location information. It should look something like this:\n",
    "\n",
    "```\n",
    "Well,Barcode_96_Well_Position,Barcode_ID\n",
    "A1,A1,C501\n",
    "B1,A2,C509\n",
    "C1,B1,C502\n",
    "D1,B2,C510\n",
    "E1,C1,C503\n",
    "F1,C2,C511\n",
    "G1,D1,C504\n",
    "H1,D2,C512\n",
    "I1,E1,C505\n",
    "J1,E2,C513\n",
    "K1,F1,C506\n",
    "```"
   ]
  },
  {
   "cell_type": "code",
   "execution_count": null,
   "metadata": {
    "ExecuteTime": {
     "end_time": "2024-11-22T22:17:10.819634Z",
     "start_time": "2024-11-22T22:17:10.816612Z"
    }
   },
   "outputs": [],
   "source": [
    "## INPUT\n",
    "barcodes_plate_name = 'TellSeq_Barcode_Plate_1_LN2409001_EXP052026'\n",
    "barcodes_fp = './test_data/Tellseq/TELL-Seq_Barcodes_PP_Primer_Plate - PP_Primer_Position.csv'"
   ]
  },
  {
   "cell_type": "code",
   "execution_count": null,
   "metadata": {},
   "outputs": [],
   "source": [
    "if not os.path.isfile(barcodes_fp):\n",
    "    print(\"Problem! %s is not a path to a valid file\" % barcodes_fp)"
   ]
  },
  {
   "cell_type": "code",
   "execution_count": null,
   "metadata": {
    "ExecuteTime": {
     "end_time": "2024-11-22T22:17:13.375663Z",
     "start_time": "2024-11-22T22:17:13.363589Z"
    }
   },
   "outputs": [],
   "source": [
    "barcodes = pd.read_csv(barcodes_fp, dtype=str)\n",
    "\n",
    "# rename the columns to match what `format_index_picklist` expects\n",
    "# and add the plate information\n",
    "barcodes.rename(columns={'Well': 'i5 well', 'Barcode_ID': 'i5 name'}, inplace=True)\n",
    "barcodes['i5 plate'] = barcodes_plate_name\n",
    "barcodes.head()"
   ]
  },
  {
   "cell_type": "markdown",
   "metadata": {},
   "source": [
    "### Part 2 of 5, Step 2 of 3: Assign tellseq barcodes"
   ]
  },
  {
   "cell_type": "code",
   "execution_count": null,
   "metadata": {
    "ExecuteTime": {
     "end_time": "2024-11-22T22:18:04.488764Z",
     "start_time": "2024-11-22T22:18:04.484082Z"
    }
   },
   "outputs": [],
   "source": [
    "def sort_by_col_then_row(a_df, well_key='Well'):\n",
    "    # remove the first character from the contents of a_df[well_key] and \n",
    "    # store it in its own column named f\"{well_key}_row\"\n",
    "    a_df[f\"{well_key}_row\"] = a_df[well_key].str[:1]\n",
    "    \n",
    "    # take everything BUT the first character in the contents of a_df[well_key]\n",
    "    # and convert it to an integer and store it in its own column named\n",
    "    # f\"{well_key}_col\"\n",
    "    a_df[f\"{well_key}_col\"] = a_df[well_key].str[1:].astype(int)\n",
    "    \n",
    "    # sort the dataframe first by the column and then by the row\n",
    "    a_df.sort_values(by=[f\"{well_key}_col\", f\"{well_key}_row\"], inplace=True)\n",
    "    return a_df\n",
    "\n",
    "def get_num_barcode_sets_needed(a_plate_df, barcodes_df):\n",
    "    # if num_barcode_sets_needed is not an integer, throw an error\n",
    "    num_barcode_sets_needed = a_plate_df.shape[0]/ barcodes_df.shape[0]\n",
    "    if num_barcode_sets_needed % 1 != 0:\n",
    "        raise ValueError(\n",
    "            f\"Number of barcodes ({barcodes_df.shape[0]}) \"\n",
    "            f\"does not divide evenly into number of samples \"\n",
    "            f\"]({a_plate_df.shape[0]})\")\n",
    "    return int(num_barcode_sets_needed)"
   ]
  },
  {
   "cell_type": "code",
   "execution_count": null,
   "metadata": {
    "ExecuteTime": {
     "end_time": "2024-11-22T22:18:12.926844Z",
     "start_time": "2024-11-22T22:18:12.920033Z"
    }
   },
   "outputs": [],
   "source": [
    "# get the plate_df sorted by col then row\n",
    "p_df = plate_df.copy()\n",
    "p_df = sort_by_col_then_row(p_df, well_key=PM_LIB_WELL_KEY)\n",
    "# make the existing index into a column and reindex\n",
    "p_df.reset_index(inplace=True)"
   ]
  },
  {
   "cell_type": "code",
   "execution_count": null,
   "metadata": {
    "ExecuteTime": {
     "end_time": "2024-11-22T22:18:23.597120Z",
     "start_time": "2024-11-22T22:18:23.586435Z"
    }
   },
   "outputs": [],
   "source": [
    "# get the barcodes sorted by col then row\n",
    "b_df = barcodes.copy()\n",
    "b_df = sort_by_col_then_row(b_df, well_key='i5 well')\n",
    "b_df"
   ]
  },
  {
   "cell_type": "code",
   "execution_count": null,
   "metadata": {
    "ExecuteTime": {
     "end_time": "2024-11-22T22:18:26.857652Z",
     "start_time": "2024-11-22T22:18:26.846456Z"
    }
   },
   "outputs": [],
   "source": [
    "# make a new barcodes_sets_df that duplicates the barcodes dataframe\n",
    "# num_barcode_sets_needed times\n",
    "concat_dfs = []\n",
    "barcode_max_col = b_df['i5 well_col'].max()\n",
    "num_barcode_sets = get_num_barcode_sets_needed(p_df, b_df)\n",
    "curr_min_col = 0\n",
    "curr_max_col = barcode_max_col\n",
    "for i in range(num_barcode_sets):\n",
    "    curr_set = b_df.copy()\n",
    "    curr_set[TELLSEQ_BARCODE_SET_ID_KEY] = \\\n",
    "        f\"col{curr_min_col + 1}to{curr_max_col}\"\n",
    "    curr_min_col = curr_max_col\n",
    "    curr_max_col += barcode_max_col\n",
    "    concat_dfs.append(curr_set)\n",
    "barcode_sets_df = pd.concat(concat_dfs, ignore_index=True)\n",
    "barcode_sets_df.head()"
   ]
  },
  {
   "cell_type": "code",
   "execution_count": null,
   "metadata": {
    "ExecuteTime": {
     "end_time": "2024-11-22T22:18:31.982657Z",
     "start_time": "2024-11-22T22:18:31.962195Z"
    }
   },
   "outputs": [],
   "source": [
    "# merge the (sorted) plate_df and barcode_sets_df\n",
    "p_df = pd.merge(p_df, barcode_sets_df, \n",
    "                    left_index=True, right_index=True)\n",
    "p_df.set_index('index', inplace=True)\n",
    "p_df"
   ]
  },
  {
   "cell_type": "code",
   "execution_count": null,
   "metadata": {
    "ExecuteTime": {
     "end_time": "2024-11-22T22:19:14.861355Z",
     "start_time": "2024-11-22T22:19:14.857816Z"
    }
   },
   "outputs": [],
   "source": [
    "plate_df = p_df"
   ]
  },
  {
   "cell_type": "markdown",
   "metadata": {},
   "source": [
    "### Part 2 of 5, Step 3 of 3: Make barcodes pick list and write to file\n",
    "\n",
    "Format the Echo-compatible pick list."
   ]
  },
  {
   "cell_type": "code",
   "execution_count": null,
   "metadata": {
    "ExecuteTime": {
     "end_time": "2024-11-22T22:19:25.448708Z",
     "start_time": "2024-11-22T22:19:25.446015Z"
    }
   },
   "outputs": [],
   "source": [
    "## INPUT\n",
    "barcode_picklist_fp = './test_output/Indices/Tellseq_barcode_matrix.txt'\n",
    "\n",
    "## INPUT -- verify default\n",
    "barcode_vol = 4000"
   ]
  },
  {
   "cell_type": "code",
   "execution_count": null,
   "metadata": {
    "ExecuteTime": {
     "end_time": "2024-11-22T22:19:27.042606Z",
     "start_time": "2024-11-22T22:19:26.983602Z"
    }
   },
   "outputs": [],
   "source": [
    "barcode_picklist = format_index_picklist(\n",
    "    plate_df[PM_SAMPLE_KEY], plate_df[well_col], barcode_sets_df,\n",
    "    i5_vol=barcode_vol)"
   ]
  },
  {
   "cell_type": "code",
   "execution_count": null,
   "metadata": {
    "ExecuteTime": {
     "end_time": "2024-11-22T22:19:30.392526Z",
     "start_time": "2024-11-22T22:19:30.389533Z"
    }
   },
   "outputs": [],
   "source": [
    "warn_if_fp_exists(barcode_picklist_fp)"
   ]
  },
  {
   "cell_type": "code",
   "execution_count": null,
   "metadata": {
    "ExecuteTime": {
     "end_time": "2024-11-22T22:19:32.014457Z",
     "start_time": "2024-11-22T22:19:31.861962Z"
    }
   },
   "outputs": [],
   "source": [
    "with open(barcode_picklist_fp, 'w') as f:\n",
    "    f.write(barcode_picklist)\n",
    "\n",
    "!head {barcode_picklist_fp}"
   ]
  },
  {
   "cell_type": "markdown",
   "metadata": {},
   "source": [
    "## Part 3 (of 5): Library concentration estimation\n",
    "\n",
    "This portion of the notebook takes in fluorescent\n",
    " quantification values and produces visual outputs to interpret and check \n",
    " values. \n",
    "\n",
    "As inputs, this workflow requires:\n",
    "1. A plate map DataFrame (from previous step)\n",
    "2. MiniPico output (tab-delimited text format with columns 'Concentration' and 'Well')\n",
    "\n",
    "The workflow:\n",
    "1. reads in MiniPico output and calculates estimated library concentration\n",
    "2. visualizes concentration\n",
    "3. outputs a plate file and a studies info file for later use in per-barcode-set pooling"
   ]
  },
  {
   "cell_type": "markdown",
   "metadata": {},
   "source": [
    "### Part 3 of 5, Step 1 of 4: read in MiniPico library concentration\n",
    "Enter path to MiniPico file:"
   ]
  },
  {
   "cell_type": "code",
   "execution_count": null,
   "metadata": {
    "ExecuteTime": {
     "end_time": "2024-11-22T22:21:23.564900Z",
     "start_time": "2024-11-22T22:21:23.561971Z"
    }
   },
   "outputs": [],
   "source": [
    "## INPUT\n",
    "lib_concs_fp = './test_data/Quant/MiniPico/Tellseq_clean_lib_quant.txt'"
   ]
  },
  {
   "cell_type": "code",
   "execution_count": null,
   "metadata": {
    "ExecuteTime": {
     "end_time": "2024-11-22T22:21:25.361657Z",
     "start_time": "2024-11-22T22:21:25.333572Z"
    }
   },
   "outputs": [],
   "source": [
    "lib_concs = read_pico_csv(lib_concs_fp, plate_reader='SpectraMax_i3x',\n",
    "                          conc_col_name='MiniPico Library DNA Concentration')\n",
    "lib_concs.rename(columns={'Well':well_col},inplace=True)\n",
    "plate_df = pd.merge(plate_df, lib_concs, on=well_col)\n",
    "\n",
    "plate_df.head()"
   ]
  },
  {
   "cell_type": "markdown",
   "metadata": {},
   "source": [
    "### Part 3 of 5, Step 2 of 4: calculate sample concentration from MiniPico\n",
    "\n",
    "You will want to make sure that 'size' is correct for your average library size."
   ]
  },
  {
   "cell_type": "code",
   "execution_count": null,
   "metadata": {
    "ExecuteTime": {
     "end_time": "2024-11-22T22:21:28.485700Z",
     "start_time": "2024-11-22T22:21:28.469332Z"
    }
   },
   "outputs": [],
   "source": [
    "plate_df['MiniPico Library Concentration'] = \\\n",
    "    compute_pico_concentration(\n",
    "        plate_df['MiniPico Library DNA Concentration'], size=500)\n",
    "plate_df.head()"
   ]
  },
  {
   "cell_type": "markdown",
   "metadata": {},
   "source": [
    "### Part 3 of 5, Step 3 of 4: visualize MiniPico values\n",
    "\n",
    "This step will present visuals of the results, including:\n",
    "1. Scatter plot of DNA concentrations by Library concentration\n",
    "2. Plate-wise heatmap and histogram showing library concentrations\n",
    "3. per-96-well plate heatmaps and histograms showing library concentrations and sample names\n",
    "4. Plate-wise heatmap showing pooling values"
   ]
  },
  {
   "cell_type": "markdown",
   "metadata": {},
   "source": [
    "#### Library concentration by sample DNA concentration:"
   ]
  },
  {
   "cell_type": "code",
   "execution_count": null,
   "metadata": {
    "ExecuteTime": {
     "end_time": "2024-11-22T22:21:42.921073Z",
     "start_time": "2024-11-22T22:21:40.122735Z"
    }
   },
   "outputs": [],
   "source": [
    "f, (ax1,ax2,ax3) = plt.subplots(nrows=1, ncols=3, figsize=(14, 4))\n",
    "plate_df['Input DNA'] = plate_df['Sample DNA Concentration']*plate_df['Normalized DNA volume']/1000\n",
    "sns.regplot(x=\"Sample DNA Concentration\", y=\"MiniPico Library DNA Concentration\", data=plate_df, ax = ax1)\n",
    "sns.boxplot(x=\"Blank\", y=\"MiniPico Library DNA Concentration\", data=plate_df, ax = ax2)\n",
    "sns.swarmplot(x=\"Blank\", y=\"MiniPico Library DNA Concentration\", data=plate_df, ax = ax2,\n",
    "              size=3,color='black',alpha=0.5)\n",
    "sns.scatterplot( x=\"Input DNA\",y=\"MiniPico Library DNA Concentration\",hue='Sample DNA Concentration',data=plate_df ,ax = ax3)\n",
    "ax3.legend(title='Sample DNA Concentration',loc='center left', bbox_to_anchor=(1, 0.5))"
   ]
  },
  {
   "cell_type": "code",
   "execution_count": null,
   "metadata": {
    "ExecuteTime": {
     "end_time": "2024-11-22T22:21:44.757449Z",
     "start_time": "2024-11-22T22:21:44.751409Z"
    }
   },
   "outputs": [],
   "source": [
    "blanks_gdna_concs = plate_df.loc[plate_df['Blank']==True,'Sample DNA Concentration']\n",
    "samples_gdna_concs = plate_df.loc[plate_df['Blank']==False,'Sample DNA Concentration']\n",
    "mannwhitneyu(samples_gdna_concs, blanks_gdna_concs)"
   ]
  },
  {
   "cell_type": "code",
   "execution_count": null,
   "metadata": {
    "ExecuteTime": {
     "end_time": "2024-11-22T22:21:46.338818Z",
     "start_time": "2024-11-22T22:21:46.331425Z"
    }
   },
   "outputs": [],
   "source": [
    "blanks_lib_concs = plate_df.loc[plate_df['Blank']==True,'MiniPico Library Concentration']\n",
    "samples_lib_concs = plate_df.loc[plate_df['Blank']==False,'MiniPico Library Concentration']\n",
    "mannwhitneyu(samples_lib_concs, blanks_lib_concs)"
   ]
  },
  {
   "cell_type": "markdown",
   "metadata": {},
   "source": [
    "#### Library concentration heatmap, whole plate"
   ]
  },
  {
   "cell_type": "code",
   "execution_count": null,
   "metadata": {
    "ExecuteTime": {
     "end_time": "2024-11-22T22:22:24.258255Z",
     "start_time": "2024-11-22T22:22:24.189921Z"
    }
   },
   "outputs": [],
   "source": [
    "# get concentration and pooling values for plotting\n",
    "concs = make_2D_array(plate_df, data_col=\"MiniPico Library Concentration\", well_col=well_col).astype(float)\n",
    "dna = make_2D_array(plate_df, data_col=SAMPLE_DNA_CONC_KEY, well_col=well_col).astype(float)\n",
    "\n",
    "# get information for annotation\n",
    "names = make_2D_array(plate_df, data_col=PM_SAMPLE_KEY, well_col=well_col)"
   ]
  },
  {
   "cell_type": "code",
   "execution_count": null,
   "metadata": {
    "ExecuteTime": {
     "end_time": "2024-11-22T22:22:28.492258Z",
     "start_time": "2024-11-22T22:22:25.744493Z"
    }
   },
   "outputs": [],
   "source": [
    "plot_plate_vals(concs, color_map='viridis')"
   ]
  },
  {
   "cell_type": "markdown",
   "metadata": {},
   "source": [
    "#### Plate maps for individual constituent plates"
   ]
  },
  {
   "cell_type": "markdown",
   "metadata": {},
   "source": [
    "##### Library concentration heatmap, Plate 1"
   ]
  },
  {
   "cell_type": "code",
   "execution_count": null,
   "metadata": {
    "ExecuteTime": {
     "end_time": "2024-11-22T22:22:38.276258Z",
     "start_time": "2024-11-22T22:22:36.822481Z"
    }
   },
   "outputs": [],
   "source": [
    "plot_plate_vals(concs[np.ix_(EVEN_ROWS,EVEN_COLS)],\n",
    "                    annot_str= names[np.ix_(EVEN_ROWS,EVEN_COLS)],\n",
    "                    color_map='viridis',\n",
    "                    annot_fmt='')"
   ]
  },
  {
   "cell_type": "markdown",
   "metadata": {},
   "source": [
    "##### Library concentration heatmap, Plate 2"
   ]
  },
  {
   "cell_type": "code",
   "execution_count": null,
   "metadata": {
    "ExecuteTime": {
     "end_time": "2024-11-22T22:22:40.703973Z",
     "start_time": "2024-11-22T22:22:38.797408Z"
    }
   },
   "outputs": [],
   "source": [
    "plot_plate_vals(concs[np.ix_(EVEN_ROWS,ODD_COLS)],\n",
    "                    annot_str= names[np.ix_(EVEN_ROWS,ODD_COLS)],\n",
    "                    color_map='viridis',\n",
    "                    annot_fmt='')"
   ]
  },
  {
   "cell_type": "markdown",
   "metadata": {},
   "source": [
    "##### Library concentration heatmap, Plate 3"
   ]
  },
  {
   "cell_type": "code",
   "execution_count": null,
   "metadata": {
    "ExecuteTime": {
     "end_time": "2024-11-22T22:22:42.312398Z",
     "start_time": "2024-11-22T22:22:40.706777Z"
    }
   },
   "outputs": [],
   "source": [
    "plot_plate_vals(concs[np.ix_(ODD_ROWS,EVEN_COLS)],\n",
    "                    annot_str= names[np.ix_(ODD_ROWS,EVEN_COLS)],\n",
    "                    color_map='viridis',\n",
    "                    annot_fmt='')"
   ]
  },
  {
   "cell_type": "markdown",
   "metadata": {},
   "source": [
    "##### Library concentration heatmap, Plate 4"
   ]
  },
  {
   "cell_type": "code",
   "execution_count": null,
   "metadata": {
    "ExecuteTime": {
     "end_time": "2024-11-22T22:22:43.897464Z",
     "start_time": "2024-11-22T22:22:42.315735Z"
    }
   },
   "outputs": [],
   "source": [
    "plot_plate_vals(concs[np.ix_(ODD_ROWS,ODD_COLS)],\n",
    "                    annot_str= names[np.ix_(ODD_ROWS,ODD_COLS)],\n",
    "                    color_map='viridis',\n",
    "                    annot_fmt='')"
   ]
  },
  {
   "cell_type": "markdown",
   "metadata": {},
   "source": [
    "### Part 3 of 5, Step 4 of 4: Write plate and study info to files\n",
    "\n",
    "We want to keep all that useful information together in one place so that\n",
    "it can be easily parsed later. Enter the base (without extension) of the two output file names; the code will provide the extensions."
   ]
  },
  {
   "cell_type": "code",
   "execution_count": null,
   "metadata": {
    "ExecuteTime": {
     "end_time": "2024-11-22T22:22:59.533088Z",
     "start_time": "2024-11-22T22:22:59.530644Z"
    }
   },
   "outputs": [],
   "source": [
    "## INPUT\n",
    "plate_df_fbase = './test_output/QC/Tellseq_plate_df'\n",
    "expt_info_fbase = './test_output/QC/Tellseq_expt_info'"
   ]
  },
  {
   "cell_type": "markdown",
   "metadata": {},
   "source": [
    "Add final columns to plate df, then save to a file."
   ]
  },
  {
   "cell_type": "code",
   "execution_count": null,
   "metadata": {
    "ExecuteTime": {
     "end_time": "2024-11-22T22:23:21.769800Z",
     "start_time": "2024-11-22T22:23:21.752214Z"
    }
   },
   "outputs": [],
   "source": [
    "plate_df['sample sheet Sample_ID'] = \\\n",
    "    plate_df[PM_SAMPLE_KEY].map(bcl_scrub_name)\n",
    "plate_df[TELLSEQ_BARCODE_ID_KEY] = plate_df['i5 name']\n",
    "plate_df.head()"
   ]
  },
  {
   "cell_type": "code",
   "execution_count": null,
   "metadata": {
    "ExecuteTime": {
     "end_time": "2024-11-22T22:23:23.122630Z",
     "start_time": "2024-11-22T22:23:23.117851Z"
    }
   },
   "outputs": [],
   "source": [
    "plate_df_fp = f\"{plate_df_fbase}_A.txt\"\n",
    "if os.path.isfile(plate_df_fp):\n",
    "    print(\"Warning! This file exists already.\")"
   ]
  },
  {
   "cell_type": "code",
   "execution_count": null,
   "metadata": {
    "ExecuteTime": {
     "end_time": "2024-11-22T22:23:56.534331Z",
     "start_time": "2024-11-22T22:23:56.520838Z"
    }
   },
   "outputs": [],
   "source": [
    "plate_df.to_csv(plate_df_fp, sep='\\t')"
   ]
  },
  {
   "cell_type": "markdown",
   "metadata": {},
   "source": [
    "Save the experiment and study info so it doesn't have to be re-entered by hand in the next notebook."
   ]
  },
  {
   "cell_type": "code",
   "execution_count": null,
   "metadata": {
    "ExecuteTime": {
     "end_time": "2024-11-22T22:24:07.798700Z",
     "start_time": "2024-11-22T22:24:07.795508Z"
    }
   },
   "outputs": [],
   "source": [
    "expt_info_fp = f\"{expt_info_fbase}.yml\"\n",
    "if os.path.isfile(expt_info_fp):\n",
    "    print(\"Warning! This file exists already.\")"
   ]
  },
  {
   "cell_type": "code",
   "execution_count": null,
   "metadata": {
    "ExecuteTime": {
     "end_time": "2024-11-22T22:24:09.299780Z",
     "start_time": "2024-11-22T22:24:09.296632Z"
    }
   },
   "outputs": [],
   "source": [
    "expt_info = {\n",
    "    \"experiment_name\": expt_name,\n",
    "    \"studies\": studies_info\n",
    "}"
   ]
  },
  {
   "cell_type": "code",
   "execution_count": null,
   "metadata": {
    "ExecuteTime": {
     "end_time": "2024-11-22T22:24:10.160333Z",
     "start_time": "2024-11-22T22:24:10.155465Z"
    }
   },
   "outputs": [],
   "source": [
    "with open(expt_info_fp, 'w') as file:\n",
    "    yaml.dump(expt_info, file, default_flow_style=False)"
   ]
  }
 ],
 "metadata": {
  "kernelspec": {
   "display_name": "Python 3 (ipykernel)",
   "language": "python",
   "name": "python3"
  },
  "language_info": {
   "codemirror_mode": {
    "name": "ipython",
    "version": 3
   },
   "file_extension": ".py",
   "mimetype": "text/x-python",
   "name": "python",
   "nbconvert_exporter": "python",
   "pygments_lexer": "ipython3",
   "version": "3.9.19"
  },
  "toc": {
   "base_numbering": 1,
   "nav_menu": {
    "height": "473px",
    "width": "381px"
   },
   "number_sections": true,
   "sideBar": true,
   "skip_h1_title": false,
   "title_cell": "Table of Contents",
   "title_sidebar": "Contents",
   "toc_cell": false,
   "toc_position": {
    "height": "740px",
    "left": "0px",
    "right": "1407.6666259765625px",
    "top": "112px",
    "width": "211.705px"
   },
   "toc_section_display": "block",
   "toc_window_display": true
  },
  "widgets": {
   "application/vnd.jupyter.widget-state+json": {
    "state": {},
    "version_major": 2,
    "version_minor": 0
   }
  }
 },
 "nbformat": 4,
 "nbformat_minor": 4
}

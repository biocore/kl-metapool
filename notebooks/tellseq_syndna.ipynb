{
 "cells": [
  {
   "cell_type": "markdown",
   "id": "4173e1f3c9021aad",
   "metadata": {
    "collapsed": false
   },
   "source": [
    "# Tell-Seq Absolute Quant synDNA Calculations"
   ]
  },
  {
   "cell_type": "markdown",
   "id": "a61bbedbd683db20",
   "metadata": {
    "collapsed": false
   },
   "source": [
    "### Inputs\n",
    "\n",
    "**Enter the path to the tab-delimited text file of the current plate metadata:**"
   ]
  },
  {
   "cell_type": "code",
   "execution_count": 1,
   "id": "de6c6d6b9fad4ecc",
   "metadata": {
    "collapsed": false,
    "ExecuteTime": {
     "end_time": "2023-12-15T22:41:03.435195Z",
     "start_time": "2023-12-15T22:41:03.427754Z"
    }
   },
   "outputs": [],
   "source": [
    "plate_metadata_fp = \"\"\n",
    "# example:\n",
    "# plate_metadata_fp =  './test_output/QC/YYYY_MM_DD_Celeste_Adaptation_df.txt'"
   ]
  },
  {
   "cell_type": "markdown",
   "id": "e1fc549cb1fc412d",
   "metadata": {
    "collapsed": false
   },
   "source": [
    "**Enter the path where the syndna picklist file should be saved:**"
   ]
  },
  {
   "cell_type": "code",
   "execution_count": 2,
   "id": "4d3d3816912b3c2e",
   "metadata": {
    "collapsed": false,
    "ExecuteTime": {
     "end_time": "2023-12-15T22:41:03.447070Z",
     "start_time": "2023-12-15T22:41:03.438075Z"
    }
   },
   "outputs": [],
   "source": [
    "output_picklist_fp = \"\"\n",
    "# example:\n",
    "# output_picklist_fp = './test_output/Input_Norm/YYYY_MM_DD_Celeste_Adaptation_16-21_syndna_2.txt'"
   ]
  },
  {
   "cell_type": "markdown",
   "source": [
    "**Enter the path where the updated plate metadata file should be saved:**"
   ],
   "metadata": {
    "collapsed": false
   },
   "id": "fcee74dc88511bac"
  },
  {
   "cell_type": "code",
   "execution_count": 3,
   "outputs": [],
   "source": [
    "output_plate_fp = \"\"\n",
    "# example:\n",
    "# output_plate_fp = './test_output/tellseq/YYYY_MM_DD_Celeste_Adaptation_16-21_df_w_syndna.txt'"
   ],
   "metadata": {
    "collapsed": false,
    "ExecuteTime": {
     "end_time": "2023-12-15T22:41:03.482237Z",
     "start_time": "2023-12-15T22:41:03.450069Z"
    }
   },
   "id": "8721d7c9dfa0425"
  },
  {
   "cell_type": "markdown",
   "id": "c9668f44b3251e56",
   "metadata": {
    "collapsed": false
   },
   "source": [
    "ONLY update the following information *IF* the values have changed: "
   ]
  },
  {
   "cell_type": "code",
   "execution_count": 4,
   "id": "2a60447351658c3a",
   "metadata": {
    "collapsed": false,
    "ExecuteTime": {
     "end_time": "2023-12-15T22:41:03.482756Z",
     "start_time": "2023-12-15T22:41:03.454911Z"
    }
   },
   "outputs": [],
   "source": [
    "syndna_pool_number = \"1\"\n",
    "syndna_concentration = 2.22\n",
    "syndna_percentage = 5"
   ]
  },
  {
   "cell_type": "code",
   "execution_count": 5,
   "outputs": [],
   "source": [
    "well_col = 'Library Well'\n",
    "sample_name_key = 'Sample'"
   ],
   "metadata": {
    "collapsed": false,
    "ExecuteTime": {
     "end_time": "2023-12-15T22:41:03.484409Z",
     "start_time": "2023-12-15T22:41:03.477392Z"
    }
   },
   "id": "e7c48c49d1f73be1"
  },
  {
   "cell_type": "markdown",
   "id": "e308138c850be194",
   "metadata": {
    "collapsed": false
   },
   "source": [
    "### Calculations"
   ]
  },
  {
   "cell_type": "code",
   "execution_count": 6,
   "outputs": [],
   "source": [
    "import pandas as pd\n",
    "import os\n",
    "from metapool.metapool import *"
   ],
   "metadata": {
    "collapsed": false,
    "ExecuteTime": {
     "end_time": "2023-12-15T22:41:05.664026Z",
     "start_time": "2023-12-15T22:41:03.487347Z"
    }
   },
   "id": "65c6b3f2a88dba1"
  },
  {
   "cell_type": "code",
   "execution_count": 7,
   "id": "0887ac35-7699-4d86-8786-02bbb0d70fd4",
   "metadata": {
    "ExecuteTime": {
     "end_time": "2023-12-15T22:41:05.678663Z",
     "start_time": "2023-12-15T22:41:05.665786Z"
    }
   },
   "outputs": [],
   "source": [
    "# Import and define df\n",
    "plate_df = pd.read_csv(plate_metadata_fp, sep='\\t')"
   ]
  },
  {
   "cell_type": "code",
   "execution_count": 8,
   "id": "948a91b6-ff06-422a-8621-ec08f9e9a4f0",
   "metadata": {
    "scrolled": true,
    "ExecuteTime": {
     "end_time": "2023-12-15T22:41:05.702030Z",
     "start_time": "2023-12-15T22:41:05.676787Z"
    }
   },
   "outputs": [
    {
     "data": {
      "text/plain": "   Unnamed: 0         Sample Row  Col  Blank                 Project Plate  \\\n0           0   41N.Month6.1   A    1  False  Celeste_Adaptation_12986_P16   \n1           1  41N.Month6.13   C    1  False  Celeste_Adaptation_12986_P16   \n2           2   41L.Month6.1   E    1  False  Celeste_Adaptation_12986_P16   \n3           3  41L.Month6.13   G    1  False  Celeste_Adaptation_12986_P16   \n4           4  41LL.Month6.1   I    1  False  Celeste_Adaptation_12986_P16   \n\n               Project Name           Compressed Plate Name well_id_96 Well  \\\n0  Celeste_Adaptation_12986  Celeste_Adaptation_12986_16-21         A1   A1   \n1  Celeste_Adaptation_12986  Celeste_Adaptation_12986_16-21         B1   C1   \n2  Celeste_Adaptation_12986  Celeste_Adaptation_12986_16-21         C1   E1   \n3  Celeste_Adaptation_12986  Celeste_Adaptation_12986_16-21         D1   G1   \n4  Celeste_Adaptation_12986  Celeste_Adaptation_12986_16-21         E1   I1   \n\n   ...  i5 well     i5 plate       i7 name i7 sequence  i7 well     i7 plate  \\\n0  ...       A1  iTru5_plate  iTru7_112_12    ACGATGAC      G24  iTru7_plate   \n1  ...       A3  iTru5_plate  iTru7_113_01    CGTTATGC       I2  iTru7_plate   \n2  ...       A5  iTru5_plate  iTru7_113_02    GATACTGG       I4  iTru7_plate   \n3  ...       A7  iTru5_plate  iTru7_113_03    CTACTTGG       I6  iTru7_plate   \n4  ...       A9  iTru5_plate  iTru7_113_04    CATACCAC       I8  iTru7_plate   \n\n   MiniPico Library DNA Concentration  MiniPico Library Concentration  \\\n0                               0.566                        1.715152   \n1                               0.831                        2.518182   \n2                               1.078                        3.266667   \n3                               1.023                        3.100000   \n4                               1.099                        3.330303   \n\n   Input DNA  MiniPico Pooled Volume  \n0   4.999620              494.791667  \n1   4.997580              494.791667  \n2   5.002105              494.791667  \n3   5.001975              494.791667  \n4   5.002920              494.791667  \n\n[5 rows x 33 columns]",
      "text/html": "<div>\n<style scoped>\n    .dataframe tbody tr th:only-of-type {\n        vertical-align: middle;\n    }\n\n    .dataframe tbody tr th {\n        vertical-align: top;\n    }\n\n    .dataframe thead th {\n        text-align: right;\n    }\n</style>\n<table border=\"1\" class=\"dataframe\">\n  <thead>\n    <tr style=\"text-align: right;\">\n      <th></th>\n      <th>Unnamed: 0</th>\n      <th>Sample</th>\n      <th>Row</th>\n      <th>Col</th>\n      <th>Blank</th>\n      <th>Project Plate</th>\n      <th>Project Name</th>\n      <th>Compressed Plate Name</th>\n      <th>well_id_96</th>\n      <th>Well</th>\n      <th>...</th>\n      <th>i5 well</th>\n      <th>i5 plate</th>\n      <th>i7 name</th>\n      <th>i7 sequence</th>\n      <th>i7 well</th>\n      <th>i7 plate</th>\n      <th>MiniPico Library DNA Concentration</th>\n      <th>MiniPico Library Concentration</th>\n      <th>Input DNA</th>\n      <th>MiniPico Pooled Volume</th>\n    </tr>\n  </thead>\n  <tbody>\n    <tr>\n      <th>0</th>\n      <td>0</td>\n      <td>41N.Month6.1</td>\n      <td>A</td>\n      <td>1</td>\n      <td>False</td>\n      <td>Celeste_Adaptation_12986_P16</td>\n      <td>Celeste_Adaptation_12986</td>\n      <td>Celeste_Adaptation_12986_16-21</td>\n      <td>A1</td>\n      <td>A1</td>\n      <td>...</td>\n      <td>A1</td>\n      <td>iTru5_plate</td>\n      <td>iTru7_112_12</td>\n      <td>ACGATGAC</td>\n      <td>G24</td>\n      <td>iTru7_plate</td>\n      <td>0.566</td>\n      <td>1.715152</td>\n      <td>4.999620</td>\n      <td>494.791667</td>\n    </tr>\n    <tr>\n      <th>1</th>\n      <td>1</td>\n      <td>41N.Month6.13</td>\n      <td>C</td>\n      <td>1</td>\n      <td>False</td>\n      <td>Celeste_Adaptation_12986_P16</td>\n      <td>Celeste_Adaptation_12986</td>\n      <td>Celeste_Adaptation_12986_16-21</td>\n      <td>B1</td>\n      <td>C1</td>\n      <td>...</td>\n      <td>A3</td>\n      <td>iTru5_plate</td>\n      <td>iTru7_113_01</td>\n      <td>CGTTATGC</td>\n      <td>I2</td>\n      <td>iTru7_plate</td>\n      <td>0.831</td>\n      <td>2.518182</td>\n      <td>4.997580</td>\n      <td>494.791667</td>\n    </tr>\n    <tr>\n      <th>2</th>\n      <td>2</td>\n      <td>41L.Month6.1</td>\n      <td>E</td>\n      <td>1</td>\n      <td>False</td>\n      <td>Celeste_Adaptation_12986_P16</td>\n      <td>Celeste_Adaptation_12986</td>\n      <td>Celeste_Adaptation_12986_16-21</td>\n      <td>C1</td>\n      <td>E1</td>\n      <td>...</td>\n      <td>A5</td>\n      <td>iTru5_plate</td>\n      <td>iTru7_113_02</td>\n      <td>GATACTGG</td>\n      <td>I4</td>\n      <td>iTru7_plate</td>\n      <td>1.078</td>\n      <td>3.266667</td>\n      <td>5.002105</td>\n      <td>494.791667</td>\n    </tr>\n    <tr>\n      <th>3</th>\n      <td>3</td>\n      <td>41L.Month6.13</td>\n      <td>G</td>\n      <td>1</td>\n      <td>False</td>\n      <td>Celeste_Adaptation_12986_P16</td>\n      <td>Celeste_Adaptation_12986</td>\n      <td>Celeste_Adaptation_12986_16-21</td>\n      <td>D1</td>\n      <td>G1</td>\n      <td>...</td>\n      <td>A7</td>\n      <td>iTru5_plate</td>\n      <td>iTru7_113_03</td>\n      <td>CTACTTGG</td>\n      <td>I6</td>\n      <td>iTru7_plate</td>\n      <td>1.023</td>\n      <td>3.100000</td>\n      <td>5.001975</td>\n      <td>494.791667</td>\n    </tr>\n    <tr>\n      <th>4</th>\n      <td>4</td>\n      <td>41LL.Month6.1</td>\n      <td>I</td>\n      <td>1</td>\n      <td>False</td>\n      <td>Celeste_Adaptation_12986_P16</td>\n      <td>Celeste_Adaptation_12986</td>\n      <td>Celeste_Adaptation_12986_16-21</td>\n      <td>E1</td>\n      <td>I1</td>\n      <td>...</td>\n      <td>A9</td>\n      <td>iTru5_plate</td>\n      <td>iTru7_113_04</td>\n      <td>CATACCAC</td>\n      <td>I8</td>\n      <td>iTru7_plate</td>\n      <td>1.099</td>\n      <td>3.330303</td>\n      <td>5.002920</td>\n      <td>494.791667</td>\n    </tr>\n  </tbody>\n</table>\n<p>5 rows × 33 columns</p>\n</div>"
     },
     "execution_count": 8,
     "metadata": {},
     "output_type": "execute_result"
    }
   ],
   "source": [
    "# Check that plate_df looks as expected\n",
    "plate_df.head()"
   ]
  },
  {
   "cell_type": "code",
   "execution_count": 9,
   "id": "0f712ae8-f911-46da-b37a-a9ae48ff1458",
   "metadata": {
    "ExecuteTime": {
     "end_time": "2023-12-15T22:41:05.712060Z",
     "start_time": "2023-12-15T22:41:05.701297Z"
    }
   },
   "outputs": [],
   "source": [
    "# Check that needed columns are present in file\n",
    "required_cols = {sample_name_key, well_col, INPUT_DNA_KEY, NORMALIZED_DNA_VOL_KEY}\n",
    "present_required_cols = required_cols.intersection(set(plate_df.columns))\n",
    "if present_required_cols != required_cols:\n",
    "    print(\"Cannot proceed because missing required columns: {}\".format(\n",
    "        required_cols - present_required_cols))"
   ]
  },
  {
   "cell_type": "code",
   "execution_count": 10,
   "outputs": [],
   "source": [
    "plate_df = add_syndna(plate_df,syndna_pool_number,syndna_concentration, syndna_percentage)"
   ],
   "metadata": {
    "collapsed": false,
    "ExecuteTime": {
     "end_time": "2023-12-15T22:41:05.712682Z",
     "start_time": "2023-12-15T22:41:05.704864Z"
    }
   },
   "id": "28881152f88ed4f8"
  },
  {
   "cell_type": "code",
   "execution_count": 11,
   "outputs": [],
   "source": [
    "syndna_well='A1'\n",
    "syndna_plate = 'synDNA plate'\n",
    "syndna_picklist = format_dna_norm_picklist(np.array(plate_df[SYNDNA_VOL_KEY]),\n",
    "                                           np.zeros(plate_df.shape[0]),\n",
    "                                           np.repeat(syndna_well,plate_df.shape[0]),\n",
    "                                           dest_wells = np.array(plate_df[well_col]),\n",
    "                                           sample_names = np.array(plate_df[sample_name_key]),\n",
    "                                           sample_plates = np.repeat(syndna_plate,plate_df.shape[0]))"
   ],
   "metadata": {
    "collapsed": false,
    "ExecuteTime": {
     "end_time": "2023-12-15T22:41:05.723454Z",
     "start_time": "2023-12-15T22:41:05.715884Z"
    }
   },
   "id": "60b9b1de029d1d63"
  },
  {
   "cell_type": "markdown",
   "source": [
    "### Outputs"
   ],
   "metadata": {
    "collapsed": false
   },
   "id": "2900e8c90ae7a1eb"
  },
  {
   "cell_type": "code",
   "execution_count": 12,
   "outputs": [
    {
     "name": "stdout",
     "output_type": "stream",
     "text": [
      "Warning! File './test_output/Input_Norm/YYYY_MM_DD_Celeste_Adaptation_16-21_syndna_2.txt' exists already. Do you really want to overwrite it?\n"
     ]
    }
   ],
   "source": [
    "if os.path.isfile(output_picklist_fp):\n",
    "    print(f\"Warning! File '{output_picklist_fp}' exists already. Do you really want to overwrite it?\")"
   ],
   "metadata": {
    "collapsed": false,
    "ExecuteTime": {
     "end_time": "2023-12-15T22:41:05.740318Z",
     "start_time": "2023-12-15T22:41:05.719869Z"
    }
   },
   "id": "9b062c7c735c727e"
  },
  {
   "cell_type": "code",
   "execution_count": 13,
   "outputs": [
    {
     "name": "stdout",
     "output_type": "stream",
     "text": [
      "Sample\tSource Plate Name\tSource Plate Type\tSource Well\tConcentration\tTransfer Volume\tDestination Plate Name\tDestination Well\r\n",
      "41N.Month6.1\tsynDNA plate\t384PP_AQ_BP2\tA1\tnan\t112.60405405405405\tNormalizedDNA\tA1\r\n",
      "41N.Month6.13\tsynDNA plate\t384PP_AQ_BP2\tA1\tnan\t112.55810810810812\tNormalizedDNA\tC1\r\n",
      "41L.Month6.1\tsynDNA plate\t384PP_AQ_BP2\tA1\tnan\t112.66002252252251\tNormalizedDNA\tE1\r\n",
      "41L.Month6.13\tsynDNA plate\t384PP_AQ_BP2\tA1\tnan\t112.6570945945946\tNormalizedDNA\tG1\r\n",
      "41LL.Month6.1\tsynDNA plate\t384PP_AQ_BP2\tA1\tnan\t112.67837837837838\tNormalizedDNA\tI1\r\n",
      "41LL.Month6.13\tsynDNA plate\t384PP_AQ_BP2\tA1\tnan\t112.60979729729729\tNormalizedDNA\tK1\r\n",
      "41R.Month6.1\tsynDNA plate\t384PP_AQ_BP2\tA1\tnan\t112.53766891891891\tNormalizedDNA\tM1\r\n",
      "41R.Month6.13\tsynDNA plate\t384PP_AQ_BP2\tA1\tnan\t112.64594594594594\tNormalizedDNA\tO1\r\n",
      "41N.Month6.2\tsynDNA plate\t384PP_AQ_BP2\tA1\tnan\t112.57235360360359\tNormalizedDNA\tA3\r\n"
     ]
    }
   ],
   "source": [
    "# Export picklist\n",
    "with open(output_picklist_fp, 'w') as f:\n",
    "    f.write(syndna_picklist)\n",
    "!head {output_picklist_fp}"
   ],
   "metadata": {
    "collapsed": false,
    "ExecuteTime": {
     "end_time": "2023-12-15T22:41:05.861793Z",
     "start_time": "2023-12-15T22:41:05.724982Z"
    }
   },
   "id": "8d0ce69d0ceac105"
  },
  {
   "cell_type": "code",
   "execution_count": 14,
   "id": "00c6176e-232e-4af1-ab31-f5be8f275f63",
   "metadata": {
    "ExecuteTime": {
     "end_time": "2023-12-15T22:41:06.007202Z",
     "start_time": "2023-12-15T22:41:05.863991Z"
    }
   },
   "outputs": [
    {
     "name": "stdout",
     "output_type": "stream",
     "text": [
      "Unnamed: 0\tSample\tRow\tCol\tBlank\tProject Plate\tProject Name\tCompressed Plate Name\twell_id_96\tWell\tSample DNA Concentration\textracted_gdna_concentration_ng_ul\tDiluted\tLibrary Well\tcontains_replicates\tNormalized DNA volume\tNormalized water volume\tsyndna_pool_number\tindex\tindex combo\tindex combo seq\ti5 name\ti5 sequence\ti5 well\ti5 plate\ti7 name\ti7 sequence\ti7 well\ti7 plate\tMiniPico Library DNA Concentration\tMiniPico Library Concentration\tInput DNA\tMiniPico Pooled Volume\tsynDNA volume\tmass_syndna_input_ng\r\n",
      "0\t41N.Month6.1\tA\t1\tFalse\tCeleste_Adaptation_12986_P16\tCeleste_Adaptation_12986\tCeleste_Adaptation_12986_16-21\tA1\tA1\t2.472\t2.472\tFalse\tA1\tFalse\t2022.5\t1477.5\t1\t54912\t54912\tACCGACAAACGATGAC\tiTru5_01_A\tACCGACAA\tA1\tiTru5_plate\tiTru7_112_12\tACGATGAC\tG24\tiTru7_plate\t0.566\t1.715151515151515\t4.99962\t494.7916666666667\t112.60405405405405\t0.249981\r\n",
      "1\t41N.Month6.13\tC\t1\tFalse\tCeleste_Adaptation_12986_P16\tCeleste_Adaptation_12986\tCeleste_Adaptation_12986_16-21\tB1\tC1\t2.282\t2.282\tFalse\tC1\tFalse\t2190.0\t1310.0\t1\t54913\t54913\tCTTCGCAACGTTATGC\tiTru5_02_A\tCTTCGCAA\tA3\tiTru5_plate\tiTru7_113_01\tCGTTATGC\tI2\tiTru7_plate\t0.831\t2.518181818181818\t4.99758\t494.7916666666667\t112.55810810810812\t0.24987900000000002\r\n",
      "2\t41L.Month6.1\tE\t1\tFalse\tCeleste_Adaptation_12986_P16\tCeleste_Adaptation_12986\tCeleste_Adaptation_12986_16-21\tC1\tE1\t2.206\t2.206\tFalse\tE1\tFalse\t2267.5\t1232.5\t1\t54914\t54914\tAACACCACGATACTGG\tiTru5_03_A\tAACACCAC\tA5\tiTru5_plate\tiTru7_113_02\tGATACTGG\tI4\tiTru7_plate\t1.078\t3.266666666666667\t5.002104999999999\t494.7916666666667\t112.66002252252251\t0.25010525\r\n",
      "3\t41L.Month6.13\tG\t1\tFalse\tCeleste_Adaptation_12986_P16\tCeleste_Adaptation_12986\tCeleste_Adaptation_12986_16-21\tD1\tG1\t2.585\t2.585\tFalse\tG1\tFalse\t1935.0\t1565.0\t1\t54915\t54915\tCGTATCTCCTACTTGG\tiTru5_04_A\tCGTATCTC\tA7\tiTru5_plate\tiTru7_113_03\tCTACTTGG\tI6\tiTru7_plate\t1.023\t3.1\t5.001975000000001\t494.7916666666667\t112.6570945945946\t0.25009875000000004\r\n",
      "4\t41LL.Month6.1\tI\t1\tFalse\tCeleste_Adaptation_12986_P16\tCeleste_Adaptation_12986\tCeleste_Adaptation_12986_16-21\tE1\tI1\t3.207\t3.207\tFalse\tI1\tFalse\t1560.0\t1940.0\t1\t54916\t54916\tGGTACGAACATACCAC\tiTru5_05_A\tGGTACGAA\tA9\tiTru5_plate\tiTru7_113_04\tCATACCAC\tI8\tiTru7_plate\t1.099\t3.33030303030303\t5.0029200000000005\t494.7916666666667\t112.67837837837838\t0.25014600000000003\r\n",
      "5\t41LL.Month6.13\tK\t1\tFalse\tCeleste_Adaptation_12986_P16\tCeleste_Adaptation_12986\tCeleste_Adaptation_12986_16-21\tF1\tK1\t2.985\t2.985\tFalse\tK1\tFalse\t1675.0\t1825.0\t1\t54917\t54917\tCGATCGATACATTGCG\tiTru5_06_A\tCGATCGAT\tA11\tiTru5_plate\tiTru7_113_05\tACATTGCG\tI10\tiTru7_plate\t1.056\t3.2\t4.999875\t494.7916666666667\t112.60979729729729\t0.24999375000000001\r\n",
      "6\t41R.Month6.1\tM\t1\tFalse\tCeleste_Adaptation_12986_P16\tCeleste_Adaptation_12986\tCeleste_Adaptation_12986_16-21\tG1\tM1\t3.851\t3.851\tFalse\tM1\tFalse\t1297.5\t2202.5\t1\t54918\t54918\tAAGACACCTGATCGGA\tiTru5_07_A\tAAGACACC\tA13\tiTru5_plate\tiTru7_113_06\tTGATCGGA\tI12\tiTru7_plate\t1.22\t3.696969696969697\t4.9966725\t494.7916666666667\t112.53766891891891\t0.249833625\r\n",
      "7\t41R.Month6.13\tO\t1\tFalse\tCeleste_Adaptation_12986_P16\tCeleste_Adaptation_12986\tCeleste_Adaptation_12986_16-21\tH1\tO1\t3.368\t3.368\tFalse\tO1\tFalse\t1485.0\t2015.0\t1\t54919\t54919\tCATCTGCTAAGTGTCG\tiTru5_08_A\tCATCTGCT\tA15\tiTru5_plate\tiTru7_113_07\tAAGTGTCG\tI14\tiTru7_plate\t1.139\t3.451515151515151\t5.00148\t494.7916666666667\t112.64594594594594\t0.250074\r\n",
      "8\t41N.Month6.2\tA\t3\tFalse\tCeleste_Adaptation_12986_P16\tCeleste_Adaptation_12986\tCeleste_Adaptation_12986_16-21\tA2\tA3\t2.735\t2.735\tFalse\tA3\tFalse\t1827.5\t1672.5\t1\t54920\t54920\tCTCTCAGAGAACGCTT\tiTru5_09_A\tCTCTCAGA\tA17\tiTru5_plate\tiTru7_113_08\tGAACGCTT\tI16\tiTru7_plate\t0.68\t2.060606060606061\t4.998212499999999\t494.7916666666667\t112.57235360360359\t0.24991062499999997\r\n"
     ]
    }
   ],
   "source": [
    "# Export plate metadata\n",
    "os.makedirs(os.path.dirname(output_plate_fp), exist_ok=True)\n",
    "plate_df.to_csv(output_plate_fp, sep='\\t', index=False)\n",
    "!head {output_plate_fp}"
   ]
  }
 ],
 "metadata": {
  "kernelspec": {
   "display_name": "Python 3 (ipykernel)",
   "language": "python",
   "name": "python3"
  },
  "language_info": {
   "codemirror_mode": {
    "name": "ipython",
    "version": 3
   },
   "file_extension": ".py",
   "mimetype": "text/x-python",
   "name": "python",
   "nbconvert_exporter": "python",
   "pygments_lexer": "ipython3",
   "version": "3.12.0"
  }
 },
 "nbformat": 4,
 "nbformat_minor": 5
}

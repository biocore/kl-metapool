{
 "cells": [
  {
   "cell_type": "code",
   "execution_count": 3,
   "metadata": {},
   "outputs": [
    {
     "name": "stdout",
     "output_type": "stream",
     "text": [
      "Last updated: 2023-04-21T12:06:48.586344-07:00\n",
      "\n",
      "Python implementation: CPython\n",
      "Python version       : 3.9.16\n",
      "IPython version      : 8.12.0\n",
      "\n",
      "metapool    : 0+untagged.137.g8537cf6\n",
      "sample_sheet: 0.13.0\n",
      "openpyxl    : 3.1.2\n",
      "\n",
      "Compiler    : Clang 14.0.6 \n",
      "OS          : Darwin\n",
      "Release     : 21.6.0\n",
      "Machine     : x86_64\n",
      "Processor   : i386\n",
      "CPU cores   : 16\n",
      "Architecture: 64bit\n",
      "\n",
      "Hostname: Applejack.lan\n",
      "\n"
     ]
    }
   ],
   "source": [
    "%reload_ext watermark\n",
    "from metapool import KLSampleSheet, quiet_validate_and_scrub_sample_sheet\n",
    "%watermark -i -v -iv -m -h -p metapool,sample_sheet,openpyxl -u"
   ]
  },
  {
   "cell_type": "markdown",
   "metadata": {},
   "source": [
    "# Knight Lab Sample Sheet Validation\n",
    "\n",
    "This notebook is designed to validate and troubleshoot sample sheets of externally generated plates.\n",
    "\n",
    "The steps are as follows:\n",
    "\n",
    "1. Parse sample sheet.\n",
    "1. Check that all the required columns in the `Data` section are present.\n",
    "1. Check that the `Bioinformatics` and `Contact` section are present.\n",
    "1. Validate and scrub sample identifiers so they are compliant with Illumina's `bcl2fastq` software.\n",
    "    - Automatically replace non-allowed characters for underscores.\n",
    "    - Flag non-unique sample identifiers.\n",
    "1. Check that lane values are not empty.\n",
    "1. Check that projects in the `Data`, `Bioinformatics` and `Contact` sections are all valid.\n",
    "1. Validate the Qiita study identifier suffix at the end of every project name.\n",
    "1. Save the parsed file in a compliant format.\n",
    "\n",
    "**Note**: warning and error messages (text highlighted in red) will inform you of any problems that may come up."
   ]
  },
  {
   "cell_type": "markdown",
   "metadata": {},
   "source": [
    "**Enter the correct path to the sample sheet you want to validate**, replace the path to `good-sample-sheet.csv` for the location of the sheet you want to validate."
   ]
  },
  {
   "cell_type": "code",
   "execution_count": 6,
   "metadata": {},
   "outputs": [
    {
     "name": "stderr",
     "output_type": "stream",
     "text": [
      "/Users/ccowart/Gail/metagenomics_pooling_notebook/metapool/sample_sheet.py:178: UserWarning: Comments at the beginning of the sample sheet are no longer supported. This information will be ignored. Please use the Contact section instead\n",
      "  warnings.warn(message)\n",
      "/Users/ccowart/Gail/metagenomics_pooling_notebook/metapool/sample_sheet.py:279: UserWarning: column 'sample_plate' changed to 'Sample_Plate'\n",
      "  warnings.warn(msg)\n",
      "/Users/ccowart/Gail/metagenomics_pooling_notebook/metapool/sample_sheet.py:279: UserWarning: column 'well_description' changed to 'Well_description'\n",
      "  warnings.warn(msg)\n"
     ]
    }
   ],
   "source": [
    "# sheet = KLSampleSheet('../metapool/tests/data/good-sample-sheet.csv')\n",
    "sheet = KLSampleSheet('/Users/ccowart/Gail/2.FinRisk_12142_171211_GA_FIX_I8.csv')\n",
    "msgs, valid_sheet = quiet_validate_and_scrub_sample_sheet(sheet)"
   ]
  },
  {
   "cell_type": "markdown",
   "metadata": {},
   "source": [
    "If there are any error messages, please correct the sample sheet and re-run the cell above. Once you are happy with the results run the cell below, otherwise you will see an exception below."
   ]
  },
  {
   "cell_type": "code",
   "execution_count": 7,
   "metadata": {},
   "outputs": [
    {
     "data": {
      "text/plain": [
       "[]"
      ]
     },
     "execution_count": 7,
     "metadata": {},
     "output_type": "execute_result"
    }
   ],
   "source": [
    "msgs"
   ]
  },
  {
   "cell_type": "code",
   "execution_count": 8,
   "metadata": {},
   "outputs": [
    {
     "data": {
      "text/plain": [
       "['Lane',\n",
       " 'Sample_ID',\n",
       " 'Sample_Name',\n",
       " 'Sample_Plate',\n",
       " 'Sample_Well',\n",
       " 'I7_Index_ID',\n",
       " 'index',\n",
       " 'I5_Index_ID',\n",
       " 'index2',\n",
       " 'Sample_Project',\n",
       " 'Well_description']"
      ]
     },
     "execution_count": 8,
     "metadata": {},
     "output_type": "execute_result"
    }
   ],
   "source": [
    "#_KL_SAMPLE_SHEET_DATA_COLUMNS\n",
    "sheet.all_sample_keys"
   ]
  },
  {
   "cell_type": "code",
   "execution_count": 81,
   "metadata": {},
   "outputs": [],
   "source": [
    "d2 = {'well_description': 'Well_description', 'sample_plate': 'Sample_Plate'}\n"
   ]
  },
  {
   "cell_type": "code",
   "execution_count": 82,
   "metadata": {},
   "outputs": [
    {
     "name": "stdout",
     "output_type": "stream",
     "text": [
      "[\"column 'sample_plate' changed to 'Sample_Plate'\", \"column 'well_description' changed to 'Well_description'\"]\n"
     ]
    }
   ],
   "source": [
    "# assume all samples represent an identical list and order of columns.\n",
    "obs = sheet._samples[0]._store\n",
    "warning_messages = []\n",
    "for lowercased_key in obs:\n",
    "    column_name, value = obs[lowercased_key]\n",
    "    if column_name in d2:\n",
    "        warning_messages.append(\"column '%s' changed to '%s'\" % (column_name, d2[column_name]))\n",
    "        \n",
    "if warning_messages:\n",
    "    print(warning_messages)\n",
    "else:\n",
    "    print('all clear')"
   ]
  },
  {
   "cell_type": "code",
   "execution_count": 83,
   "metadata": {},
   "outputs": [],
   "source": [
    "if warning_messages:\n",
    "    \n",
    "    # if differences in column names were found,\n",
    "    # overwrite the values in each Sample object.\n",
    "    import collections\n",
    "\n",
    "    for i in range(0, len(sheet._samples)):\n",
    "        obs = sheet._samples[i]._store\n",
    "        d = collections.OrderedDict()\n",
    "\n",
    "        for lowercased_key in obs:\n",
    "            k, v = obs[lowercased_key]\n",
    "            if k in d2:\n",
    "                d[lowercased_key] = (d2[k], v)\n",
    "            else:\n",
    "                d[lowercased_key] = (k,v)\n",
    "\n",
    "        sheet._samples[i]._store = d\n",
    "\n",
    "\n",
    "\n",
    "        \n",
    "\n",
    "        \n",
    "        \n",
    "    \n"
   ]
  },
  {
   "cell_type": "code",
   "execution_count": 84,
   "metadata": {},
   "outputs": [
    {
     "data": {
      "text/plain": [
       "OrderedDict([('lane', ('Lane', '2')),\n",
       "             ('sample_id', ('Sample_ID', '401201325-5')),\n",
       "             ('sample_name', ('Sample_Name', '4012013255')),\n",
       "             ('sample_plate', ('Sample_Plate', 'Finrisk_77-80')),\n",
       "             ('sample_well', ('Sample_Well', 'J12')),\n",
       "             ('i7_index_id', ('I7_Index_ID', 'iTru7_110_07')),\n",
       "             ('index', ('index', 'ACAGCAAC')),\n",
       "             ('i5_index_id', ('I5_Index_ID', 'iTru5_24_E')),\n",
       "             ('index2', ('index2', 'AGATACGG')),\n",
       "             ('sample_project', ('Sample_Project', 'FinRisk_12142')),\n",
       "             ('well_description',\n",
       "              ('Well_description', 'FinRisk_12142_Finrisk_77-80_J12'))])"
      ]
     },
     "execution_count": 84,
     "metadata": {},
     "output_type": "execute_result"
    }
   ],
   "source": [
    "sheet._samples[0]._store"
   ]
  },
  {
   "cell_type": "code",
   "execution_count": 47,
   "metadata": {},
   "outputs": [
    {
     "data": {
      "text/plain": [
       "OrderedDict([('lane', ('Lane', '2')),\n",
       "             ('sample_id', ('Sample_ID', '401206491-2')),\n",
       "             ('sample_name', ('Sample_Name', '4012064912')),\n",
       "             ('sample_plate', ('Sample_Plate', 'Finrisk_77-80')),\n",
       "             ('sample_well', ('Sample_Well', 'J14')),\n",
       "             ('i7_index_id', ('I7_Index_ID', 'iTru7_111_04')),\n",
       "             ('index', ('index', 'TCAGACGA')),\n",
       "             ('i5_index_id', ('I5_Index_ID', 'iTru5_19_E')),\n",
       "             ('index2', ('index2', 'GTATTCCG')),\n",
       "             ('sample_project', ('Sample_Project', 'FinRisk_12142')),\n",
       "             ('well_description',\n",
       "              ('Well_description', 'FinRisk_12142_Finrisk_77-80_J14'))])"
      ]
     },
     "execution_count": 47,
     "metadata": {},
     "output_type": "execute_result"
    }
   ],
   "source": [
    "d"
   ]
  },
  {
   "cell_type": "code",
   "execution_count": 27,
   "metadata": {},
   "outputs": [
    {
     "ename": "AttributeError",
     "evalue": "'KLSampleSheet' object has no attribute 'sample_header'",
     "output_type": "error",
     "traceback": [
      "\u001b[0;31m---------------------------------------------------------------------------\u001b[0m",
      "\u001b[0;31mAttributeError\u001b[0m                            Traceback (most recent call last)",
      "Cell \u001b[0;32mIn[27], line 1\u001b[0m\n\u001b[0;32m----> 1\u001b[0m \u001b[43msheet\u001b[49m\u001b[38;5;241;43m.\u001b[39;49m\u001b[43msample_header\u001b[49m\n",
      "\u001b[0;31mAttributeError\u001b[0m: 'KLSampleSheet' object has no attribute 'sample_header'"
     ]
    }
   ],
   "source": [
    "sheet.sample_header"
   ]
  },
  {
   "cell_type": "code",
   "execution_count": null,
   "metadata": {},
   "outputs": [],
   "source": []
  }
 ],
 "metadata": {
  "kernelspec": {
   "display_name": "Python 3 (ipykernel)",
   "language": "python",
   "name": "python3"
  },
  "language_info": {
   "codemirror_mode": {
    "name": "ipython",
    "version": 3
   },
   "file_extension": ".py",
   "mimetype": "text/x-python",
   "name": "python",
   "nbconvert_exporter": "python",
   "pygments_lexer": "ipython3",
   "version": "3.9.16"
  },
  "toc": {
   "base_numbering": 1,
   "nav_menu": {},
   "number_sections": true,
   "sideBar": true,
   "skip_h1_title": false,
   "title_cell": "Table of Contents",
   "title_sidebar": "Contents",
   "toc_cell": false,
   "toc_position": {},
   "toc_section_display": true,
   "toc_window_display": false
  }
 },
 "nbformat": 4,
 "nbformat_minor": 4
}

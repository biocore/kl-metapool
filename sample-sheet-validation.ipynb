{
 "cells": [
  {
   "cell_type": "code",
   "execution_count": null,
   "metadata": {},
   "outputs": [],
   "source": [
    "from metapool import KLSampleSheet, validate_sample_sheet"
   ]
  },
  {
   "cell_type": "markdown",
   "metadata": {},
   "source": [
    "# Knight Lab Sample Sheet Validation\n",
    "\n",
    "This notebook is designed to validate and troubleshoot sample sheets of externally generated plates.\n",
    "\n",
    "The steps are as follows:\n",
    "\n",
    "1. Parse sample sheet.\n",
    "1. Check that all the required columns in the `Data` section are present.\n",
    "1. Check that the `Bioinformatics` and `Contact` section are present.\n",
    "1. Validate and scrub sample identifiers so they are compliant with Illumina's `bcl2fastq` software.\n",
    "    - Automatically replace non-allowed characters for underscores.\n",
    "    - Flag non-unique sample identifiers.\n",
    "1. Check that lane values are not empty.\n",
    "1. Check that projects in the `Data`, `Bioinformatics` and `Contact` sections are all valid.\n",
    "1. Validate the Qiita study identifier suffix at the end of every project name.\n",
    "1. Save the parsed file in a compliant format.\n",
    "\n",
    "**Note**: warning and error messages (text highlighted in red) will inform you of any problems that may come up."
   ]
  },
  {
   "cell_type": "markdown",
   "metadata": {},
   "source": [
    "**Enter the correct path to the sample sheet you want to validate**, replace the path to `good-sample-sheet.csv` for the location of the sheet you want to validate."
   ]
  },
  {
   "cell_type": "code",
   "execution_count": null,
   "metadata": {},
   "outputs": [],
   "source": [
    "sheet = KLSampleSheet('metapool/tests/data/good-sample-sheet.csv')\n",
    "valid_sheet = validate_sample_sheet(sheet)"
   ]
  },
  {
   "cell_type": "markdown",
   "metadata": {},
   "source": [
    "If there are any error messages, please correct the sample sheet and re-run the cell above. Once you are happy with the results run the cell below, otherwise you will see an exception below."
   ]
  },
  {
   "cell_type": "code",
   "execution_count": null,
   "metadata": {},
   "outputs": [],
   "source": [
    "with open('validated-sample-sheet.csv', 'w') as f:\n",
    "    valid_sheet.write(f)"
   ]
  }
 ],
 "metadata": {
  "kernelspec": {
   "display_name": "Python 3",
   "language": "python",
   "name": "python3"
  },
  "language_info": {
   "codemirror_mode": {
    "name": "ipython",
    "version": 3
   },
   "file_extension": ".py",
   "mimetype": "text/x-python",
   "name": "python",
   "nbconvert_exporter": "python",
   "pygments_lexer": "ipython3",
   "version": "3.8.1"
  },
  "toc": {
   "base_numbering": 1,
   "nav_menu": {},
   "number_sections": true,
   "sideBar": true,
   "skip_h1_title": false,
   "title_cell": "Table of Contents",
   "title_sidebar": "Contents",
   "toc_cell": false,
   "toc_position": {},
   "toc_section_display": true,
   "toc_window_display": false
  }
 },
 "nbformat": 4,
 "nbformat_minor": 4
}
